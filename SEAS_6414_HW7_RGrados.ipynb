{
 "cells": [
  {
   "cell_type": "code",
   "execution_count": null,
   "id": "00feafde",
   "metadata": {},
   "outputs": [],
   "source": [
    "# SEAS 6414 HW7 Robert Grados"
   ]
  },
  {
   "cell_type": "code",
   "execution_count": null,
   "id": "6c5b33d5",
   "metadata": {},
   "outputs": [],
   "source": [
    "# Segmentation, Assignment Generation,\n",
    "# and Churn Prediction Using Merchant Transaction\n",
    "# Activity\n",
    "# Dataset and Objective\n",
    "# • Dataset: homework7 file1.csv\n",
    "# • Data Description: This dataset contains records of merchant transactions, each\n",
    "# with a unique merchant identifier, time of transaction, and amount in cents.\n",
    "# • Objective: Analyze merchant transaction data to understand business growth\n",
    "# and health. Preprocess the dataset for future transactions and generate specific\n",
    "# features for each merchant"
   ]
  },
  {
   "cell_type": "code",
   "execution_count": 139,
   "id": "f7c8e743",
   "metadata": {},
   "outputs": [
    {
     "data": {
      "text/html": [
       "<div>\n",
       "<style scoped>\n",
       "    .dataframe tbody tr th:only-of-type {\n",
       "        vertical-align: middle;\n",
       "    }\n",
       "\n",
       "    .dataframe tbody tr th {\n",
       "        vertical-align: top;\n",
       "    }\n",
       "\n",
       "    .dataframe thead th {\n",
       "        text-align: right;\n",
       "    }\n",
       "</style>\n",
       "<table border=\"1\" class=\"dataframe\">\n",
       "  <thead>\n",
       "    <tr style=\"text-align: right;\">\n",
       "      <th></th>\n",
       "      <th>merchant</th>\n",
       "      <th>time</th>\n",
       "      <th>amount_usd_in_cents</th>\n",
       "    </tr>\n",
       "  </thead>\n",
       "  <tbody>\n",
       "    <tr>\n",
       "      <th>0</th>\n",
       "      <td>d087d4c321</td>\n",
       "      <td>2034-12-11 22:16:41</td>\n",
       "      <td>5059</td>\n",
       "    </tr>\n",
       "    <tr>\n",
       "      <th>1</th>\n",
       "      <td>fe1cb2e840</td>\n",
       "      <td>2034-08-13 21:11:59</td>\n",
       "      <td>12743</td>\n",
       "    </tr>\n",
       "    <tr>\n",
       "      <th>2</th>\n",
       "      <td>878047f4b9</td>\n",
       "      <td>2033-06-05 21:15:00</td>\n",
       "      <td>7601</td>\n",
       "    </tr>\n",
       "    <tr>\n",
       "      <th>3</th>\n",
       "      <td>3932608d23</td>\n",
       "      <td>2034-04-28 19:55:01</td>\n",
       "      <td>5790</td>\n",
       "    </tr>\n",
       "    <tr>\n",
       "      <th>4</th>\n",
       "      <td>84a09b4188</td>\n",
       "      <td>2034-07-26 04:37:05</td>\n",
       "      <td>6153</td>\n",
       "    </tr>\n",
       "    <tr>\n",
       "      <th>5</th>\n",
       "      <td>ce54c1ba8f</td>\n",
       "      <td>2034-02-24 23:31:25</td>\n",
       "      <td>16030</td>\n",
       "    </tr>\n",
       "    <tr>\n",
       "      <th>6</th>\n",
       "      <td>c7ba9d4168</td>\n",
       "      <td>2033-12-17 08:49:27</td>\n",
       "      <td>8778</td>\n",
       "    </tr>\n",
       "    <tr>\n",
       "      <th>7</th>\n",
       "      <td>8d9f148cda</td>\n",
       "      <td>2033-02-26 00:33:00</td>\n",
       "      <td>6500</td>\n",
       "    </tr>\n",
       "    <tr>\n",
       "      <th>8</th>\n",
       "      <td>2cc274e632</td>\n",
       "      <td>2033-08-15 15:38:57</td>\n",
       "      <td>4880</td>\n",
       "    </tr>\n",
       "    <tr>\n",
       "      <th>9</th>\n",
       "      <td>1ddaea9838</td>\n",
       "      <td>2034-04-10 17:12:17</td>\n",
       "      <td>2437</td>\n",
       "    </tr>\n",
       "  </tbody>\n",
       "</table>\n",
       "</div>"
      ],
      "text/plain": [
       "     merchant                 time  amount_usd_in_cents\n",
       "0  d087d4c321  2034-12-11 22:16:41                 5059\n",
       "1  fe1cb2e840  2034-08-13 21:11:59                12743\n",
       "2  878047f4b9  2033-06-05 21:15:00                 7601\n",
       "3  3932608d23  2034-04-28 19:55:01                 5790\n",
       "4  84a09b4188  2034-07-26 04:37:05                 6153\n",
       "5  ce54c1ba8f  2034-02-24 23:31:25                16030\n",
       "6  c7ba9d4168  2033-12-17 08:49:27                 8778\n",
       "7  8d9f148cda  2033-02-26 00:33:00                 6500\n",
       "8  2cc274e632  2033-08-15 15:38:57                 4880\n",
       "9  1ddaea9838  2034-04-10 17:12:17                 2437"
      ]
     },
     "execution_count": 139,
     "metadata": {},
     "output_type": "execute_result"
    }
   ],
   "source": [
    "# **Q1\n",
    "# Import pandas\n",
    "import pandas as pd\n",
    "import numpy as np\n",
    "# Read the csv file with names parameter \n",
    "df = pd.read_csv(\"Downloads\\homework7_file1.csv\")\n",
    "df.head(10)"
   ]
  },
  {
   "cell_type": "code",
   "execution_count": 140,
   "id": "8952a1ce",
   "metadata": {},
   "outputs": [
    {
     "name": "stdout",
     "output_type": "stream",
     "text": [
      "<class 'pandas.core.frame.DataFrame'>\n",
      "RangeIndex: 100000 entries, 0 to 99999\n",
      "Data columns (total 3 columns):\n",
      " #   Column               Non-Null Count   Dtype \n",
      "---  ------               --------------   ----- \n",
      " 0   merchant             100000 non-null  object\n",
      " 1   time                 100000 non-null  object\n",
      " 2   amount_usd_in_cents  100000 non-null  int64 \n",
      "dtypes: int64(1), object(2)\n",
      "memory usage: 2.3+ MB\n"
     ]
    }
   ],
   "source": [
    "df.info()"
   ]
  },
  {
   "cell_type": "code",
   "execution_count": 78,
   "id": "07dc6724",
   "metadata": {},
   "outputs": [],
   "source": []
  },
  {
   "cell_type": "code",
   "execution_count": 167,
   "id": "77d7490b",
   "metadata": {},
   "outputs": [
    {
     "data": {
      "text/html": [
       "<div>\n",
       "<style scoped>\n",
       "    .dataframe tbody tr th:only-of-type {\n",
       "        vertical-align: middle;\n",
       "    }\n",
       "\n",
       "    .dataframe tbody tr th {\n",
       "        vertical-align: top;\n",
       "    }\n",
       "\n",
       "    .dataframe thead th {\n",
       "        text-align: right;\n",
       "    }\n",
       "</style>\n",
       "<table border=\"1\" class=\"dataframe\">\n",
       "  <thead>\n",
       "    <tr style=\"text-align: right;\">\n",
       "      <th></th>\n",
       "      <th>merchant</th>\n",
       "      <th>time</th>\n",
       "      <th>amount_usd_in_cents</th>\n",
       "    </tr>\n",
       "  </thead>\n",
       "  <tbody>\n",
       "    <tr>\n",
       "      <th>0</th>\n",
       "      <td>d087d4c321</td>\n",
       "      <td>2034-12-11 22:16:41</td>\n",
       "      <td>5059</td>\n",
       "    </tr>\n",
       "    <tr>\n",
       "      <th>1</th>\n",
       "      <td>fe1cb2e840</td>\n",
       "      <td>2034-08-13 21:11:59</td>\n",
       "      <td>12743</td>\n",
       "    </tr>\n",
       "    <tr>\n",
       "      <th>2</th>\n",
       "      <td>878047f4b9</td>\n",
       "      <td>2033-06-05 21:15:00</td>\n",
       "      <td>7601</td>\n",
       "    </tr>\n",
       "    <tr>\n",
       "      <th>3</th>\n",
       "      <td>3932608d23</td>\n",
       "      <td>2034-04-28 19:55:01</td>\n",
       "      <td>5790</td>\n",
       "    </tr>\n",
       "    <tr>\n",
       "      <th>4</th>\n",
       "      <td>84a09b4188</td>\n",
       "      <td>2034-07-26 04:37:05</td>\n",
       "      <td>6153</td>\n",
       "    </tr>\n",
       "    <tr>\n",
       "      <th>5</th>\n",
       "      <td>ce54c1ba8f</td>\n",
       "      <td>2034-02-24 23:31:25</td>\n",
       "      <td>16030</td>\n",
       "    </tr>\n",
       "    <tr>\n",
       "      <th>6</th>\n",
       "      <td>c7ba9d4168</td>\n",
       "      <td>2033-12-17 08:49:27</td>\n",
       "      <td>8778</td>\n",
       "    </tr>\n",
       "    <tr>\n",
       "      <th>7</th>\n",
       "      <td>8d9f148cda</td>\n",
       "      <td>2033-02-26 00:33:00</td>\n",
       "      <td>6500</td>\n",
       "    </tr>\n",
       "    <tr>\n",
       "      <th>8</th>\n",
       "      <td>2cc274e632</td>\n",
       "      <td>2033-08-15 15:38:57</td>\n",
       "      <td>4880</td>\n",
       "    </tr>\n",
       "    <tr>\n",
       "      <th>9</th>\n",
       "      <td>1ddaea9838</td>\n",
       "      <td>2034-04-10 17:12:17</td>\n",
       "      <td>2437</td>\n",
       "    </tr>\n",
       "  </tbody>\n",
       "</table>\n",
       "</div>"
      ],
      "text/plain": [
       "     merchant                time  amount_usd_in_cents\n",
       "0  d087d4c321 2034-12-11 22:16:41                 5059\n",
       "1  fe1cb2e840 2034-08-13 21:11:59                12743\n",
       "2  878047f4b9 2033-06-05 21:15:00                 7601\n",
       "3  3932608d23 2034-04-28 19:55:01                 5790\n",
       "4  84a09b4188 2034-07-26 04:37:05                 6153\n",
       "5  ce54c1ba8f 2034-02-24 23:31:25                16030\n",
       "6  c7ba9d4168 2033-12-17 08:49:27                 8778\n",
       "7  8d9f148cda 2033-02-26 00:33:00                 6500\n",
       "8  2cc274e632 2033-08-15 15:38:57                 4880\n",
       "9  1ddaea9838 2034-04-10 17:12:17                 2437"
      ]
     },
     "execution_count": 167,
     "metadata": {},
     "output_type": "execute_result"
    }
   ],
   "source": [
    "df.head(10)"
   ]
  },
  {
   "cell_type": "code",
   "execution_count": 169,
   "id": "7aa3fc4c",
   "metadata": {},
   "outputs": [
    {
     "data": {
      "text/html": [
       "<div>\n",
       "<style scoped>\n",
       "    .dataframe tbody tr th:only-of-type {\n",
       "        vertical-align: middle;\n",
       "    }\n",
       "\n",
       "    .dataframe tbody tr th {\n",
       "        vertical-align: top;\n",
       "    }\n",
       "\n",
       "    .dataframe thead th {\n",
       "        text-align: right;\n",
       "    }\n",
       "</style>\n",
       "<table border=\"1\" class=\"dataframe\">\n",
       "  <thead>\n",
       "    <tr style=\"text-align: right;\">\n",
       "      <th></th>\n",
       "      <th>trans_amount_min</th>\n",
       "      <th>trans_amount_max</th>\n",
       "      <th>trans_amount_avg</th>\n",
       "      <th>trans_amount_volume</th>\n",
       "      <th>trans_frequency</th>\n",
       "    </tr>\n",
       "    <tr>\n",
       "      <th>merchant</th>\n",
       "      <th></th>\n",
       "      <th></th>\n",
       "      <th></th>\n",
       "      <th></th>\n",
       "      <th></th>\n",
       "    </tr>\n",
       "  </thead>\n",
       "  <tbody>\n",
       "    <tr>\n",
       "      <th>00057d4302</th>\n",
       "      <td>1156</td>\n",
       "      <td>1279</td>\n",
       "      <td>1217.5000</td>\n",
       "      <td>2435</td>\n",
       "      <td>2</td>\n",
       "    </tr>\n",
       "    <tr>\n",
       "      <th>000ed1585f</th>\n",
       "      <td>21932</td>\n",
       "      <td>35784</td>\n",
       "      <td>28050.2500</td>\n",
       "      <td>112201</td>\n",
       "      <td>4</td>\n",
       "    </tr>\n",
       "    <tr>\n",
       "      <th>000f8c3297</th>\n",
       "      <td>3455</td>\n",
       "      <td>15047</td>\n",
       "      <td>6635.5625</td>\n",
       "      <td>106169</td>\n",
       "      <td>16</td>\n",
       "    </tr>\n",
       "    <tr>\n",
       "      <th>0020aefbd9</th>\n",
       "      <td>3589</td>\n",
       "      <td>3589</td>\n",
       "      <td>3589.0000</td>\n",
       "      <td>3589</td>\n",
       "      <td>1</td>\n",
       "    </tr>\n",
       "    <tr>\n",
       "      <th>0026f256ac</th>\n",
       "      <td>34880</td>\n",
       "      <td>34880</td>\n",
       "      <td>34880.0000</td>\n",
       "      <td>34880</td>\n",
       "      <td>1</td>\n",
       "    </tr>\n",
       "  </tbody>\n",
       "</table>\n",
       "</div>"
      ],
      "text/plain": [
       "            trans_amount_min  trans_amount_max  trans_amount_avg  \\\n",
       "merchant                                                           \n",
       "00057d4302              1156              1279         1217.5000   \n",
       "000ed1585f             21932             35784        28050.2500   \n",
       "000f8c3297              3455             15047         6635.5625   \n",
       "0020aefbd9              3589              3589         3589.0000   \n",
       "0026f256ac             34880             34880        34880.0000   \n",
       "\n",
       "            trans_amount_volume  trans_frequency  \n",
       "merchant                                          \n",
       "00057d4302                 2435                2  \n",
       "000ed1585f               112201                4  \n",
       "000f8c3297               106169               16  \n",
       "0020aefbd9                 3589                1  \n",
       "0026f256ac                34880                1  "
      ]
     },
     "execution_count": 169,
     "metadata": {},
     "output_type": "execute_result"
    }
   ],
   "source": [
    "# Task 1: Feature Generation\n",
    "# Generate the following features for each unique merchant:\n",
    "# • trans amount min: Minimum transaction amount for each merchant.\n",
    "# • trans amount max: Maximum transaction amount for each merchant.\n",
    "# • trans amount avg: Average transaction amount for each merchant.\n",
    "# • trans amount volume: Total transaction amount for each merchant.\n",
    "# • trans frequency: Total count of transactions for each merchant.\n",
    "# • trans recency: Recency of the last transaction (in days from 1/1/2035\n",
    "\n",
    "\n",
    "# Convert transaction_date to datetime\n",
    "df['time'] = pd.to_datetime(df['time'])\n",
    "\n",
    "# Reference date for recency calculation\n",
    "ref_date = pd.to_datetime('2035-01-01')\n",
    "\n",
    "def calculate_merchant_features(df):\n",
    "    result = df.groupby('merchant').agg(\n",
    "        trans_amount_min=('amount_usd_in_cents', 'min'),\n",
    "        trans_amount_max=('amount_usd_in_cents', 'max'),\n",
    "        trans_amount_avg=('amount_usd_in_cents', 'mean'),\n",
    "        trans_amount_volume=('amount_usd_in_cents', 'sum'),\n",
    "        trans_frequency=('amount_usd_in_cents', 'count'),\n",
    "        #trans_recency=(lambda x: (ref_date - x.max()).days),\n",
    "        #avg_time_btwn_trans=(lambda x: x['transaction_date'].diff().mean().total_seconds() / 3600),  # Hours\n",
    "        #avg_trans_growth_rate=(lambda x: x['transaction_amount'].pct_change().mean())\n",
    "    )\n",
    "    return result\n",
    "\n",
    "merchant_features = calculate_merchant_features(df.copy())\n",
    "merchant_features.head()\n",
    "#print(merchant_features)"
   ]
  },
  {
   "cell_type": "code",
   "execution_count": null,
   "id": "7a8bf151",
   "metadata": {},
   "outputs": [],
   "source": [
    "#  K-Means Clustering and Visualization"
   ]
  },
  {
   "cell_type": "code",
   "execution_count": 186,
   "id": "c3f96172",
   "metadata": {},
   "outputs": [
    {
     "name": "stderr",
     "output_type": "stream",
     "text": [
      "C:\\Users\\1126692\\AppData\\Local\\anaconda3\\Lib\\site-packages\\sklearn\\cluster\\_kmeans.py:1412: FutureWarning: The default value of `n_init` will change from 10 to 'auto' in 1.4. Set the value of `n_init` explicitly to suppress the warning\n",
      "  super()._check_params_vs_input(X, default_n_init=10)\n",
      "C:\\Users\\1126692\\AppData\\Local\\anaconda3\\Lib\\site-packages\\sklearn\\cluster\\_kmeans.py:1436: UserWarning: KMeans is known to have a memory leak on Windows with MKL, when there are less chunks than available threads. You can avoid it by setting the environment variable OMP_NUM_THREADS=2.\n",
      "  warnings.warn(\n"
     ]
    },
    {
     "data": {
      "image/png": "[encoded data removed]",
      "text/plain": [
       "<Figure size 640x480 with 1 Axes>"
      ]
     },
     "metadata": {},
     "output_type": "display_data"
    },
    {
     "name": "stderr",
     "output_type": "stream",
     "text": [
      "C:\\Users\\1126692\\AppData\\Local\\anaconda3\\Lib\\site-packages\\sklearn\\cluster\\_kmeans.py:1412: FutureWarning: The default value of `n_init` will change from 10 to 'auto' in 1.4. Set the value of `n_init` explicitly to suppress the warning\n",
      "  super()._check_params_vs_input(X, default_n_init=10)\n"
     ]
    }
   ],
   "source": [
    "from sklearn.preprocessing import StandardScaler\n",
    "from sklearn.cluster import KMeans\n",
    "from sklearn.metrics import silhouette_score\n",
    "from sklearn.datasets import make_blobs \n",
    "\n",
    "# Scale the features (optional)\n",
    "features = ['trans_amount_min', 'trans_amount_max', 'trans_amount_avg', 'trans_amount_volume','trans_frequency']\n",
    "scaled_data = StandardScaler().fit_transform(merchant_features[features])\n",
    "\n",
    "scaler = StandardScaler()\n",
    "scaled_features = scaler.fit_transform(merchant_features)\n",
    "\n",
    "# Find optimal k (explore with silhouette and elbow methods)\n",
    "optimal_k =4  # Replace with your determined value \n",
    "\n",
    "# Sample Data (Replace with your actual data, here the max number of samples is 7902)\n",
    "X, y = make_blobs(n_samples=300, centers=optimal_k, cluster_std=0.6, random_state=42) \n",
    "\n",
    "# Apply K-Means\n",
    "kmeans = KMeans(n_clusters=optimal_k, random_state=42)\n",
    "kmeans.fit(X)\n",
    "labels = kmeans.labels_\n",
    "\n",
    "# Visualize results\n",
    "plt.scatter(X[:, 0], X[:, 1], c=labels, cmap='viridis')\n",
    "plt.xlabel(\"Feature 1\")\n",
    "plt.ylabel(\"Feature 2\")\n",
    "plt.title(\"K-Means Clustering Results\")\n",
    "plt.show()\n",
    "\n",
    "\n",
    "\n",
    "merchant_features['cluster_label'] = kmeans.fit_predict(scaled_features)"
   ]
  },
  {
   "cell_type": "code",
   "execution_count": null,
   "id": "c504dcfd",
   "metadata": {},
   "outputs": [],
   "source": [
    "# Silhouette Method"
   ]
  },
  {
   "cell_type": "code",
   "execution_count": 190,
   "id": "e1aaa98c",
   "metadata": {},
   "outputs": [
    {
     "name": "stderr",
     "output_type": "stream",
     "text": [
      "C:\\Users\\1126692\\AppData\\Local\\anaconda3\\Lib\\site-packages\\sklearn\\cluster\\_kmeans.py:1412: FutureWarning: The default value of `n_init` will change from 10 to 'auto' in 1.4. Set the value of `n_init` explicitly to suppress the warning\n",
      "  super()._check_params_vs_input(X, default_n_init=10)\n",
      "C:\\Users\\1126692\\AppData\\Local\\anaconda3\\Lib\\site-packages\\sklearn\\cluster\\_kmeans.py:1436: UserWarning: KMeans is known to have a memory leak on Windows with MKL, when there are less chunks than available threads. You can avoid it by setting the environment variable OMP_NUM_THREADS=2.\n",
      "  warnings.warn(\n"
     ]
    },
    {
     "name": "stdout",
     "output_type": "stream",
     "text": [
      "For n_clusters = 2 The average silhouette_score is : 0.6154853461594691\n"
     ]
    },
    {
     "name": "stderr",
     "output_type": "stream",
     "text": [
      "C:\\Users\\1126692\\AppData\\Local\\anaconda3\\Lib\\site-packages\\sklearn\\cluster\\_kmeans.py:1412: FutureWarning: The default value of `n_init` will change from 10 to 'auto' in 1.4. Set the value of `n_init` explicitly to suppress the warning\n",
      "  super()._check_params_vs_input(X, default_n_init=10)\n",
      "C:\\Users\\1126692\\AppData\\Local\\anaconda3\\Lib\\site-packages\\sklearn\\cluster\\_kmeans.py:1436: UserWarning: KMeans is known to have a memory leak on Windows with MKL, when there are less chunks than available threads. You can avoid it by setting the environment variable OMP_NUM_THREADS=2.\n",
      "  warnings.warn(\n"
     ]
    },
    {
     "name": "stdout",
     "output_type": "stream",
     "text": [
      "For n_clusters = 3 The average silhouette_score is : 0.7992801073745723\n"
     ]
    },
    {
     "name": "stderr",
     "output_type": "stream",
     "text": [
      "C:\\Users\\1126692\\AppData\\Local\\anaconda3\\Lib\\site-packages\\sklearn\\cluster\\_kmeans.py:1412: FutureWarning: The default value of `n_init` will change from 10 to 'auto' in 1.4. Set the value of `n_init` explicitly to suppress the warning\n",
      "  super()._check_params_vs_input(X, default_n_init=10)\n",
      "C:\\Users\\1126692\\AppData\\Local\\anaconda3\\Lib\\site-packages\\sklearn\\cluster\\_kmeans.py:1436: UserWarning: KMeans is known to have a memory leak on Windows with MKL, when there are less chunks than available threads. You can avoid it by setting the environment variable OMP_NUM_THREADS=2.\n",
      "  warnings.warn(\n"
     ]
    },
    {
     "name": "stdout",
     "output_type": "stream",
     "text": [
      "For n_clusters = 4 The average silhouette_score is : 0.8756469540734731\n"
     ]
    },
    {
     "name": "stderr",
     "output_type": "stream",
     "text": [
      "C:\\Users\\1126692\\AppData\\Local\\anaconda3\\Lib\\site-packages\\sklearn\\cluster\\_kmeans.py:1412: FutureWarning: The default value of `n_init` will change from 10 to 'auto' in 1.4. Set the value of `n_init` explicitly to suppress the warning\n",
      "  super()._check_params_vs_input(X, default_n_init=10)\n",
      "C:\\Users\\1126692\\AppData\\Local\\anaconda3\\Lib\\site-packages\\sklearn\\cluster\\_kmeans.py:1436: UserWarning: KMeans is known to have a memory leak on Windows with MKL, when there are less chunks than available threads. You can avoid it by setting the environment variable OMP_NUM_THREADS=2.\n",
      "  warnings.warn(\n"
     ]
    },
    {
     "name": "stdout",
     "output_type": "stream",
     "text": [
      "For n_clusters = 5 The average silhouette_score is : 0.7552173381897671\n"
     ]
    },
    {
     "name": "stderr",
     "output_type": "stream",
     "text": [
      "C:\\Users\\1126692\\AppData\\Local\\anaconda3\\Lib\\site-packages\\sklearn\\cluster\\_kmeans.py:1412: FutureWarning: The default value of `n_init` will change from 10 to 'auto' in 1.4. Set the value of `n_init` explicitly to suppress the warning\n",
      "  super()._check_params_vs_input(X, default_n_init=10)\n",
      "C:\\Users\\1126692\\AppData\\Local\\anaconda3\\Lib\\site-packages\\sklearn\\cluster\\_kmeans.py:1436: UserWarning: KMeans is known to have a memory leak on Windows with MKL, when there are less chunks than available threads. You can avoid it by setting the environment variable OMP_NUM_THREADS=2.\n",
      "  warnings.warn(\n"
     ]
    },
    {
     "name": "stdout",
     "output_type": "stream",
     "text": [
      "For n_clusters = 6 The average silhouette_score is : 0.6102030500466327\n"
     ]
    },
    {
     "data": {
      "image/png": "[encoded data removed]",
      "text/plain": [
       "<Figure size 640x480 with 1 Axes>"
      ]
     },
     "metadata": {},
     "output_type": "display_data"
    }
   ],
   "source": [
    "from sklearn.metrics import silhouette_score\n",
    "from sklearn.metrics import silhouette_samples, silhouette_score\n",
    "import matplotlib.pyplot as plt\n",
    "import matplotlib.cm as cm\n",
    "import numpy as np\n",
    "\n",
    "range_n_clusters = [2, 3, 4, 5, 6]\n",
    "\n",
    "for n_clusters in range_n_clusters:\n",
    "    clusterer = KMeans(n_clusters=n_clusters, random_state=42)\n",
    "    cluster_labels = clusterer.fit_predict(X)\n",
    "\n",
    "    silhouette_avg = silhouette_score(X, cluster_labels)\n",
    "    print(\"For n_clusters =\", n_clusters,\n",
    "          \"The average silhouette_score is :\", silhouette_avg)\n",
    "\n",
    "    # Plot silhouette scores for each sample\n",
    "    sample_silhouette_values = silhouette_samples(X, cluster_labels)\n",
    "    y_lower = 10\n",
    "    for i in range(n_clusters):\n",
    "         ith_cluster_silhouette_values = sample_silhouette_values[cluster_labels == i]\n",
    "         ith_cluster_silhouette_values.sort()\n",
    "         size_cluster_i = ith_cluster_silhouette_values.shape[0]\n",
    "         y_upper = y_lower + size_cluster_i\n",
    "\n",
    "         color = cm.nipy_spectral(float(i) / n_clusters)\n",
    "         plt.fill_betweenx(\n",
    "             np.arange(y_lower, y_upper),\n",
    "             0,\n",
    "             ith_cluster_silhouette_values,\n",
    "             facecolor=color,\n",
    "             edgecolor=color,\n",
    "             alpha=0.7,\n",
    "         )\n",
    "         plt.text(-0.05, y_lower + 0.5 * size_cluster_i, str(i))\n",
    "         y_lower = y_upper + 10  \n",
    "\n",
    "plt.title(\"Silhouette plot for n_clusters = %d\" % n_clusters)\n",
    "plt.xlabel(\"Silhouette coefficient values\")\n",
    "plt.ylabel(\"Cluster label\")\n",
    "plt.axvline(x=silhouette_avg, color=\"red\", linestyle=\"--\")  # Vertical line for average silhouette score\n",
    "plt.show() "
   ]
  },
  {
   "cell_type": "code",
   "execution_count": 177,
   "id": "656c9809",
   "metadata": {},
   "outputs": [
    {
     "name": "stdout",
     "output_type": "stream",
     "text": [
      "<class 'pandas.core.frame.DataFrame'>\n",
      "Index: 7902 entries, 00057d4302 to fff1754102\n",
      "Data columns (total 6 columns):\n",
      " #   Column               Non-Null Count  Dtype  \n",
      "---  ------               --------------  -----  \n",
      " 0   trans_amount_min     7902 non-null   int64  \n",
      " 1   trans_amount_max     7902 non-null   int64  \n",
      " 2   trans_amount_avg     7902 non-null   float64\n",
      " 3   trans_amount_volume  7902 non-null   int64  \n",
      " 4   trans_frequency      7902 non-null   int64  \n",
      " 5   cluster_label        7902 non-null   int32  \n",
      "dtypes: float64(1), int32(1), int64(4)\n",
      "memory usage: 401.3+ KB\n"
     ]
    }
   ],
   "source": [
    "merchant_features.info()"
   ]
  },
  {
   "cell_type": "code",
   "execution_count": null,
   "id": "cd55d70a",
   "metadata": {},
   "outputs": [],
   "source": [
    "# Elbow Method"
   ]
  },
  {
   "cell_type": "code",
   "execution_count": 191,
   "id": "e9ea9c4f",
   "metadata": {},
   "outputs": [
    {
     "name": "stderr",
     "output_type": "stream",
     "text": [
      "C:\\Users\\1126692\\AppData\\Local\\anaconda3\\Lib\\site-packages\\sklearn\\cluster\\_kmeans.py:1412: FutureWarning: The default value of `n_init` will change from 10 to 'auto' in 1.4. Set the value of `n_init` explicitly to suppress the warning\n",
      "  super()._check_params_vs_input(X, default_n_init=10)\n",
      "C:\\Users\\1126692\\AppData\\Local\\anaconda3\\Lib\\site-packages\\sklearn\\cluster\\_kmeans.py:1436: UserWarning: KMeans is known to have a memory leak on Windows with MKL, when there are less chunks than available threads. You can avoid it by setting the environment variable OMP_NUM_THREADS=2.\n",
      "  warnings.warn(\n",
      "C:\\Users\\1126692\\AppData\\Local\\anaconda3\\Lib\\site-packages\\sklearn\\cluster\\_kmeans.py:1412: FutureWarning: The default value of `n_init` will change from 10 to 'auto' in 1.4. Set the value of `n_init` explicitly to suppress the warning\n",
      "  super()._check_params_vs_input(X, default_n_init=10)\n",
      "C:\\Users\\1126692\\AppData\\Local\\anaconda3\\Lib\\site-packages\\sklearn\\cluster\\_kmeans.py:1436: UserWarning: KMeans is known to have a memory leak on Windows with MKL, when there are less chunks than available threads. You can avoid it by setting the environment variable OMP_NUM_THREADS=2.\n",
      "  warnings.warn(\n",
      "C:\\Users\\1126692\\AppData\\Local\\anaconda3\\Lib\\site-packages\\sklearn\\cluster\\_kmeans.py:1412: FutureWarning: The default value of `n_init` will change from 10 to 'auto' in 1.4. Set the value of `n_init` explicitly to suppress the warning\n",
      "  super()._check_params_vs_input(X, default_n_init=10)\n",
      "C:\\Users\\1126692\\AppData\\Local\\anaconda3\\Lib\\site-packages\\sklearn\\cluster\\_kmeans.py:1436: UserWarning: KMeans is known to have a memory leak on Windows with MKL, when there are less chunks than available threads. You can avoid it by setting the environment variable OMP_NUM_THREADS=2.\n",
      "  warnings.warn(\n",
      "C:\\Users\\1126692\\AppData\\Local\\anaconda3\\Lib\\site-packages\\sklearn\\cluster\\_kmeans.py:1412: FutureWarning: The default value of `n_init` will change from 10 to 'auto' in 1.4. Set the value of `n_init` explicitly to suppress the warning\n",
      "  super()._check_params_vs_input(X, default_n_init=10)\n",
      "C:\\Users\\1126692\\AppData\\Local\\anaconda3\\Lib\\site-packages\\sklearn\\cluster\\_kmeans.py:1436: UserWarning: KMeans is known to have a memory leak on Windows with MKL, when there are less chunks than available threads. You can avoid it by setting the environment variable OMP_NUM_THREADS=2.\n",
      "  warnings.warn(\n",
      "C:\\Users\\1126692\\AppData\\Local\\anaconda3\\Lib\\site-packages\\sklearn\\cluster\\_kmeans.py:1412: FutureWarning: The default value of `n_init` will change from 10 to 'auto' in 1.4. Set the value of `n_init` explicitly to suppress the warning\n",
      "  super()._check_params_vs_input(X, default_n_init=10)\n",
      "C:\\Users\\1126692\\AppData\\Local\\anaconda3\\Lib\\site-packages\\sklearn\\cluster\\_kmeans.py:1436: UserWarning: KMeans is known to have a memory leak on Windows with MKL, when there are less chunks than available threads. You can avoid it by setting the environment variable OMP_NUM_THREADS=2.\n",
      "  warnings.warn(\n"
     ]
    },
    {
     "data": {
      "image/png": "[encoded data removed]",
      "text/plain": [
       "<Figure size 640x480 with 1 Axes>"
      ]
     },
     "metadata": {},
     "output_type": "display_data"
    }
   ],
   "source": [
    "from sklearn.cluster import KMeans\n",
    "\n",
    "inertias = []\n",
    "\n",
    "for k in range_n_clusters:\n",
    "    kmeans = KMeans(n_clusters=k, random_state=42)\n",
    "    kmeans.fit(X)\n",
    "    inertias.append(kmeans.inertia_) \n",
    "\n",
    "plt.plot(range_n_clusters, inertias, marker='o')\n",
    "plt.xlabel(\"Number of Clusters (k)\")\n",
    "plt.ylabel(\"Inertia\")\n",
    "plt.title(\"Elbow Method for Optimal k\")\n",
    "plt.show()"
   ]
  },
  {
   "cell_type": "code",
   "execution_count": 212,
   "id": "9b17cd65",
   "metadata": {},
   "outputs": [
    {
     "data": {
      "text/plain": [
       "<DatetimeArray>\n",
       "['2033-05-30 04:20:31', '2034-07-10 15:57:48', '2034-11-03 12:56:38',\n",
       " '2034-05-30 21:55:06', '2033-09-15 01:17:32', '2034-10-14 13:29:42',\n",
       " '2034-12-23 02:23:14', '2034-05-23 12:19:34', '2033-12-18 05:14:14',\n",
       " '2034-09-16 20:23:49',\n",
       " ...\n",
       " '2034-02-09 21:48:20', '2034-08-19 19:09:36', '2034-12-06 20:39:24',\n",
       " '2033-03-19 21:09:42', '2034-03-07 11:19:40', '2034-12-30 01:24:24',\n",
       " '2034-04-27 13:18:08', '2033-12-18 03:20:59', '2034-08-16 14:58:20',\n",
       " '2034-09-18 22:59:40']\n",
       "Length: 7902, dtype: datetime64[ns]"
      ]
     },
     "execution_count": 212,
     "metadata": {},
     "output_type": "execute_result"
    }
   ],
   "source": [
    "df.groupby('merchant')['time'].max()[:].unique()"
   ]
  },
  {
   "cell_type": "code",
   "execution_count": null,
   "id": "7185e16a",
   "metadata": {},
   "outputs": [],
   "source": [
    "# Churn Label Generation\n",
    "# Churn Prediction\n",
    "# • Background: Customer retention is a key growth pillar. Churn or customer\n",
    "# attrition is defined as customers who have had no transactions within a 30-day\n",
    "# period, indicating a ”rolling” Monthly Recurring Revenue (MRR) of $0.\n",
    "# • Goal: Develop a churn prediction model.\n"
   ]
  },
  {
   "cell_type": "code",
   "execution_count": 219,
   "id": "40758403",
   "metadata": {},
   "outputs": [
    {
     "name": "stdout",
     "output_type": "stream",
     "text": [
      "ref_date: 2035-01-01 00:00:00 last trans: merchant\n",
      "00057d4302   2033-05-30 04:20:31\n",
      "000ed1585f   2034-07-10 15:57:48\n",
      "000f8c3297   2034-11-03 12:56:38\n",
      "0020aefbd9   2034-05-30 21:55:06\n",
      "0026f256ac   2033-09-15 01:17:32\n",
      "                     ...        \n",
      "ffb94e1865   2034-12-30 01:24:24\n",
      "ffc46fd720   2034-04-27 13:18:08\n",
      "ffe1f6b51a   2033-12-18 03:20:59\n",
      "ffe26b900d   2034-08-16 14:58:20\n",
      "fff1754102   2034-09-18 22:59:40\n",
      "Name: time, Length: 7902, dtype: datetime64[ns] churn_period = 30 days 00:00:00\n",
      "         merchant                time  amount_usd_in_cents churn\n",
      "0      d087d4c321 2034-12-11 22:16:41                 5059   NaN\n",
      "1      fe1cb2e840 2034-08-13 21:11:59                12743   NaN\n",
      "2      878047f4b9 2033-06-05 21:15:00                 7601   NaN\n",
      "3      3932608d23 2034-04-28 19:55:01                 5790   NaN\n",
      "4      84a09b4188 2034-07-26 04:37:05                 6153   NaN\n",
      "...           ...                 ...                  ...   ...\n",
      "99995  0a309e574d 2034-05-26 14:35:28                 4985   NaN\n",
      "99996  e9d9eacb17 2033-02-22 04:17:02                17216   NaN\n",
      "99997  d6fe440e06 2033-12-26 18:52:50                 3553   NaN\n",
      "99998  4367df3b1e 2034-02-01 05:31:12                13020   NaN\n",
      "99999  59adb5bff8 2034-05-24 21:53:23                 2168   NaN\n",
      "\n",
      "[100000 rows x 4 columns]\n"
     ]
    }
   ],
   "source": [
    "#  Generate binary labels for churn and no churn based on the 30-day inactivity\n",
    "#  criterion.\n",
    "import pandas as pd\n",
    "\n",
    "# Convert transaction_date to datetime\n",
    "df['time'] = pd.to_datetime(df['time'])\n",
    "\n",
    "# Reference date for recency calculation\n",
    "ref_date = pd.to_datetime('2035-01-01')\n",
    "\n",
    "def calculate_churn(df):\n",
    "    # Set reference date for analysis\n",
    "    ref_date = pd.to_datetime('2035-01-01')  # Or a specific date\n",
    "    # Calculate churn status\n",
    "    last_transaction_date = df.groupby('merchant')['time'].max()\n",
    "    #print(\"churn func: last Transaction date:\",last_transaction_date)\n",
    "\n",
    "    churn_period = pd.Timedelta(days=30) # \n",
    "    df['churn'] = (ref_date - last_transaction_date) > churn_period\n",
    "    print('ref_date:',ref_date,'last trans:', last_transaction_date, 'churn_period =',churn_period)\n",
    "    return df \n",
    "\n",
    "# Apply the function to your DataFrame\n",
    "df_with_churn = calculate_churn(df.copy())\n",
    "print(df_with_churn)"
   ]
  },
  {
   "cell_type": "code",
   "execution_count": 220,
   "id": "39cb1a14",
   "metadata": {},
   "outputs": [
    {
     "data": {
      "text/plain": [
       "Timedelta('30 days 00:00:00')"
      ]
     },
     "execution_count": 220,
     "metadata": {},
     "output_type": "execute_result"
    }
   ],
   "source": [
    "pd.Timedelta(days=30)"
   ]
  },
  {
   "cell_type": "code",
   "execution_count": 221,
   "id": "83a9f196",
   "metadata": {},
   "outputs": [
    {
     "data": {
      "text/plain": [
       "merchant\n",
       "00057d4302   2033-05-30 04:20:31\n",
       "000ed1585f   2034-07-10 15:57:48\n",
       "000f8c3297   2034-11-03 12:56:38\n",
       "0020aefbd9   2034-05-30 21:55:06\n",
       "0026f256ac   2033-09-15 01:17:32\n",
       "                     ...        \n",
       "ffb94e1865   2034-12-30 01:24:24\n",
       "ffc46fd720   2034-04-27 13:18:08\n",
       "ffe1f6b51a   2033-12-18 03:20:59\n",
       "ffe26b900d   2034-08-16 14:58:20\n",
       "fff1754102   2034-09-18 22:59:40\n",
       "Name: time, Length: 7902, dtype: datetime64[ns]"
      ]
     },
     "execution_count": 221,
     "metadata": {},
     "output_type": "execute_result"
    }
   ],
   "source": [
    "df.groupby('merchant')['time'].max()"
   ]
  },
  {
   "cell_type": "code",
   "execution_count": 223,
   "id": "1b6a86de",
   "metadata": {},
   "outputs": [
    {
     "data": {
      "text/plain": [
       "merchant\n",
       "00057d4302   580 days 19:39:29\n",
       "000ed1585f   174 days 08:02:12\n",
       "000f8c3297    58 days 11:03:22\n",
       "0020aefbd9   215 days 02:04:54\n",
       "0026f256ac   472 days 22:42:28\n",
       "                    ...       \n",
       "ffb94e1865     1 days 22:35:36\n",
       "ffc46fd720   248 days 10:41:52\n",
       "ffe1f6b51a   378 days 20:39:01\n",
       "ffe26b900d   137 days 09:01:40\n",
       "fff1754102   104 days 01:00:20\n",
       "Name: time, Length: 7902, dtype: timedelta64[ns]"
      ]
     },
     "execution_count": 223,
     "metadata": {},
     "output_type": "execute_result"
    }
   ],
   "source": [
    " (ref_date - df.groupby('merchant')['time'].max())"
   ]
  },
  {
   "cell_type": "code",
   "execution_count": 224,
   "id": "0e537c23",
   "metadata": {},
   "outputs": [
    {
     "data": {
      "text/plain": [
       "merchant\n",
       "00057d4302     True\n",
       "000ed1585f     True\n",
       "000f8c3297     True\n",
       "0020aefbd9     True\n",
       "0026f256ac     True\n",
       "              ...  \n",
       "ffb94e1865    False\n",
       "ffc46fd720     True\n",
       "ffe1f6b51a     True\n",
       "ffe26b900d     True\n",
       "fff1754102     True\n",
       "Name: time, Length: 7902, dtype: bool"
      ]
     },
     "execution_count": 224,
     "metadata": {},
     "output_type": "execute_result"
    }
   ],
   "source": [
    " (ref_date - df.groupby('merchant')['time'].max()) > pd.Timedelta(days=30)"
   ]
  },
  {
   "cell_type": "code",
   "execution_count": 240,
   "id": "5e5eb0e6",
   "metadata": {},
   "outputs": [],
   "source": [
    "pp=  (ref_date - df.groupby('merchant')['time'].max()) > pd.Timedelta(days=30)"
   ]
  },
  {
   "cell_type": "code",
   "execution_count": 227,
   "id": "13b5ce2f",
   "metadata": {},
   "outputs": [
    {
     "data": {
      "text/plain": [
       "merchant\n",
       "00057d4302     True\n",
       "000ed1585f     True\n",
       "000f8c3297     True\n",
       "0020aefbd9     True\n",
       "0026f256ac     True\n",
       "              ...  \n",
       "ffb94e1865    False\n",
       "ffc46fd720     True\n",
       "ffe1f6b51a     True\n",
       "ffe26b900d     True\n",
       "fff1754102     True\n",
       "Name: time, Length: 7902, dtype: bool"
      ]
     },
     "execution_count": 227,
     "metadata": {},
     "output_type": "execute_result"
    }
   ],
   "source": [
    " (ref_date - df.groupby('merchant')['time'].max()) > pd.Timedelta(days=30)"
   ]
  },
  {
   "cell_type": "code",
   "execution_count": 241,
   "id": "6e5b96ad",
   "metadata": {},
   "outputs": [
    {
     "data": {
      "text/plain": [
       "pandas.core.series.Series"
      ]
     },
     "execution_count": 241,
     "metadata": {},
     "output_type": "execute_result"
    }
   ],
   "source": [
    "type(pp)"
   ]
  },
  {
   "cell_type": "code",
   "execution_count": 237,
   "id": "d2e31cc2",
   "metadata": {},
   "outputs": [
    {
     "data": {
      "text/html": [
       "<div>\n",
       "<style scoped>\n",
       "    .dataframe tbody tr th:only-of-type {\n",
       "        vertical-align: middle;\n",
       "    }\n",
       "\n",
       "    .dataframe tbody tr th {\n",
       "        vertical-align: top;\n",
       "    }\n",
       "\n",
       "    .dataframe thead th {\n",
       "        text-align: right;\n",
       "    }\n",
       "</style>\n",
       "<table border=\"1\" class=\"dataframe\">\n",
       "  <thead>\n",
       "    <tr style=\"text-align: right;\">\n",
       "      <th></th>\n",
       "      <th>merchant</th>\n",
       "      <th>time</th>\n",
       "      <th>amount_usd_in_cents</th>\n",
       "      <th>churn</th>\n",
       "    </tr>\n",
       "  </thead>\n",
       "  <tbody>\n",
       "    <tr>\n",
       "      <th>0</th>\n",
       "      <td>d087d4c321</td>\n",
       "      <td>2034-12-11 22:16:41</td>\n",
       "      <td>5059</td>\n",
       "      <td>NaN</td>\n",
       "    </tr>\n",
       "    <tr>\n",
       "      <th>1</th>\n",
       "      <td>fe1cb2e840</td>\n",
       "      <td>2034-08-13 21:11:59</td>\n",
       "      <td>12743</td>\n",
       "      <td>NaN</td>\n",
       "    </tr>\n",
       "    <tr>\n",
       "      <th>2</th>\n",
       "      <td>878047f4b9</td>\n",
       "      <td>2033-06-05 21:15:00</td>\n",
       "      <td>7601</td>\n",
       "      <td>NaN</td>\n",
       "    </tr>\n",
       "    <tr>\n",
       "      <th>3</th>\n",
       "      <td>3932608d23</td>\n",
       "      <td>2034-04-28 19:55:01</td>\n",
       "      <td>5790</td>\n",
       "      <td>NaN</td>\n",
       "    </tr>\n",
       "    <tr>\n",
       "      <th>4</th>\n",
       "      <td>84a09b4188</td>\n",
       "      <td>2034-07-26 04:37:05</td>\n",
       "      <td>6153</td>\n",
       "      <td>NaN</td>\n",
       "    </tr>\n",
       "  </tbody>\n",
       "</table>\n",
       "</div>"
      ],
      "text/plain": [
       "     merchant                time  amount_usd_in_cents churn\n",
       "0  d087d4c321 2034-12-11 22:16:41                 5059   NaN\n",
       "1  fe1cb2e840 2034-08-13 21:11:59                12743   NaN\n",
       "2  878047f4b9 2033-06-05 21:15:00                 7601   NaN\n",
       "3  3932608d23 2034-04-28 19:55:01                 5790   NaN\n",
       "4  84a09b4188 2034-07-26 04:37:05                 6153   NaN"
      ]
     },
     "execution_count": 237,
     "metadata": {},
     "output_type": "execute_result"
    }
   ],
   "source": [
    "df.head()"
   ]
  },
  {
   "cell_type": "code",
   "execution_count": 216,
   "id": "56bc1379",
   "metadata": {},
   "outputs": [
    {
     "data": {
      "text/plain": [
       "churn\n",
       "True    100000\n",
       "Name: count, dtype: int64"
      ]
     },
     "execution_count": 216,
     "metadata": {},
     "output_type": "execute_result"
    }
   ],
   "source": [
    "df_with_churn.churn.value_counts()"
   ]
  },
  {
   "cell_type": "code",
   "execution_count": null,
   "id": "abfe109f",
   "metadata": {},
   "outputs": [],
   "source": [
    "# Use the generated features and any algorithm(s) of your choice for the model.\n",
    "# Present metrics from your experiments and feature importance.\n",
    "\n",
    "from sklearn.tree import DecisionTreeClassifier\n",
    "from sklearn.model_selection import train_test_split\n",
    "from sklearn.metrics import accuracy_score, f1_score\n",
    "\n",
    "features = ['recency', 'frequency', 'avg_transaction_amount'] \n",
    "X = df_with_churn[features] \n",
    "y = df_with_churn['churn']\n",
    "\n",
    "X_train, X_test, y_train, y_test = train_test_split(X, y, test_size=0.2, random_state=42)\n",
    "\n",
    "dt_model = DecisionTreeClassifier(random_state=42)\n",
    "dt_model.fit(X_train, y_train) \n",
    "\n",
    "y_pred = dt_model.predict(X_test)\n",
    "\n",
    "accuracy = accuracy_score(y_test, y_pred)\n",
    "f1 = f1_score(y_test, y_pred)\n",
    "\n",
    "print(\"Accuracy:\", accuracy)\n",
    "print(\"F1-Score:\", f1)"
   ]
  },
  {
   "cell_type": "code",
   "execution_count": 198,
   "id": "648fa7d7",
   "metadata": {},
   "outputs": [
    {
     "data": {
      "text/html": [
       "<div>\n",
       "<style scoped>\n",
       "    .dataframe tbody tr th:only-of-type {\n",
       "        vertical-align: middle;\n",
       "    }\n",
       "\n",
       "    .dataframe tbody tr th {\n",
       "        vertical-align: top;\n",
       "    }\n",
       "\n",
       "    .dataframe thead th {\n",
       "        text-align: right;\n",
       "    }\n",
       "</style>\n",
       "<table border=\"1\" class=\"dataframe\">\n",
       "  <thead>\n",
       "    <tr style=\"text-align: right;\">\n",
       "      <th></th>\n",
       "      <th>merchant</th>\n",
       "      <th>time</th>\n",
       "      <th>amount_usd_in_cents</th>\n",
       "      <th>churn</th>\n",
       "    </tr>\n",
       "  </thead>\n",
       "  <tbody>\n",
       "    <tr>\n",
       "      <th>0</th>\n",
       "      <td>d087d4c321</td>\n",
       "      <td>2034-12-11 22:16:41</td>\n",
       "      <td>5059</td>\n",
       "      <td>NaN</td>\n",
       "    </tr>\n",
       "    <tr>\n",
       "      <th>1</th>\n",
       "      <td>fe1cb2e840</td>\n",
       "      <td>2034-08-13 21:11:59</td>\n",
       "      <td>12743</td>\n",
       "      <td>NaN</td>\n",
       "    </tr>\n",
       "    <tr>\n",
       "      <th>2</th>\n",
       "      <td>878047f4b9</td>\n",
       "      <td>2033-06-05 21:15:00</td>\n",
       "      <td>7601</td>\n",
       "      <td>NaN</td>\n",
       "    </tr>\n",
       "    <tr>\n",
       "      <th>3</th>\n",
       "      <td>3932608d23</td>\n",
       "      <td>2034-04-28 19:55:01</td>\n",
       "      <td>5790</td>\n",
       "      <td>NaN</td>\n",
       "    </tr>\n",
       "    <tr>\n",
       "      <th>4</th>\n",
       "      <td>84a09b4188</td>\n",
       "      <td>2034-07-26 04:37:05</td>\n",
       "      <td>6153</td>\n",
       "      <td>NaN</td>\n",
       "    </tr>\n",
       "  </tbody>\n",
       "</table>\n",
       "</div>"
      ],
      "text/plain": [
       "     merchant                time  amount_usd_in_cents churn\n",
       "0  d087d4c321 2034-12-11 22:16:41                 5059   NaN\n",
       "1  fe1cb2e840 2034-08-13 21:11:59                12743   NaN\n",
       "2  878047f4b9 2033-06-05 21:15:00                 7601   NaN\n",
       "3  3932608d23 2034-04-28 19:55:01                 5790   NaN\n",
       "4  84a09b4188 2034-07-26 04:37:05                 6153   NaN"
      ]
     },
     "execution_count": 198,
     "metadata": {},
     "output_type": "execute_result"
    }
   ],
   "source": [
    "df_with_churn.head()"
   ]
  },
  {
   "cell_type": "code",
   "execution_count": null,
   "id": "eaf85c9c",
   "metadata": {},
   "outputs": [],
   "source": []
  },
  {
   "cell_type": "code",
   "execution_count": 178,
   "id": "d4955695",
   "metadata": {},
   "outputs": [
    {
     "name": "stderr",
     "output_type": "stream",
     "text": [
      "C:\\Users\\1126692\\AppData\\Local\\anaconda3\\Lib\\site-packages\\sklearn\\cluster\\_kmeans.py:1412: FutureWarning: The default value of `n_init` will change from 10 to 'auto' in 1.4. Set the value of `n_init` explicitly to suppress the warning\n",
      "  super()._check_params_vs_input(X, default_n_init=10)\n"
     ]
    },
    {
     "data": {
      "image/png": "[encoded data removed]",
      "text/plain": [
       "<Figure size 640x480 with 1 Axes>"
      ]
     },
     "metadata": {},
     "output_type": "display_data"
    }
   ],
   "source": [
    "from sklearn.cluster import KMeans\n",
    "\n",
    "inertias = []  # Store inertia values\n",
    "\n",
    "for k in range_n_clusters:\n",
    "    kmeans = KMeans(n_clusters=k, random_state=10)\n",
    "    kmeans.fit(scaled_features)\n",
    "    inertias.append(kmeans.inertia_)\n",
    "\n",
    "# Plot inertia vs. number of clusters \n",
    "plt.plot(range_n_clusters, inertias, marker='o')\n",
    "plt.xlabel(\"Number of Clusters (k)\")\n",
    "plt.ylabel(\"Inertia (WSS)\")\n",
    "plt.show()\n"
   ]
  },
  {
   "cell_type": "code",
   "execution_count": null,
   "id": "d33019f3",
   "metadata": {},
   "outputs": [],
   "source": [
    "from sklearn.metrics import silhouette_score\n",
    "import matplotlib.pyplot as plt\n",
    "\n",
    "range_n_clusters = [2, 3] # [2, 3, 4, 5, 6]  # Range of clusters to test\n",
    "\n",
    "for n_clusters in range_n_clusters:\n",
    "    clusterer = KMeans(n_clusters=n_clusters, random_state=42)\n",
    "    cluster_labels = clusterer.fit_predict(scaled_features)  # Assuming scaled_features is your scaled data\n",
    "\n",
    "    silhouette_avg = silhouette_score(scaled_features, cluster_labels)\n",
    "    print(\"For n_clusters =\", n_clusters,\n",
    "          \"The average silhouette_score is :\", silhouette_avg)\n",
    "\n",
    "    # Plot average silhouette score vs. number of clusters \n",
    "    plt.plot(range_n_clusters, silhouette_avg, marker='o')\n",
    "    plt.xlabel(\"Number of Clusters (k)\")\n",
    "    plt.ylabel(\"Average Silhouette Score\")\n",
    "    plt.show()"
   ]
  },
  {
   "cell_type": "code",
   "execution_count": 171,
   "id": "778b4713",
   "metadata": {},
   "outputs": [
    {
     "name": "stdout",
     "output_type": "stream",
     "text": [
      "\n",
      "Cluster 0 Characteristics:\n",
      "       trans_amount_min  trans_amount_max  trans_amount_avg  \\\n",
      "count       7526.000000       7526.000000       7526.000000   \n",
      "mean       12633.295908      32646.742626      19104.379985   \n",
      "std        26994.414397      49805.035290      30308.187866   \n",
      "min          201.000000        209.000000        209.000000   \n",
      "25%         2062.000000       6319.000000       4711.333333   \n",
      "50%         4157.500000      14120.000000       8489.482759   \n",
      "75%         9856.000000      34816.000000      18396.150000   \n",
      "max       251537.000000     415762.000000     251537.000000   \n",
      "\n",
      "       trans_amount_volume  trans_frequency  cluster_label  \n",
      "count         7.526000e+03      7526.000000         7526.0  \n",
      "mean          1.137870e+05         9.466649            0.0  \n",
      "std           2.203491e+05        22.946180            0.0  \n",
      "min           2.090000e+02         1.000000            0.0  \n",
      "25%           9.649500e+03         1.000000            0.0  \n",
      "50%           3.069000e+04         3.000000            0.0  \n",
      "75%           1.107952e+05         7.000000            0.0  \n",
      "max           2.037741e+06       300.000000            0.0  \n",
      "\n",
      "Cluster 3 Characteristics:\n",
      "       trans_amount_min  trans_amount_max  trans_amount_avg  \\\n",
      "count         46.000000         46.000000         46.000000   \n",
      "mean         907.326087      78453.521739      10512.137628   \n",
      "std          686.050243      72767.843307      10094.229602   \n",
      "min          205.000000        902.000000        819.478781   \n",
      "25%          443.750000      31386.000000       5190.796994   \n",
      "50%          716.500000      58286.500000       8070.209534   \n",
      "75%         1168.750000      89005.750000      10970.546163   \n",
      "max         3160.000000     340567.000000      47838.972222   \n",
      "\n",
      "       trans_amount_volume  trans_frequency  cluster_label  \n",
      "count         4.600000e+01        46.000000           46.0  \n",
      "mean          4.156172e+06       476.195652            3.0  \n",
      "std           3.261064e+06       247.808673            0.0  \n",
      "min           4.227190e+05       225.000000            3.0  \n",
      "25%           2.084001e+06       320.250000            3.0  \n",
      "50%           3.271310e+06       386.500000            3.0  \n",
      "75%           4.837843e+06       635.000000            3.0  \n",
      "max           1.549983e+07      1673.000000            3.0  \n",
      "\n",
      "Cluster 1 Characteristics:\n",
      "       trans_amount_min  trans_amount_max  trans_amount_avg  \\\n",
      "count      3.290000e+02      3.290000e+02      3.290000e+02   \n",
      "mean       1.690674e+05      5.462981e+05      2.681003e+05   \n",
      "std        2.763011e+05      4.580014e+05      2.766930e+05   \n",
      "min        2.030000e+02      5.909200e+04      1.197013e+04   \n",
      "25%        3.716000e+03      2.925470e+05      7.974673e+04   \n",
      "50%        2.887500e+04      4.226330e+05      2.185125e+05   \n",
      "75%        2.724880e+05      6.194130e+05      3.294325e+05   \n",
      "max        1.998921e+06      5.044081e+06      1.998921e+06   \n",
      "\n",
      "       trans_amount_volume  trans_frequency  cluster_label  \n",
      "count         3.290000e+02       329.000000          329.0  \n",
      "mean          1.500501e+06        20.814590            1.0  \n",
      "std           1.312322e+06        34.879483            0.0  \n",
      "min           2.577000e+05         1.000000            1.0  \n",
      "25%           5.904600e+05         2.000000            1.0  \n",
      "50%           1.098563e+06         5.000000            1.0  \n",
      "75%           1.962431e+06        23.000000            1.0  \n",
      "max           9.214675e+06       207.000000            1.0  \n",
      "\n",
      "Cluster 2 Characteristics:\n",
      "       trans_amount_min  trans_amount_max  trans_amount_avg  \\\n",
      "count               1.0               1.0               1.0   \n",
      "mean         10385508.0        10385508.0        10385508.0   \n",
      "std                 NaN               NaN               NaN   \n",
      "min          10385508.0        10385508.0        10385508.0   \n",
      "25%          10385508.0        10385508.0        10385508.0   \n",
      "50%          10385508.0        10385508.0        10385508.0   \n",
      "75%          10385508.0        10385508.0        10385508.0   \n",
      "max          10385508.0        10385508.0        10385508.0   \n",
      "\n",
      "       trans_amount_volume  trans_frequency  cluster_label  \n",
      "count                  1.0              1.0            1.0  \n",
      "mean            10385508.0              1.0            2.0  \n",
      "std                    NaN              NaN            NaN  \n",
      "min             10385508.0              1.0            2.0  \n",
      "25%             10385508.0              1.0            2.0  \n",
      "50%             10385508.0              1.0            2.0  \n",
      "75%             10385508.0              1.0            2.0  \n",
      "max             10385508.0              1.0            2.0  \n"
     ]
    }
   ],
   "source": [
    "for cluster in merchant_features['cluster_label'].unique():\n",
    "    subset = merchant_features[merchant_features['cluster_label'] == cluster]\n",
    "    print(f\"\\nCluster {cluster} Characteristics:\")\n",
    "    print(subset.describe())"
   ]
  },
  {
   "cell_type": "code",
   "execution_count": 57,
   "id": "d4f77c27",
   "metadata": {},
   "outputs": [
    {
     "name": "stdout",
     "output_type": "stream",
     "text": [
      "**Q1: Average Transaction amount for each merchant :\n"
     ]
    },
    {
     "data": {
      "text/plain": [
       "merchant\n",
       "00057d4302     1217.500000\n",
       "000ed1585f    28050.250000\n",
       "000f8c3297     6635.562500\n",
       "0020aefbd9     3589.000000\n",
       "0026f256ac    34880.000000\n",
       "                  ...     \n",
       "ffb94e1865     7484.969432\n",
       "ffc46fd720     2760.000000\n",
       "ffe1f6b51a     5462.666667\n",
       "ffe26b900d    21610.000000\n",
       "fff1754102    10415.500000\n",
       "Name: amount_usd_in_cents, Length: 7902, dtype: float64"
      ]
     },
     "execution_count": 57,
     "metadata": {},
     "output_type": "execute_result"
    }
   ],
   "source": [
    "print(\"**Q1: Average Transaction amount for each merchant :\")\n",
    "df.groupby([df.merchant])['amount_usd_in_cents'].mean()\n"
   ]
  },
  {
   "cell_type": "code",
   "execution_count": 76,
   "id": "930f5774",
   "metadata": {},
   "outputs": [
    {
     "name": "stdout",
     "output_type": "stream",
     "text": [
      "**Q1: Total transaction amount for each merchant :\n"
     ]
    },
    {
     "data": {
      "text/plain": [
       "merchant\n",
       "00057d4302       2435\n",
       "000ed1585f     112201\n",
       "000f8c3297     106169\n",
       "0020aefbd9       3589\n",
       "0026f256ac      34880\n",
       "               ...   \n",
       "ffb94e1865    1714058\n",
       "ffc46fd720       2760\n",
       "ffe1f6b51a      16388\n",
       "ffe26b900d      43220\n",
       "fff1754102      20831\n",
       "Name: amount_usd_in_cents, Length: 7902, dtype: int64"
      ]
     },
     "execution_count": 76,
     "metadata": {},
     "output_type": "execute_result"
    }
   ],
   "source": [
    "# • trans amount volume: Total transaction amount for each merchant.\n",
    "print(\"**Q1: Total transaction amount for each merchant :\")\n",
    "df.groupby([df.merchant])['amount_usd_in_cents'].sum()"
   ]
  },
  {
   "cell_type": "code",
   "execution_count": 74,
   "id": "23e055b4",
   "metadata": {},
   "outputs": [
    {
     "name": "stdout",
     "output_type": "stream",
     "text": [
      "**Q1: Total count of transactions for each merchant. :\n"
     ]
    },
    {
     "data": {
      "text/plain": [
       "merchant\n",
       "5608f200cf    1673\n",
       "53b3fbeae2     817\n",
       "1ddaea9838     788\n",
       "89e2d29885     770\n",
       "654930c922     744\n",
       "              ... \n",
       "a116546ac7       1\n",
       "624bca636b       1\n",
       "bdaadcce74       1\n",
       "2418cf4d4c       1\n",
       "d6a42186fa       1\n",
       "Name: count, Length: 7902, dtype: int64"
      ]
     },
     "execution_count": 74,
     "metadata": {},
     "output_type": "execute_result"
    }
   ],
   "source": [
    "# • trans frequency: Total count of transactions for each merchant.\n",
    "print(\"**Q1: Total count of transactions for each merchant. :\")\n",
    "df['merchant'].value_counts()"
   ]
  },
  {
   "cell_type": "code",
   "execution_count": 278,
   "id": "512cdc3f",
   "metadata": {},
   "outputs": [
    {
     "name": "stdout",
     "output_type": "stream",
     "text": [
      "**Q1: Recency of the last transaction (in days from 1/1/2035 :\n",
      "**Q1: Recency of the last transaction in hours:  16.0\n"
     ]
    },
    {
     "data": {
      "text/plain": [
       "float"
      ]
     },
     "execution_count": 278,
     "metadata": {},
     "output_type": "execute_result"
    }
   ],
   "source": [
    "# • trans recency: Recency of the last transaction (in days from 1/1/2035).\n",
    "print(\"**Q1: Recency of the last transaction (in days from 1/1/2035 :\")\n",
    "date_now = pd.to_datetime('1/1/2035 00:00')\n",
    "trans_recency = (date_now - pd.to_datetime(df.time.max())).total_seconds()//3600\n",
    "print(\"**Q1: Recency of the last transaction in hours: \", trans_recency)\n",
    "type(trans_recency)"
   ]
  },
  {
   "cell_type": "code",
   "execution_count": 208,
   "id": "1432b967",
   "metadata": {
    "scrolled": true
   },
   "outputs": [
    {
     "name": "stdout",
     "output_type": "stream",
     "text": [
      "**Q1: Recency of the last transaction (in days from 1/1/2035 :\n",
      "**Q1: Recency of the last transaction in hours:  16.0\n"
     ]
    },
    {
     "data": {
      "text/plain": [
       "float"
      ]
     },
     "execution_count": 208,
     "metadata": {},
     "output_type": "execute_result"
    }
   ],
   "source": [
    "# • trans recency: Recency of the last transaction (in days from 1/1/2035).\n",
    "print(\"**Q1: Recency of the last transaction (in days from 1/1/2035 :\")\n",
    "date_now = pd.to_datetime('1/1/2035 00:00')\n",
    "trans_recency = (date_now - pd.to_datetime(df.time.max())).total_seconds()//3600\n",
    "print(\"**Q1: Recency of the last transaction in hours: \", trans_recency)\n",
    "type(trans_recency)\n"
   ]
  },
  {
   "cell_type": "code",
   "execution_count": 314,
   "id": "23e9e788",
   "metadata": {},
   "outputs": [
    {
     "name": "stdout",
     "output_type": "stream",
     "text": [
      "         merchant                 time\n",
      "0      d087d4c321  2034-12-11 22:16:41\n",
      "1      fe1cb2e840  2034-08-13 21:11:59\n",
      "2      878047f4b9  2033-06-05 21:15:00\n",
      "3      3932608d23  2034-04-28 19:55:01\n",
      "4      84a09b4188  2034-07-26 04:37:05\n",
      "...           ...                  ...\n",
      "99995  0a309e574d  2034-05-26 14:35:28\n",
      "99996  e9d9eacb17  2033-02-22 04:17:02\n",
      "99997  d6fe440e06  2033-12-26 18:52:50\n",
      "99998  4367df3b1e  2034-02-01 05:31:12\n",
      "99999  59adb5bff8  2034-05-24 21:53:23\n",
      "\n",
      "[100000 rows x 2 columns]\n",
      "**Q1: sorted data frame with only merchant and time columns:\n",
      "         merchant                 time\n",
      "17644  913696f5ff  2034-12-31 07:55:58\n",
      "73444  7851aedb5b  2034-12-31 07:27:21\n",
      "83787  164ba405db  2034-12-31 07:14:04\n",
      "8031   de9e4801de  2034-12-31 06:55:16\n",
      "5128   f7ba9d03d4  2034-12-31 06:54:38\n",
      "...           ...                  ...\n",
      "26065  878047f4b9  2033-01-01 23:49:57\n",
      "90334  81512d8413  2033-01-01 22:45:05\n",
      "41799  a8ff2d667e  2033-01-01 18:39:19\n",
      "91736  32cd721943  2033-01-01 16:57:21\n",
      "70995  81512d8413  2033-01-01 16:16:19\n",
      "\n",
      "[100000 rows x 2 columns]\n",
      "**Q1: print delta :\n",
      "         merchant                 time           delta\n",
      "17644  913696f5ff  2034-12-31 07:55:58 0 days 00:28:37\n",
      "73444  7851aedb5b  2034-12-31 07:27:21 0 days 00:13:17\n",
      "83787  164ba405db  2034-12-31 07:14:04 0 days 00:18:48\n",
      "8031   de9e4801de  2034-12-31 06:55:16 0 days 00:00:38\n",
      "5128   f7ba9d03d4  2034-12-31 06:54:38 0 days 00:00:05\n",
      "...           ...                  ...             ...\n",
      "26065  878047f4b9  2033-01-01 23:49:57 0 days 01:04:52\n",
      "90334  81512d8413  2033-01-01 22:45:05 0 days 04:05:46\n",
      "41799  a8ff2d667e  2033-01-01 18:39:19 0 days 01:41:58\n",
      "91736  32cd721943  2033-01-01 16:57:21 0 days 00:41:02\n",
      "70995  81512d8413  2033-01-01 16:16:19             NaT\n",
      "\n",
      "[100000 rows x 3 columns]\n",
      "**Q1: avg_time_btwn_trans in hours:\n",
      "0.17487835694444445\n"
     ]
    }
   ],
   "source": [
    "# • avg time btwn trans: Average time between transactions (in hours).\n",
    "data[0:0]\n",
    "data = df[['merchant','time']].copy()\n",
    "print(data)\n",
    "data1 = df.sort_values(by=['time'], ascending=False)\n",
    "data = data1[['merchant','time']].copy()\n",
    "print(\"**Q1: sorted data frame with only merchant and time columns:\")\n",
    "print(data)\n",
    "data['delta'] = pd.to_datetime(data['time']).diff(-1)\n",
    "print(\"**Q1: print delta :\")\n",
    "print(data)\n",
    "#avg_time_btwn_trans = data.delta.mean().total_seconds() / 3600\n",
    "print('**Q1: avg_time_btwn_trans in hours:')\n",
    "print(avg_time_btwn_trans )"
   ]
  },
  {
   "cell_type": "code",
   "execution_count": 418,
   "id": "06d9cdee",
   "metadata": {},
   "outputs": [
    {
     "name": "stdout",
     "output_type": "stream",
     "text": [
      "**Q1:Average growth rate amount for each merchant :\n"
     ]
    },
    {
     "data": {
      "text/plain": [
       "merchant\n",
       "00057d4302     -123.000000\n",
       "000ed1585f      542.700000\n",
       "000f8c3297     -265.733824\n",
       "0020aefbd9        1.000000\n",
       "0026f256ac        1.000000\n",
       "                  ...     \n",
       "ffb94e1865       -5.851684\n",
       "ffc46fd720        1.000000\n",
       "ffe1f6b51a       63.500000\n",
       "ffe26b900d   -15428.000000\n",
       "fff1754102    -2595.000000\n",
       "Name: amount_usd_in_cents, Length: 7902, dtype: float64"
      ]
     },
     "execution_count": 418,
     "metadata": {},
     "output_type": "execute_result"
    }
   ],
   "source": [
    "# • avg trans growth rate: Average growth rate in transaction amounts\n",
    "#import numpy as np\n",
    "from scipy.stats import linregress\n",
    "print(\"**Q1:Average growth rate amount for each merchant :\")\n",
    "df.groupby([df.merchant])['amount_usd_in_cents'].apply(lambda x: linregress(range(len(x)),x)[0] if len(x) >1 else 1)"
   ]
  },
  {
   "cell_type": "code",
   "execution_count": 102,
   "id": "d8b45e98",
   "metadata": {},
   "outputs": [],
   "source": [
    "import pandas as pd\n",
    "\n",
    "data = {\n",
    "    'merchant_id': [1001, 1002, 1001, 1001, 1003, 1002, 1003],\n",
    "    'transaction_amount': [50, 120, 80, 35, 250, 95, 170],\n",
    "    'transaction_date': [\n",
    "        '2023-10-12', '2023-11-01', '2023-10-25', '2023-09-15', '2023-12-10', '2023-11-15', '2023-12-01'\n",
    "    ]\n",
    "}\n",
    "df = pd.DataFrame(data)"
   ]
  },
  {
   "cell_type": "code",
   "execution_count": 104,
   "id": "34382136",
   "metadata": {},
   "outputs": [
    {
     "data": {
      "text/html": [
       "<div>\n",
       "<style scoped>\n",
       "    .dataframe tbody tr th:only-of-type {\n",
       "        vertical-align: middle;\n",
       "    }\n",
       "\n",
       "    .dataframe tbody tr th {\n",
       "        vertical-align: top;\n",
       "    }\n",
       "\n",
       "    .dataframe thead th {\n",
       "        text-align: right;\n",
       "    }\n",
       "</style>\n",
       "<table border=\"1\" class=\"dataframe\">\n",
       "  <thead>\n",
       "    <tr style=\"text-align: right;\">\n",
       "      <th></th>\n",
       "      <th>merchant_id</th>\n",
       "      <th>transaction_amount</th>\n",
       "      <th>transaction_date</th>\n",
       "    </tr>\n",
       "  </thead>\n",
       "  <tbody>\n",
       "    <tr>\n",
       "      <th>0</th>\n",
       "      <td>1001</td>\n",
       "      <td>50</td>\n",
       "      <td>2023-10-12</td>\n",
       "    </tr>\n",
       "    <tr>\n",
       "      <th>1</th>\n",
       "      <td>1002</td>\n",
       "      <td>120</td>\n",
       "      <td>2023-11-01</td>\n",
       "    </tr>\n",
       "    <tr>\n",
       "      <th>2</th>\n",
       "      <td>1001</td>\n",
       "      <td>80</td>\n",
       "      <td>2023-10-25</td>\n",
       "    </tr>\n",
       "    <tr>\n",
       "      <th>3</th>\n",
       "      <td>1001</td>\n",
       "      <td>35</td>\n",
       "      <td>2023-09-15</td>\n",
       "    </tr>\n",
       "    <tr>\n",
       "      <th>4</th>\n",
       "      <td>1003</td>\n",
       "      <td>250</td>\n",
       "      <td>2023-12-10</td>\n",
       "    </tr>\n",
       "  </tbody>\n",
       "</table>\n",
       "</div>"
      ],
      "text/plain": [
       "   merchant_id  transaction_amount transaction_date\n",
       "0         1001                  50       2023-10-12\n",
       "1         1002                 120       2023-11-01\n",
       "2         1001                  80       2023-10-25\n",
       "3         1001                  35       2023-09-15\n",
       "4         1003                 250       2023-12-10"
      ]
     },
     "execution_count": 104,
     "metadata": {},
     "output_type": "execute_result"
    }
   ],
   "source": [
    "df.head()"
   ]
  },
  {
   "cell_type": "code",
   "execution_count": 114,
   "id": "4f7412e0",
   "metadata": {},
   "outputs": [
    {
     "ename": "AttributeError",
     "evalue": "'SeriesGroupBy' object has no attribute 'transaction_amount_min'",
     "output_type": "error",
     "traceback": [
      "\u001b[1;31m---------------------------------------------------------------------------\u001b[0m",
      "\u001b[1;31mAttributeError\u001b[0m                            Traceback (most recent call last)",
      "Cell \u001b[1;32mIn[114], line 18\u001b[0m\n\u001b[0;32m      8\u001b[0m     result \u001b[38;5;241m=\u001b[39m df\u001b[38;5;241m.\u001b[39mgroupby([\u001b[38;5;124m'\u001b[39m\u001b[38;5;124mmerchant_id\u001b[39m\u001b[38;5;124m'\u001b[39m])\u001b[38;5;241m.\u001b[39magg(\n\u001b[0;32m      9\u001b[0m         trans_amount_min\u001b[38;5;241m:=\u001b[39m(\u001b[38;5;124m'\u001b[39m\u001b[38;5;124mtransaction_amount_min\u001b[39m\u001b[38;5;124m'\u001b[39m, \u001b[38;5;124m'\u001b[39m\u001b[38;5;124mmin\u001b[39m\u001b[38;5;124m'\u001b[39m),\n\u001b[0;32m     10\u001b[0m         trans_amount_max\u001b[38;5;241m:=\u001b[39m(\u001b[38;5;124m'\u001b[39m\u001b[38;5;124mtransaction_amount_max\u001b[39m\u001b[38;5;124m'\u001b[39m, \u001b[38;5;124m'\u001b[39m\u001b[38;5;124mmax\u001b[39m\u001b[38;5;124m'\u001b[39m),\n\u001b[1;32m   (...)\u001b[0m\n\u001b[0;32m     14\u001b[0m         trans_recency\u001b[38;5;241m:=\u001b[39m(\u001b[38;5;28;01mlambda\u001b[39;00m x: (ref_date \u001b[38;5;241m-\u001b[39m x\u001b[38;5;241m.\u001b[39mmax())\u001b[38;5;241m.\u001b[39mdays)\n\u001b[0;32m     15\u001b[0m     )\n\u001b[0;32m     16\u001b[0m     \u001b[38;5;28;01mreturn\u001b[39;00m result\n\u001b[1;32m---> 18\u001b[0m merchant_features \u001b[38;5;241m=\u001b[39m calculate_merchant_features(df\u001b[38;5;241m.\u001b[39mcopy())\n",
      "Cell \u001b[1;32mIn[114], line 8\u001b[0m, in \u001b[0;36mcalculate_merchant_features\u001b[1;34m(df)\u001b[0m\n\u001b[0;32m      7\u001b[0m \u001b[38;5;28;01mdef\u001b[39;00m \u001b[38;5;21mcalculate_merchant_features\u001b[39m(df):\n\u001b[1;32m----> 8\u001b[0m     result \u001b[38;5;241m=\u001b[39m df\u001b[38;5;241m.\u001b[39mgroupby([\u001b[38;5;124m'\u001b[39m\u001b[38;5;124mmerchant_id\u001b[39m\u001b[38;5;124m'\u001b[39m])\u001b[38;5;241m.\u001b[39magg(\n\u001b[0;32m      9\u001b[0m         trans_amount_min\u001b[38;5;241m:=\u001b[39m(\u001b[38;5;124m'\u001b[39m\u001b[38;5;124mtransaction_amount_min\u001b[39m\u001b[38;5;124m'\u001b[39m, \u001b[38;5;124m'\u001b[39m\u001b[38;5;124mmin\u001b[39m\u001b[38;5;124m'\u001b[39m),\n\u001b[0;32m     10\u001b[0m         trans_amount_max\u001b[38;5;241m:=\u001b[39m(\u001b[38;5;124m'\u001b[39m\u001b[38;5;124mtransaction_amount_max\u001b[39m\u001b[38;5;124m'\u001b[39m, \u001b[38;5;124m'\u001b[39m\u001b[38;5;124mmax\u001b[39m\u001b[38;5;124m'\u001b[39m),\n\u001b[0;32m     11\u001b[0m         trans_amount_avg\u001b[38;5;241m:=\u001b[39m(\u001b[38;5;124m'\u001b[39m\u001b[38;5;124mtransaction_amount_mean\u001b[39m\u001b[38;5;124m'\u001b[39m, \u001b[38;5;124m'\u001b[39m\u001b[38;5;124mmean\u001b[39m\u001b[38;5;124m'\u001b[39m),\n\u001b[0;32m     12\u001b[0m         trans_amount_volume\u001b[38;5;241m:=\u001b[39m(\u001b[38;5;124m'\u001b[39m\u001b[38;5;124mtransaction_amount_sum\u001b[39m\u001b[38;5;124m'\u001b[39m, \u001b[38;5;124m'\u001b[39m\u001b[38;5;124msum\u001b[39m\u001b[38;5;124m'\u001b[39m),\n\u001b[0;32m     13\u001b[0m         trans_frequency\u001b[38;5;241m:=\u001b[39m(\u001b[38;5;124m'\u001b[39m\u001b[38;5;124mtransaction_amount_count\u001b[39m\u001b[38;5;124m'\u001b[39m, \u001b[38;5;124m'\u001b[39m\u001b[38;5;124mcount\u001b[39m\u001b[38;5;124m'\u001b[39m),\n\u001b[0;32m     14\u001b[0m         trans_recency\u001b[38;5;241m:=\u001b[39m(\u001b[38;5;28;01mlambda\u001b[39;00m x: (ref_date \u001b[38;5;241m-\u001b[39m x\u001b[38;5;241m.\u001b[39mmax())\u001b[38;5;241m.\u001b[39mdays)\n\u001b[0;32m     15\u001b[0m     )\n\u001b[0;32m     16\u001b[0m     \u001b[38;5;28;01mreturn\u001b[39;00m result\n",
      "File \u001b[1;32m~\\AppData\\Local\\anaconda3\\Lib\\site-packages\\pandas\\core\\groupby\\generic.py:1269\u001b[0m, in \u001b[0;36mDataFrameGroupBy.aggregate\u001b[1;34m(self, func, engine, engine_kwargs, *args, **kwargs)\u001b[0m\n\u001b[0;32m   1266\u001b[0m func \u001b[38;5;241m=\u001b[39m maybe_mangle_lambdas(func)\n\u001b[0;32m   1268\u001b[0m op \u001b[38;5;241m=\u001b[39m GroupByApply(\u001b[38;5;28mself\u001b[39m, func, args, kwargs)\n\u001b[1;32m-> 1269\u001b[0m result \u001b[38;5;241m=\u001b[39m op\u001b[38;5;241m.\u001b[39magg()\n\u001b[0;32m   1270\u001b[0m \u001b[38;5;28;01mif\u001b[39;00m \u001b[38;5;129;01mnot\u001b[39;00m is_dict_like(func) \u001b[38;5;129;01mand\u001b[39;00m result \u001b[38;5;129;01mis\u001b[39;00m \u001b[38;5;129;01mnot\u001b[39;00m \u001b[38;5;28;01mNone\u001b[39;00m:\n\u001b[0;32m   1271\u001b[0m     \u001b[38;5;28;01mreturn\u001b[39;00m result\n",
      "File \u001b[1;32m~\\AppData\\Local\\anaconda3\\Lib\\site-packages\\pandas\\core\\apply.py:166\u001b[0m, in \u001b[0;36mApply.agg\u001b[1;34m(self)\u001b[0m\n\u001b[0;32m    163\u001b[0m     \u001b[38;5;28;01mreturn\u001b[39;00m \u001b[38;5;28mself\u001b[39m\u001b[38;5;241m.\u001b[39magg_dict_like()\n\u001b[0;32m    164\u001b[0m \u001b[38;5;28;01melif\u001b[39;00m is_list_like(arg):\n\u001b[0;32m    165\u001b[0m     \u001b[38;5;66;03m# we require a list, but not a 'str'\u001b[39;00m\n\u001b[1;32m--> 166\u001b[0m     \u001b[38;5;28;01mreturn\u001b[39;00m \u001b[38;5;28mself\u001b[39m\u001b[38;5;241m.\u001b[39magg_list_like()\n\u001b[0;32m    168\u001b[0m \u001b[38;5;28;01mif\u001b[39;00m \u001b[38;5;28mcallable\u001b[39m(arg):\n\u001b[0;32m    169\u001b[0m     f \u001b[38;5;241m=\u001b[39m com\u001b[38;5;241m.\u001b[39mget_cython_func(arg)\n",
      "File \u001b[1;32m~\\AppData\\Local\\anaconda3\\Lib\\site-packages\\pandas\\core\\apply.py:355\u001b[0m, in \u001b[0;36mApply.agg_list_like\u001b[1;34m(self)\u001b[0m\n\u001b[0;32m    351\u001b[0m     new_res \u001b[38;5;241m=\u001b[39m colg\u001b[38;5;241m.\u001b[39maggregate(\n\u001b[0;32m    352\u001b[0m         arg, \u001b[38;5;28mself\u001b[39m\u001b[38;5;241m.\u001b[39maxis, \u001b[38;5;241m*\u001b[39m\u001b[38;5;28mself\u001b[39m\u001b[38;5;241m.\u001b[39margs, \u001b[38;5;241m*\u001b[39m\u001b[38;5;241m*\u001b[39m\u001b[38;5;28mself\u001b[39m\u001b[38;5;241m.\u001b[39mkwargs\n\u001b[0;32m    353\u001b[0m     )\n\u001b[0;32m    354\u001b[0m \u001b[38;5;28;01melse\u001b[39;00m:\n\u001b[1;32m--> 355\u001b[0m     new_res \u001b[38;5;241m=\u001b[39m colg\u001b[38;5;241m.\u001b[39maggregate(arg, \u001b[38;5;241m*\u001b[39m\u001b[38;5;28mself\u001b[39m\u001b[38;5;241m.\u001b[39margs, \u001b[38;5;241m*\u001b[39m\u001b[38;5;241m*\u001b[39m\u001b[38;5;28mself\u001b[39m\u001b[38;5;241m.\u001b[39mkwargs)\n\u001b[0;32m    356\u001b[0m results\u001b[38;5;241m.\u001b[39mappend(new_res)\n\u001b[0;32m    357\u001b[0m indices\u001b[38;5;241m.\u001b[39mappend(index)\n",
      "File \u001b[1;32m~\\AppData\\Local\\anaconda3\\Lib\\site-packages\\pandas\\core\\groupby\\generic.py:238\u001b[0m, in \u001b[0;36mSeriesGroupBy.aggregate\u001b[1;34m(self, func, engine, engine_kwargs, *args, **kwargs)\u001b[0m\n\u001b[0;32m    234\u001b[0m \u001b[38;5;28;01melif\u001b[39;00m \u001b[38;5;28misinstance\u001b[39m(func, abc\u001b[38;5;241m.\u001b[39mIterable):\n\u001b[0;32m    235\u001b[0m     \u001b[38;5;66;03m# Catch instances of lists / tuples\u001b[39;00m\n\u001b[0;32m    236\u001b[0m     \u001b[38;5;66;03m# but not the class list / tuple itself.\u001b[39;00m\n\u001b[0;32m    237\u001b[0m     func \u001b[38;5;241m=\u001b[39m maybe_mangle_lambdas(func)\n\u001b[1;32m--> 238\u001b[0m     ret \u001b[38;5;241m=\u001b[39m \u001b[38;5;28mself\u001b[39m\u001b[38;5;241m.\u001b[39m_aggregate_multiple_funcs(func, \u001b[38;5;241m*\u001b[39margs, \u001b[38;5;241m*\u001b[39m\u001b[38;5;241m*\u001b[39mkwargs)\n\u001b[0;32m    239\u001b[0m     \u001b[38;5;28;01mif\u001b[39;00m relabeling:\n\u001b[0;32m    240\u001b[0m         \u001b[38;5;66;03m# columns is not narrowed by mypy from relabeling flag\u001b[39;00m\n\u001b[0;32m    241\u001b[0m         \u001b[38;5;28;01massert\u001b[39;00m columns \u001b[38;5;129;01mis\u001b[39;00m \u001b[38;5;129;01mnot\u001b[39;00m \u001b[38;5;28;01mNone\u001b[39;00m  \u001b[38;5;66;03m# for mypy\u001b[39;00m\n",
      "File \u001b[1;32m~\\AppData\\Local\\anaconda3\\Lib\\site-packages\\pandas\\core\\groupby\\generic.py:316\u001b[0m, in \u001b[0;36mSeriesGroupBy._aggregate_multiple_funcs\u001b[1;34m(self, arg, *args, **kwargs)\u001b[0m\n\u001b[0;32m    314\u001b[0m     \u001b[38;5;28;01mfor\u001b[39;00m idx, (name, func) \u001b[38;5;129;01min\u001b[39;00m \u001b[38;5;28menumerate\u001b[39m(arg):\n\u001b[0;32m    315\u001b[0m         key \u001b[38;5;241m=\u001b[39m base\u001b[38;5;241m.\u001b[39mOutputKey(label\u001b[38;5;241m=\u001b[39mname, position\u001b[38;5;241m=\u001b[39midx)\n\u001b[1;32m--> 316\u001b[0m         results[key] \u001b[38;5;241m=\u001b[39m \u001b[38;5;28mself\u001b[39m\u001b[38;5;241m.\u001b[39maggregate(func, \u001b[38;5;241m*\u001b[39margs, \u001b[38;5;241m*\u001b[39m\u001b[38;5;241m*\u001b[39mkwargs)\n\u001b[0;32m    318\u001b[0m \u001b[38;5;28;01mif\u001b[39;00m \u001b[38;5;28many\u001b[39m(\u001b[38;5;28misinstance\u001b[39m(x, DataFrame) \u001b[38;5;28;01mfor\u001b[39;00m x \u001b[38;5;129;01min\u001b[39;00m results\u001b[38;5;241m.\u001b[39mvalues()):\n\u001b[0;32m    319\u001b[0m     \u001b[38;5;28;01mfrom\u001b[39;00m \u001b[38;5;21;01mpandas\u001b[39;00m \u001b[38;5;28;01mimport\u001b[39;00m concat\n",
      "File \u001b[1;32m~\\AppData\\Local\\anaconda3\\Lib\\site-packages\\pandas\\core\\groupby\\generic.py:232\u001b[0m, in \u001b[0;36mSeriesGroupBy.aggregate\u001b[1;34m(self, func, engine, engine_kwargs, *args, **kwargs)\u001b[0m\n\u001b[0;32m    229\u001b[0m     kwargs \u001b[38;5;241m=\u001b[39m {}\n\u001b[0;32m    231\u001b[0m \u001b[38;5;28;01mif\u001b[39;00m \u001b[38;5;28misinstance\u001b[39m(func, \u001b[38;5;28mstr\u001b[39m):\n\u001b[1;32m--> 232\u001b[0m     \u001b[38;5;28;01mreturn\u001b[39;00m \u001b[38;5;28mgetattr\u001b[39m(\u001b[38;5;28mself\u001b[39m, func)(\u001b[38;5;241m*\u001b[39margs, \u001b[38;5;241m*\u001b[39m\u001b[38;5;241m*\u001b[39mkwargs)\n\u001b[0;32m    234\u001b[0m \u001b[38;5;28;01melif\u001b[39;00m \u001b[38;5;28misinstance\u001b[39m(func, abc\u001b[38;5;241m.\u001b[39mIterable):\n\u001b[0;32m    235\u001b[0m     \u001b[38;5;66;03m# Catch instances of lists / tuples\u001b[39;00m\n\u001b[0;32m    236\u001b[0m     \u001b[38;5;66;03m# but not the class list / tuple itself.\u001b[39;00m\n\u001b[0;32m    237\u001b[0m     func \u001b[38;5;241m=\u001b[39m maybe_mangle_lambdas(func)\n",
      "File \u001b[1;32m~\\AppData\\Local\\anaconda3\\Lib\\site-packages\\pandas\\core\\groupby\\groupby.py:952\u001b[0m, in \u001b[0;36mGroupBy.__getattr__\u001b[1;34m(self, attr)\u001b[0m\n\u001b[0;32m    949\u001b[0m \u001b[38;5;28;01mif\u001b[39;00m attr \u001b[38;5;129;01min\u001b[39;00m \u001b[38;5;28mself\u001b[39m\u001b[38;5;241m.\u001b[39mobj:\n\u001b[0;32m    950\u001b[0m     \u001b[38;5;28;01mreturn\u001b[39;00m \u001b[38;5;28mself\u001b[39m[attr]\n\u001b[1;32m--> 952\u001b[0m \u001b[38;5;28;01mraise\u001b[39;00m \u001b[38;5;167;01mAttributeError\u001b[39;00m(\n\u001b[0;32m    953\u001b[0m     \u001b[38;5;124mf\u001b[39m\u001b[38;5;124m\"\u001b[39m\u001b[38;5;124m'\u001b[39m\u001b[38;5;132;01m{\u001b[39;00m\u001b[38;5;28mtype\u001b[39m(\u001b[38;5;28mself\u001b[39m)\u001b[38;5;241m.\u001b[39m\u001b[38;5;18m__name__\u001b[39m\u001b[38;5;132;01m}\u001b[39;00m\u001b[38;5;124m'\u001b[39m\u001b[38;5;124m object has no attribute \u001b[39m\u001b[38;5;124m'\u001b[39m\u001b[38;5;132;01m{\u001b[39;00mattr\u001b[38;5;132;01m}\u001b[39;00m\u001b[38;5;124m'\u001b[39m\u001b[38;5;124m\"\u001b[39m\n\u001b[0;32m    954\u001b[0m )\n",
      "\u001b[1;31mAttributeError\u001b[0m: 'SeriesGroupBy' object has no attribute 'transaction_amount_min'"
     ]
    }
   ],
   "source": [
    "# Convert transaction_date to datetime\n",
    "df['transaction_date'] = pd.to_datetime(df['transaction_date'])\n",
    "\n",
    "# Reference date for recency calculation\n",
    "ref_date = pd.to_datetime('2035-01-01')\n",
    "\n",
    "def calculate_merchant_features(df):\n",
    "    result = df.groupby(['merchant_id']).agg(\n",
    "        trans_amount_min:=('transaction_amount_min', 'min'),\n",
    "        trans_amount_max:=('transaction_amount_max', 'max'),\n",
    "        trans_amount_avg:=('transaction_amount_mean', 'mean'),\n",
    "        trans_amount_volume:=('transaction_amount_sum', 'sum'),\n",
    "        trans_frequency:=('transaction_amount_count', 'count'),\n",
    "        trans_recency:=(lambda x: (ref_date - x.max()).days)\n",
    "    )\n",
    "    return result\n",
    "\n",
    "merchant_features = calculate_merchant_features(df.copy())\n",
    "#print(merchant_features)"
   ]
  },
  {
   "cell_type": "code",
   "execution_count": null,
   "id": "6f669616",
   "metadata": {},
   "outputs": [],
   "source": [
    "# Q2\n",
    "# You are provided with two datasets: sales data.csv and product info.csv.\n",
    "# • sales data.csv contains transaction records with columns: ’TransactionID’,\n",
    "# ’ProductID’, ’Date’, ’Quantity’, and ’Price’.\n",
    "# • product info.csv contains product details with columns: ’ProductID’, ’Pro\u0002ductName’, ’Category’.\n",
    "# Your task involves multiple steps of data manipulation using Pandas and NumPy to\n",
    "# extract insights from these datasets"
   ]
  },
  {
   "cell_type": "code",
   "execution_count": 421,
   "id": "7559dac1",
   "metadata": {},
   "outputs": [
    {
     "data": {
      "text/html": [
       "<div>\n",
       "<style scoped>\n",
       "    .dataframe tbody tr th:only-of-type {\n",
       "        vertical-align: middle;\n",
       "    }\n",
       "\n",
       "    .dataframe tbody tr th {\n",
       "        vertical-align: top;\n",
       "    }\n",
       "\n",
       "    .dataframe thead th {\n",
       "        text-align: right;\n",
       "    }\n",
       "</style>\n",
       "<table border=\"1\" class=\"dataframe\">\n",
       "  <thead>\n",
       "    <tr style=\"text-align: right;\">\n",
       "      <th></th>\n",
       "      <th>ProductID</th>\n",
       "      <th>ProductName</th>\n",
       "      <th>Category</th>\n",
       "    </tr>\n",
       "  </thead>\n",
       "  <tbody>\n",
       "    <tr>\n",
       "      <th>0</th>\n",
       "      <td>100</td>\n",
       "      <td>not</td>\n",
       "      <td>Clothing</td>\n",
       "    </tr>\n",
       "    <tr>\n",
       "      <th>1</th>\n",
       "      <td>101</td>\n",
       "      <td>ready</td>\n",
       "      <td>Clothing</td>\n",
       "    </tr>\n",
       "    <tr>\n",
       "      <th>2</th>\n",
       "      <td>102</td>\n",
       "      <td>fill</td>\n",
       "      <td>Books</td>\n",
       "    </tr>\n",
       "    <tr>\n",
       "      <th>3</th>\n",
       "      <td>103</td>\n",
       "      <td>avoid</td>\n",
       "      <td>Clothing</td>\n",
       "    </tr>\n",
       "    <tr>\n",
       "      <th>4</th>\n",
       "      <td>104</td>\n",
       "      <td>beyond</td>\n",
       "      <td>Toys</td>\n",
       "    </tr>\n",
       "    <tr>\n",
       "      <th>...</th>\n",
       "      <td>...</td>\n",
       "      <td>...</td>\n",
       "      <td>...</td>\n",
       "    </tr>\n",
       "    <tr>\n",
       "      <th>95</th>\n",
       "      <td>195</td>\n",
       "      <td>just</td>\n",
       "      <td>Clothing</td>\n",
       "    </tr>\n",
       "    <tr>\n",
       "      <th>96</th>\n",
       "      <td>196</td>\n",
       "      <td>personal</td>\n",
       "      <td>Books</td>\n",
       "    </tr>\n",
       "    <tr>\n",
       "      <th>97</th>\n",
       "      <td>197</td>\n",
       "      <td>human</td>\n",
       "      <td>Books</td>\n",
       "    </tr>\n",
       "    <tr>\n",
       "      <th>98</th>\n",
       "      <td>198</td>\n",
       "      <td>accept</td>\n",
       "      <td>Books</td>\n",
       "    </tr>\n",
       "    <tr>\n",
       "      <th>99</th>\n",
       "      <td>199</td>\n",
       "      <td>share</td>\n",
       "      <td>Clothing</td>\n",
       "    </tr>\n",
       "  </tbody>\n",
       "</table>\n",
       "<p>100 rows × 3 columns</p>\n",
       "</div>"
      ],
      "text/plain": [
       "    ProductID ProductName  Category\n",
       "0         100         not  Clothing\n",
       "1         101       ready  Clothing\n",
       "2         102        fill     Books\n",
       "3         103       avoid  Clothing\n",
       "4         104      beyond      Toys\n",
       "..        ...         ...       ...\n",
       "95        195        just  Clothing\n",
       "96        196    personal     Books\n",
       "97        197       human     Books\n",
       "98        198      accept     Books\n",
       "99        199       share  Clothing\n",
       "\n",
       "[100 rows x 3 columns]"
      ]
     },
     "execution_count": 421,
     "metadata": {},
     "output_type": "execute_result"
    }
   ],
   "source": [
    "# Tasks:\n",
    "# 1. Data Loading and Merging:\n",
    "# • Load both datasets using Pandas.\n",
    "# • Merge them into a single DataFrame on ’ProductID’.\n",
    "\n",
    "# **Q2\n",
    "# Import pandas\n",
    "import pandas as pd\n",
    "# Read the csv file with names parameter \n",
    "df_sales = pd.read_csv(\"Downloads\\sales_data.csv\")\n",
    "df_prodinfo = pd.read_csv(\"Downloads\\product_info.csv\")\n",
    "productId = \n",
    "df_sales\n",
    "df_prodinfo\n"
   ]
  },
  {
   "cell_type": "code",
   "execution_count": 422,
   "id": "310a8d7b",
   "metadata": {},
   "outputs": [
    {
     "data": {
      "text/html": [
       "<div>\n",
       "<style scoped>\n",
       "    .dataframe tbody tr th:only-of-type {\n",
       "        vertical-align: middle;\n",
       "    }\n",
       "\n",
       "    .dataframe tbody tr th {\n",
       "        vertical-align: top;\n",
       "    }\n",
       "\n",
       "    .dataframe thead th {\n",
       "        text-align: right;\n",
       "    }\n",
       "</style>\n",
       "<table border=\"1\" class=\"dataframe\">\n",
       "  <thead>\n",
       "    <tr style=\"text-align: right;\">\n",
       "      <th></th>\n",
       "      <th>TransactionID</th>\n",
       "      <th>ProductID</th>\n",
       "      <th>Date</th>\n",
       "      <th>Quantity</th>\n",
       "      <th>Price</th>\n",
       "    </tr>\n",
       "  </thead>\n",
       "  <tbody>\n",
       "    <tr>\n",
       "      <th>0</th>\n",
       "      <td>1</td>\n",
       "      <td>136</td>\n",
       "      <td>2023-03-13</td>\n",
       "      <td>8</td>\n",
       "      <td>245.288680</td>\n",
       "    </tr>\n",
       "    <tr>\n",
       "      <th>1</th>\n",
       "      <td>2</td>\n",
       "      <td>121</td>\n",
       "      <td>2023-06-09</td>\n",
       "      <td>2</td>\n",
       "      <td>355.603776</td>\n",
       "    </tr>\n",
       "    <tr>\n",
       "      <th>2</th>\n",
       "      <td>3</td>\n",
       "      <td>179</td>\n",
       "      <td>2023-04-18</td>\n",
       "      <td>7</td>\n",
       "      <td>25.393345</td>\n",
       "    </tr>\n",
       "    <tr>\n",
       "      <th>3</th>\n",
       "      <td>4</td>\n",
       "      <td>142</td>\n",
       "      <td>2023-09-03</td>\n",
       "      <td>10</td>\n",
       "      <td>260.758110</td>\n",
       "    </tr>\n",
       "    <tr>\n",
       "      <th>4</th>\n",
       "      <td>5</td>\n",
       "      <td>101</td>\n",
       "      <td>2023-06-21</td>\n",
       "      <td>1</td>\n",
       "      <td>212.490775</td>\n",
       "    </tr>\n",
       "    <tr>\n",
       "      <th>...</th>\n",
       "      <td>...</td>\n",
       "      <td>...</td>\n",
       "      <td>...</td>\n",
       "      <td>...</td>\n",
       "      <td>...</td>\n",
       "    </tr>\n",
       "    <tr>\n",
       "      <th>9995</th>\n",
       "      <td>9996</td>\n",
       "      <td>136</td>\n",
       "      <td>2023-01-30</td>\n",
       "      <td>7</td>\n",
       "      <td>29.294954</td>\n",
       "    </tr>\n",
       "    <tr>\n",
       "      <th>9996</th>\n",
       "      <td>9997</td>\n",
       "      <td>160</td>\n",
       "      <td>2023-05-23</td>\n",
       "      <td>1</td>\n",
       "      <td>96.704246</td>\n",
       "    </tr>\n",
       "    <tr>\n",
       "      <th>9997</th>\n",
       "      <td>9998</td>\n",
       "      <td>122</td>\n",
       "      <td>2023-07-14</td>\n",
       "      <td>10</td>\n",
       "      <td>175.151577</td>\n",
       "    </tr>\n",
       "    <tr>\n",
       "      <th>9998</th>\n",
       "      <td>9999</td>\n",
       "      <td>116</td>\n",
       "      <td>2023-03-25</td>\n",
       "      <td>10</td>\n",
       "      <td>337.270736</td>\n",
       "    </tr>\n",
       "    <tr>\n",
       "      <th>9999</th>\n",
       "      <td>10000</td>\n",
       "      <td>186</td>\n",
       "      <td>2024-01-11</td>\n",
       "      <td>5</td>\n",
       "      <td>451.139015</td>\n",
       "    </tr>\n",
       "  </tbody>\n",
       "</table>\n",
       "<p>10000 rows × 5 columns</p>\n",
       "</div>"
      ],
      "text/plain": [
       "      TransactionID  ProductID        Date  Quantity       Price\n",
       "0                 1        136  2023-03-13         8  245.288680\n",
       "1                 2        121  2023-06-09         2  355.603776\n",
       "2                 3        179  2023-04-18         7   25.393345\n",
       "3                 4        142  2023-09-03        10  260.758110\n",
       "4                 5        101  2023-06-21         1  212.490775\n",
       "...             ...        ...         ...       ...         ...\n",
       "9995           9996        136  2023-01-30         7   29.294954\n",
       "9996           9997        160  2023-05-23         1   96.704246\n",
       "9997           9998        122  2023-07-14        10  175.151577\n",
       "9998           9999        116  2023-03-25        10  337.270736\n",
       "9999          10000        186  2024-01-11         5  451.139015\n",
       "\n",
       "[10000 rows x 5 columns]"
      ]
     },
     "execution_count": 422,
     "metadata": {},
     "output_type": "execute_result"
    }
   ],
   "source": [
    "df_sales"
   ]
  },
  {
   "cell_type": "code",
   "execution_count": 428,
   "id": "1001683a",
   "metadata": {
    "scrolled": true
   },
   "outputs": [
    {
     "data": {
      "text/html": [
       "<div>\n",
       "<style scoped>\n",
       "    .dataframe tbody tr th:only-of-type {\n",
       "        vertical-align: middle;\n",
       "    }\n",
       "\n",
       "    .dataframe tbody tr th {\n",
       "        vertical-align: top;\n",
       "    }\n",
       "\n",
       "    .dataframe thead th {\n",
       "        text-align: right;\n",
       "    }\n",
       "</style>\n",
       "<table border=\"1\" class=\"dataframe\">\n",
       "  <thead>\n",
       "    <tr style=\"text-align: right;\">\n",
       "      <th></th>\n",
       "      <th>TransactionID</th>\n",
       "      <th>ProductID</th>\n",
       "      <th>Date</th>\n",
       "      <th>Quantity</th>\n",
       "      <th>Price</th>\n",
       "      <th>ProductName</th>\n",
       "      <th>Category</th>\n",
       "    </tr>\n",
       "  </thead>\n",
       "  <tbody>\n",
       "    <tr>\n",
       "      <th>9990</th>\n",
       "      <td>8984</td>\n",
       "      <td>180</td>\n",
       "      <td>2023-11-08</td>\n",
       "      <td>5</td>\n",
       "      <td>198.663536</td>\n",
       "      <td>hard</td>\n",
       "      <td>Home Appliances</td>\n",
       "    </tr>\n",
       "    <tr>\n",
       "      <th>9991</th>\n",
       "      <td>9279</td>\n",
       "      <td>180</td>\n",
       "      <td>2023-09-08</td>\n",
       "      <td>9</td>\n",
       "      <td>487.800004</td>\n",
       "      <td>hard</td>\n",
       "      <td>Home Appliances</td>\n",
       "    </tr>\n",
       "    <tr>\n",
       "      <th>9992</th>\n",
       "      <td>9321</td>\n",
       "      <td>180</td>\n",
       "      <td>2023-09-21</td>\n",
       "      <td>3</td>\n",
       "      <td>240.528640</td>\n",
       "      <td>hard</td>\n",
       "      <td>Home Appliances</td>\n",
       "    </tr>\n",
       "    <tr>\n",
       "      <th>9993</th>\n",
       "      <td>9452</td>\n",
       "      <td>180</td>\n",
       "      <td>2023-09-27</td>\n",
       "      <td>1</td>\n",
       "      <td>487.558037</td>\n",
       "      <td>hard</td>\n",
       "      <td>Home Appliances</td>\n",
       "    </tr>\n",
       "    <tr>\n",
       "      <th>9994</th>\n",
       "      <td>9502</td>\n",
       "      <td>180</td>\n",
       "      <td>2023-04-23</td>\n",
       "      <td>3</td>\n",
       "      <td>467.342151</td>\n",
       "      <td>hard</td>\n",
       "      <td>Home Appliances</td>\n",
       "    </tr>\n",
       "    <tr>\n",
       "      <th>9995</th>\n",
       "      <td>9538</td>\n",
       "      <td>180</td>\n",
       "      <td>2023-06-16</td>\n",
       "      <td>2</td>\n",
       "      <td>372.986276</td>\n",
       "      <td>hard</td>\n",
       "      <td>Home Appliances</td>\n",
       "    </tr>\n",
       "    <tr>\n",
       "      <th>9996</th>\n",
       "      <td>9548</td>\n",
       "      <td>180</td>\n",
       "      <td>2023-05-16</td>\n",
       "      <td>9</td>\n",
       "      <td>305.627015</td>\n",
       "      <td>hard</td>\n",
       "      <td>Home Appliances</td>\n",
       "    </tr>\n",
       "    <tr>\n",
       "      <th>9997</th>\n",
       "      <td>9606</td>\n",
       "      <td>180</td>\n",
       "      <td>2023-06-25</td>\n",
       "      <td>10</td>\n",
       "      <td>130.088985</td>\n",
       "      <td>hard</td>\n",
       "      <td>Home Appliances</td>\n",
       "    </tr>\n",
       "    <tr>\n",
       "      <th>9998</th>\n",
       "      <td>9723</td>\n",
       "      <td>180</td>\n",
       "      <td>2023-09-06</td>\n",
       "      <td>1</td>\n",
       "      <td>390.264315</td>\n",
       "      <td>hard</td>\n",
       "      <td>Home Appliances</td>\n",
       "    </tr>\n",
       "    <tr>\n",
       "      <th>9999</th>\n",
       "      <td>9929</td>\n",
       "      <td>180</td>\n",
       "      <td>2023-04-10</td>\n",
       "      <td>4</td>\n",
       "      <td>158.165213</td>\n",
       "      <td>hard</td>\n",
       "      <td>Home Appliances</td>\n",
       "    </tr>\n",
       "  </tbody>\n",
       "</table>\n",
       "</div>"
      ],
      "text/plain": [
       "      TransactionID  ProductID        Date  Quantity       Price ProductName  \\\n",
       "9990           8984        180  2023-11-08         5  198.663536        hard   \n",
       "9991           9279        180  2023-09-08         9  487.800004        hard   \n",
       "9992           9321        180  2023-09-21         3  240.528640        hard   \n",
       "9993           9452        180  2023-09-27         1  487.558037        hard   \n",
       "9994           9502        180  2023-04-23         3  467.342151        hard   \n",
       "9995           9538        180  2023-06-16         2  372.986276        hard   \n",
       "9996           9548        180  2023-05-16         9  305.627015        hard   \n",
       "9997           9606        180  2023-06-25        10  130.088985        hard   \n",
       "9998           9723        180  2023-09-06         1  390.264315        hard   \n",
       "9999           9929        180  2023-04-10         4  158.165213        hard   \n",
       "\n",
       "             Category  \n",
       "9990  Home Appliances  \n",
       "9991  Home Appliances  \n",
       "9992  Home Appliances  \n",
       "9993  Home Appliances  \n",
       "9994  Home Appliances  \n",
       "9995  Home Appliances  \n",
       "9996  Home Appliances  \n",
       "9997  Home Appliances  \n",
       "9998  Home Appliances  \n",
       "9999  Home Appliances  "
      ]
     },
     "execution_count": 428,
     "metadata": {},
     "output_type": "execute_result"
    }
   ],
   "source": [
    "# 2. Data Cleaning:\n",
    "# • Check for and handle any missing values in the merged dataset.\n",
    "# • Convert the ’Date’ column to a DateTime object.\n",
    "\n",
    "Merged_TransID = df_sales.merge(df_prodinfo)\n",
    "Merged_TransID.tail(10)"
   ]
  },
  {
   "cell_type": "code",
   "execution_count": 429,
   "id": "27986f49",
   "metadata": {},
   "outputs": [
    {
     "name": "stdout",
     "output_type": "stream",
     "text": [
      "      TransactionID  ProductID        Date  Quantity       Price ProductName  \\\n",
      "0                 1        136  2023-03-13         8  245.288680        pull   \n",
      "1                92        136  2023-07-02         6   21.266893        pull   \n",
      "2               260        136  2023-04-15         2  356.242853        pull   \n",
      "3               411        136  2023-08-21         2   91.071146        pull   \n",
      "4               479        136  2023-03-02        10  331.557053        pull   \n",
      "...             ...        ...         ...       ...         ...         ...   \n",
      "9995           9538        180  2023-06-16         2  372.986276        hard   \n",
      "9996           9548        180  2023-05-16         9  305.627015        hard   \n",
      "9997           9606        180  2023-06-25        10  130.088985        hard   \n",
      "9998           9723        180  2023-09-06         1  390.264315        hard   \n",
      "9999           9929        180  2023-04-10         4  158.165213        hard   \n",
      "\n",
      "             Category  \n",
      "0                Toys  \n",
      "1                Toys  \n",
      "2                Toys  \n",
      "3                Toys  \n",
      "4                Toys  \n",
      "...               ...  \n",
      "9995  Home Appliances  \n",
      "9996  Home Appliances  \n",
      "9997  Home Appliances  \n",
      "9998  Home Appliances  \n",
      "9999  Home Appliances  \n",
      "\n",
      "[10000 rows x 7 columns]\n"
     ]
    }
   ],
   "source": [
    "print(Merged_TransID)"
   ]
  },
  {
   "cell_type": "code",
   "execution_count": 432,
   "id": "d211da28",
   "metadata": {},
   "outputs": [
    {
     "data": {
      "text/plain": [
       "0      2023-03-13\n",
       "1      2023-07-02\n",
       "2      2023-04-15\n",
       "3      2023-08-21\n",
       "4      2023-03-02\n",
       "          ...    \n",
       "9995   2023-06-16\n",
       "9996   2023-05-16\n",
       "9997   2023-06-25\n",
       "9998   2023-09-06\n",
       "9999   2023-04-10\n",
       "Name: Date, Length: 10000, dtype: datetime64[ns]"
      ]
     },
     "execution_count": 432,
     "metadata": {},
     "output_type": "execute_result"
    }
   ],
   "source": [
    "# • Convert the ’Date’ column to a DateTime object.\n",
    "# Merged_TransID.Date = Merged_TransID.Date.apply(lambda x: pd.to_datetime(x))\n",
    "Merged_TransID.Date.apply(lambda x: pd.to_datetime(x))"
   ]
  },
  {
   "cell_type": "code",
   "execution_count": 437,
   "id": "7e2f2e80",
   "metadata": {
    "scrolled": true
   },
   "outputs": [
    {
     "data": {
      "text/html": [
       "<div>\n",
       "<style scoped>\n",
       "    .dataframe tbody tr th:only-of-type {\n",
       "        vertical-align: middle;\n",
       "    }\n",
       "\n",
       "    .dataframe tbody tr th {\n",
       "        vertical-align: top;\n",
       "    }\n",
       "\n",
       "    .dataframe thead th {\n",
       "        text-align: right;\n",
       "    }\n",
       "</style>\n",
       "<table border=\"1\" class=\"dataframe\">\n",
       "  <thead>\n",
       "    <tr style=\"text-align: right;\">\n",
       "      <th></th>\n",
       "      <th>TransactionID</th>\n",
       "      <th>ProductID</th>\n",
       "      <th>Date</th>\n",
       "      <th>Quantity</th>\n",
       "      <th>Price</th>\n",
       "      <th>ProductName</th>\n",
       "      <th>Category</th>\n",
       "      <th>TotalSale</th>\n",
       "    </tr>\n",
       "  </thead>\n",
       "  <tbody>\n",
       "    <tr>\n",
       "      <th>0</th>\n",
       "      <td>1</td>\n",
       "      <td>136</td>\n",
       "      <td>2023-03-13</td>\n",
       "      <td>8</td>\n",
       "      <td>245.288680</td>\n",
       "      <td>pull</td>\n",
       "      <td>Toys</td>\n",
       "      <td>1962.309438</td>\n",
       "    </tr>\n",
       "    <tr>\n",
       "      <th>1</th>\n",
       "      <td>92</td>\n",
       "      <td>136</td>\n",
       "      <td>2023-07-02</td>\n",
       "      <td>6</td>\n",
       "      <td>21.266893</td>\n",
       "      <td>pull</td>\n",
       "      <td>Toys</td>\n",
       "      <td>127.601359</td>\n",
       "    </tr>\n",
       "    <tr>\n",
       "      <th>2</th>\n",
       "      <td>260</td>\n",
       "      <td>136</td>\n",
       "      <td>2023-04-15</td>\n",
       "      <td>2</td>\n",
       "      <td>356.242853</td>\n",
       "      <td>pull</td>\n",
       "      <td>Toys</td>\n",
       "      <td>712.485705</td>\n",
       "    </tr>\n",
       "    <tr>\n",
       "      <th>3</th>\n",
       "      <td>411</td>\n",
       "      <td>136</td>\n",
       "      <td>2023-08-21</td>\n",
       "      <td>2</td>\n",
       "      <td>91.071146</td>\n",
       "      <td>pull</td>\n",
       "      <td>Toys</td>\n",
       "      <td>182.142293</td>\n",
       "    </tr>\n",
       "    <tr>\n",
       "      <th>4</th>\n",
       "      <td>479</td>\n",
       "      <td>136</td>\n",
       "      <td>2023-03-02</td>\n",
       "      <td>10</td>\n",
       "      <td>331.557053</td>\n",
       "      <td>pull</td>\n",
       "      <td>Toys</td>\n",
       "      <td>3315.570534</td>\n",
       "    </tr>\n",
       "    <tr>\n",
       "      <th>...</th>\n",
       "      <td>...</td>\n",
       "      <td>...</td>\n",
       "      <td>...</td>\n",
       "      <td>...</td>\n",
       "      <td>...</td>\n",
       "      <td>...</td>\n",
       "      <td>...</td>\n",
       "      <td>...</td>\n",
       "    </tr>\n",
       "    <tr>\n",
       "      <th>9995</th>\n",
       "      <td>9538</td>\n",
       "      <td>180</td>\n",
       "      <td>2023-06-16</td>\n",
       "      <td>2</td>\n",
       "      <td>372.986276</td>\n",
       "      <td>hard</td>\n",
       "      <td>Home Appliances</td>\n",
       "      <td>745.972552</td>\n",
       "    </tr>\n",
       "    <tr>\n",
       "      <th>9996</th>\n",
       "      <td>9548</td>\n",
       "      <td>180</td>\n",
       "      <td>2023-05-16</td>\n",
       "      <td>9</td>\n",
       "      <td>305.627015</td>\n",
       "      <td>hard</td>\n",
       "      <td>Home Appliances</td>\n",
       "      <td>2750.643133</td>\n",
       "    </tr>\n",
       "    <tr>\n",
       "      <th>9997</th>\n",
       "      <td>9606</td>\n",
       "      <td>180</td>\n",
       "      <td>2023-06-25</td>\n",
       "      <td>10</td>\n",
       "      <td>130.088985</td>\n",
       "      <td>hard</td>\n",
       "      <td>Home Appliances</td>\n",
       "      <td>1300.889847</td>\n",
       "    </tr>\n",
       "    <tr>\n",
       "      <th>9998</th>\n",
       "      <td>9723</td>\n",
       "      <td>180</td>\n",
       "      <td>2023-09-06</td>\n",
       "      <td>1</td>\n",
       "      <td>390.264315</td>\n",
       "      <td>hard</td>\n",
       "      <td>Home Appliances</td>\n",
       "      <td>390.264315</td>\n",
       "    </tr>\n",
       "    <tr>\n",
       "      <th>9999</th>\n",
       "      <td>9929</td>\n",
       "      <td>180</td>\n",
       "      <td>2023-04-10</td>\n",
       "      <td>4</td>\n",
       "      <td>158.165213</td>\n",
       "      <td>hard</td>\n",
       "      <td>Home Appliances</td>\n",
       "      <td>632.660853</td>\n",
       "    </tr>\n",
       "  </tbody>\n",
       "</table>\n",
       "<p>10000 rows × 8 columns</p>\n",
       "</div>"
      ],
      "text/plain": [
       "      TransactionID  ProductID        Date  Quantity       Price ProductName  \\\n",
       "0                 1        136  2023-03-13         8  245.288680        pull   \n",
       "1                92        136  2023-07-02         6   21.266893        pull   \n",
       "2               260        136  2023-04-15         2  356.242853        pull   \n",
       "3               411        136  2023-08-21         2   91.071146        pull   \n",
       "4               479        136  2023-03-02        10  331.557053        pull   \n",
       "...             ...        ...         ...       ...         ...         ...   \n",
       "9995           9538        180  2023-06-16         2  372.986276        hard   \n",
       "9996           9548        180  2023-05-16         9  305.627015        hard   \n",
       "9997           9606        180  2023-06-25        10  130.088985        hard   \n",
       "9998           9723        180  2023-09-06         1  390.264315        hard   \n",
       "9999           9929        180  2023-04-10         4  158.165213        hard   \n",
       "\n",
       "             Category    TotalSale  \n",
       "0                Toys  1962.309438  \n",
       "1                Toys   127.601359  \n",
       "2                Toys   712.485705  \n",
       "3                Toys   182.142293  \n",
       "4                Toys  3315.570534  \n",
       "...               ...          ...  \n",
       "9995  Home Appliances   745.972552  \n",
       "9996  Home Appliances  2750.643133  \n",
       "9997  Home Appliances  1300.889847  \n",
       "9998  Home Appliances   390.264315  \n",
       "9999  Home Appliances   632.660853  \n",
       "\n",
       "[10000 rows x 8 columns]"
      ]
     },
     "execution_count": 437,
     "metadata": {},
     "output_type": "execute_result"
    }
   ],
   "source": [
    "# 3. Data Analysis using Slicing and Indexing:\n",
    "# • Create a new column ’TotalSale’, calculated as ’Quantity’ * ’Price’.\n",
    "Merged_TransID['TotalSale'] =Merged_TransID.Quantity * Merged_TransID.Price\n",
    "Merged_TransID\n",
    "\n"
   ]
  },
  {
   "cell_type": "code",
   "execution_count": 440,
   "id": "bfb0b49f",
   "metadata": {},
   "outputs": [
    {
     "data": {
      "text/html": [
       "<div>\n",
       "<style scoped>\n",
       "    .dataframe tbody tr th:only-of-type {\n",
       "        vertical-align: middle;\n",
       "    }\n",
       "\n",
       "    .dataframe tbody tr th {\n",
       "        vertical-align: top;\n",
       "    }\n",
       "\n",
       "    .dataframe thead th {\n",
       "        text-align: right;\n",
       "    }\n",
       "</style>\n",
       "<table border=\"1\" class=\"dataframe\">\n",
       "  <thead>\n",
       "    <tr style=\"text-align: right;\">\n",
       "      <th></th>\n",
       "      <th>TransactionID</th>\n",
       "      <th>ProductID</th>\n",
       "      <th>Date</th>\n",
       "      <th>Quantity</th>\n",
       "      <th>Price</th>\n",
       "      <th>ProductName</th>\n",
       "      <th>Category</th>\n",
       "      <th>TotalSale</th>\n",
       "    </tr>\n",
       "  </thead>\n",
       "  <tbody>\n",
       "    <tr>\n",
       "      <th>6</th>\n",
       "      <td>563</td>\n",
       "      <td>136</td>\n",
       "      <td>2023-11-21</td>\n",
       "      <td>3</td>\n",
       "      <td>361.852802</td>\n",
       "      <td>pull</td>\n",
       "      <td>Toys</td>\n",
       "      <td>1085.558407</td>\n",
       "    </tr>\n",
       "    <tr>\n",
       "      <th>10</th>\n",
       "      <td>879</td>\n",
       "      <td>136</td>\n",
       "      <td>2023-10-31</td>\n",
       "      <td>10</td>\n",
       "      <td>499.344566</td>\n",
       "      <td>pull</td>\n",
       "      <td>Toys</td>\n",
       "      <td>4993.445658</td>\n",
       "    </tr>\n",
       "    <tr>\n",
       "      <th>14</th>\n",
       "      <td>1198</td>\n",
       "      <td>136</td>\n",
       "      <td>2023-10-22</td>\n",
       "      <td>1</td>\n",
       "      <td>291.864967</td>\n",
       "      <td>pull</td>\n",
       "      <td>Toys</td>\n",
       "      <td>291.864967</td>\n",
       "    </tr>\n",
       "    <tr>\n",
       "      <th>15</th>\n",
       "      <td>1263</td>\n",
       "      <td>136</td>\n",
       "      <td>2023-11-11</td>\n",
       "      <td>4</td>\n",
       "      <td>93.967905</td>\n",
       "      <td>pull</td>\n",
       "      <td>Toys</td>\n",
       "      <td>375.871620</td>\n",
       "    </tr>\n",
       "    <tr>\n",
       "      <th>24</th>\n",
       "      <td>1959</td>\n",
       "      <td>136</td>\n",
       "      <td>2023-10-28</td>\n",
       "      <td>3</td>\n",
       "      <td>133.067345</td>\n",
       "      <td>pull</td>\n",
       "      <td>Toys</td>\n",
       "      <td>399.202036</td>\n",
       "    </tr>\n",
       "    <tr>\n",
       "      <th>...</th>\n",
       "      <td>...</td>\n",
       "      <td>...</td>\n",
       "      <td>...</td>\n",
       "      <td>...</td>\n",
       "      <td>...</td>\n",
       "      <td>...</td>\n",
       "      <td>...</td>\n",
       "      <td>...</td>\n",
       "    </tr>\n",
       "    <tr>\n",
       "      <th>9967</th>\n",
       "      <td>6404</td>\n",
       "      <td>180</td>\n",
       "      <td>2023-11-28</td>\n",
       "      <td>2</td>\n",
       "      <td>88.079903</td>\n",
       "      <td>hard</td>\n",
       "      <td>Home Appliances</td>\n",
       "      <td>176.159807</td>\n",
       "    </tr>\n",
       "    <tr>\n",
       "      <th>9972</th>\n",
       "      <td>6865</td>\n",
       "      <td>180</td>\n",
       "      <td>2023-11-03</td>\n",
       "      <td>1</td>\n",
       "      <td>132.269689</td>\n",
       "      <td>hard</td>\n",
       "      <td>Home Appliances</td>\n",
       "      <td>132.269689</td>\n",
       "    </tr>\n",
       "    <tr>\n",
       "      <th>9978</th>\n",
       "      <td>7589</td>\n",
       "      <td>180</td>\n",
       "      <td>2023-11-13</td>\n",
       "      <td>7</td>\n",
       "      <td>297.804733</td>\n",
       "      <td>hard</td>\n",
       "      <td>Home Appliances</td>\n",
       "      <td>2084.633133</td>\n",
       "    </tr>\n",
       "    <tr>\n",
       "      <th>9984</th>\n",
       "      <td>8217</td>\n",
       "      <td>180</td>\n",
       "      <td>2023-10-21</td>\n",
       "      <td>10</td>\n",
       "      <td>191.654270</td>\n",
       "      <td>hard</td>\n",
       "      <td>Home Appliances</td>\n",
       "      <td>1916.542698</td>\n",
       "    </tr>\n",
       "    <tr>\n",
       "      <th>9990</th>\n",
       "      <td>8984</td>\n",
       "      <td>180</td>\n",
       "      <td>2023-11-08</td>\n",
       "      <td>5</td>\n",
       "      <td>198.663536</td>\n",
       "      <td>hard</td>\n",
       "      <td>Home Appliances</td>\n",
       "      <td>993.317681</td>\n",
       "    </tr>\n",
       "  </tbody>\n",
       "</table>\n",
       "<p>1687 rows × 8 columns</p>\n",
       "</div>"
      ],
      "text/plain": [
       "      TransactionID  ProductID        Date  Quantity       Price ProductName  \\\n",
       "6               563        136  2023-11-21         3  361.852802        pull   \n",
       "10              879        136  2023-10-31        10  499.344566        pull   \n",
       "14             1198        136  2023-10-22         1  291.864967        pull   \n",
       "15             1263        136  2023-11-11         4   93.967905        pull   \n",
       "24             1959        136  2023-10-28         3  133.067345        pull   \n",
       "...             ...        ...         ...       ...         ...         ...   \n",
       "9967           6404        180  2023-11-28         2   88.079903        hard   \n",
       "9972           6865        180  2023-11-03         1  132.269689        hard   \n",
       "9978           7589        180  2023-11-13         7  297.804733        hard   \n",
       "9984           8217        180  2023-10-21        10  191.654270        hard   \n",
       "9990           8984        180  2023-11-08         5  198.663536        hard   \n",
       "\n",
       "             Category    TotalSale  \n",
       "6                Toys  1085.558407  \n",
       "10               Toys  4993.445658  \n",
       "14               Toys   291.864967  \n",
       "15               Toys   375.871620  \n",
       "24               Toys   399.202036  \n",
       "...               ...          ...  \n",
       "9967  Home Appliances   176.159807  \n",
       "9972  Home Appliances   132.269689  \n",
       "9978  Home Appliances  2084.633133  \n",
       "9984  Home Appliances  1916.542698  \n",
       "9990  Home Appliances   993.317681  \n",
       "\n",
       "[1687 rows x 8 columns]"
      ]
     },
     "execution_count": 440,
     "metadata": {},
     "output_type": "execute_result"
    }
   ],
   "source": [
    "# • Using slicing, create a subset DataFrame containing only transactions from\n",
    "#   the last quarter of the year (October, November, December)\n",
    "\n",
    "Merged_TransID.loc[(Merged_TransID['Date'] >= '2023-10-01')\n",
    "                  & (Merged_TransID['Date'] < '2023-12-01')]"
   ]
  },
  {
   "cell_type": "code",
   "execution_count": 443,
   "id": "7fc10f28",
   "metadata": {},
   "outputs": [
    {
     "data": {
      "text/plain": [
       "TransactionID  ProductID  Date        Quantity  Price       ProductName    Category  TotalSale  \n",
       "1              136        2023-03-13  8         245.288680  pull           Toys      1962.309438    1\n",
       "6359           169        2023-08-23  9         435.026586  everyone       Toys      3915.239274    1\n",
       "6719           122        2023-11-28  10        407.176010  product        Toys      4071.760102    1\n",
       "6724           185        2023-06-29  2         36.798062   close          Toys      73.596124      1\n",
       "6727           105        2023-08-18  1         318.438834  culture        Toys      318.438834     1\n",
       "6732           181        2023-10-19  10        464.293430  perform        Toys      4642.934297    1\n",
       "6733           169        2023-04-15  8         355.865252  everyone       Toys      2846.922012    1\n",
       "6737           155        2023-05-19  5         148.513648  international  Toys      742.568240     1\n",
       "6742           109        2023-02-23  1         443.519386  others         Toys      443.519386     1\n",
       "6743           125        2023-06-26  7         266.632172  instead        Toys      1866.425204    1\n",
       "Name: count, dtype: int64"
      ]
     },
     "execution_count": 443,
     "metadata": {},
     "output_type": "execute_result"
    }
   ],
   "source": [
    "#  Using Boolean indexing, find all transactions for a specific ’Category’ (e.g.,\n",
    "#  ’Electronics’).\n",
    "Merged_TransID.loc[Merged_TransID[\"Category\"] == \"Toys\"].value_counts().head(10)\n"
   ]
  },
  {
   "cell_type": "code",
   "execution_count": 463,
   "id": "2a36459a",
   "metadata": {},
   "outputs": [
    {
     "name": "stdout",
     "output_type": "stream",
     "text": [
      "**HW4-Q3: Extract TotalSale 75th percentile:\n"
     ]
    },
    {
     "data": {
      "text/html": [
       "<div>\n",
       "<style scoped>\n",
       "    .dataframe tbody tr th:only-of-type {\n",
       "        vertical-align: middle;\n",
       "    }\n",
       "\n",
       "    .dataframe tbody tr th {\n",
       "        vertical-align: top;\n",
       "    }\n",
       "\n",
       "    .dataframe thead th {\n",
       "        text-align: right;\n",
       "    }\n",
       "</style>\n",
       "<table border=\"1\" class=\"dataframe\">\n",
       "  <thead>\n",
       "    <tr style=\"text-align: right;\">\n",
       "      <th></th>\n",
       "      <th>TransactionID</th>\n",
       "      <th>ProductID</th>\n",
       "      <th>Date</th>\n",
       "      <th>Quantity</th>\n",
       "      <th>Price</th>\n",
       "      <th>ProductName</th>\n",
       "      <th>Category</th>\n",
       "      <th>TotalSale</th>\n",
       "    </tr>\n",
       "  </thead>\n",
       "  <tbody>\n",
       "    <tr>\n",
       "      <th>4</th>\n",
       "      <td>479</td>\n",
       "      <td>136</td>\n",
       "      <td>2023-03-02</td>\n",
       "      <td>10</td>\n",
       "      <td>331.557053</td>\n",
       "      <td>pull</td>\n",
       "      <td>Toys</td>\n",
       "      <td>3315.570534</td>\n",
       "    </tr>\n",
       "    <tr>\n",
       "      <th>8</th>\n",
       "      <td>692</td>\n",
       "      <td>136</td>\n",
       "      <td>2023-09-28</td>\n",
       "      <td>8</td>\n",
       "      <td>494.070419</td>\n",
       "      <td>pull</td>\n",
       "      <td>Toys</td>\n",
       "      <td>3952.563354</td>\n",
       "    </tr>\n",
       "    <tr>\n",
       "      <th>10</th>\n",
       "      <td>879</td>\n",
       "      <td>136</td>\n",
       "      <td>2023-10-31</td>\n",
       "      <td>10</td>\n",
       "      <td>499.344566</td>\n",
       "      <td>pull</td>\n",
       "      <td>Toys</td>\n",
       "      <td>4993.445658</td>\n",
       "    </tr>\n",
       "    <tr>\n",
       "      <th>11</th>\n",
       "      <td>996</td>\n",
       "      <td>136</td>\n",
       "      <td>2024-01-14</td>\n",
       "      <td>10</td>\n",
       "      <td>444.985596</td>\n",
       "      <td>pull</td>\n",
       "      <td>Toys</td>\n",
       "      <td>4449.855959</td>\n",
       "    </tr>\n",
       "    <tr>\n",
       "      <th>18</th>\n",
       "      <td>1309</td>\n",
       "      <td>136</td>\n",
       "      <td>2023-03-31</td>\n",
       "      <td>10</td>\n",
       "      <td>423.493947</td>\n",
       "      <td>pull</td>\n",
       "      <td>Toys</td>\n",
       "      <td>4234.939470</td>\n",
       "    </tr>\n",
       "    <tr>\n",
       "      <th>...</th>\n",
       "      <td>...</td>\n",
       "      <td>...</td>\n",
       "      <td>...</td>\n",
       "      <td>...</td>\n",
       "      <td>...</td>\n",
       "      <td>...</td>\n",
       "      <td>...</td>\n",
       "      <td>...</td>\n",
       "    </tr>\n",
       "    <tr>\n",
       "      <th>9981</th>\n",
       "      <td>7723</td>\n",
       "      <td>180</td>\n",
       "      <td>2023-08-13</td>\n",
       "      <td>5</td>\n",
       "      <td>459.669319</td>\n",
       "      <td>hard</td>\n",
       "      <td>Home Appliances</td>\n",
       "      <td>2298.346595</td>\n",
       "    </tr>\n",
       "    <tr>\n",
       "      <th>9982</th>\n",
       "      <td>8111</td>\n",
       "      <td>180</td>\n",
       "      <td>2023-02-24</td>\n",
       "      <td>9</td>\n",
       "      <td>252.862896</td>\n",
       "      <td>hard</td>\n",
       "      <td>Home Appliances</td>\n",
       "      <td>2275.766060</td>\n",
       "    </tr>\n",
       "    <tr>\n",
       "      <th>9985</th>\n",
       "      <td>8305</td>\n",
       "      <td>180</td>\n",
       "      <td>2023-03-16</td>\n",
       "      <td>10</td>\n",
       "      <td>468.033745</td>\n",
       "      <td>hard</td>\n",
       "      <td>Home Appliances</td>\n",
       "      <td>4680.337452</td>\n",
       "    </tr>\n",
       "    <tr>\n",
       "      <th>9991</th>\n",
       "      <td>9279</td>\n",
       "      <td>180</td>\n",
       "      <td>2023-09-08</td>\n",
       "      <td>9</td>\n",
       "      <td>487.800004</td>\n",
       "      <td>hard</td>\n",
       "      <td>Home Appliances</td>\n",
       "      <td>4390.200034</td>\n",
       "    </tr>\n",
       "    <tr>\n",
       "      <th>9996</th>\n",
       "      <td>9548</td>\n",
       "      <td>180</td>\n",
       "      <td>2023-05-16</td>\n",
       "      <td>9</td>\n",
       "      <td>305.627015</td>\n",
       "      <td>hard</td>\n",
       "      <td>Home Appliances</td>\n",
       "      <td>2750.643133</td>\n",
       "    </tr>\n",
       "  </tbody>\n",
       "</table>\n",
       "<p>2500 rows × 8 columns</p>\n",
       "</div>"
      ],
      "text/plain": [
       "      TransactionID  ProductID        Date  Quantity       Price ProductName  \\\n",
       "4               479        136  2023-03-02        10  331.557053        pull   \n",
       "8               692        136  2023-09-28         8  494.070419        pull   \n",
       "10              879        136  2023-10-31        10  499.344566        pull   \n",
       "11              996        136  2024-01-14        10  444.985596        pull   \n",
       "18             1309        136  2023-03-31        10  423.493947        pull   \n",
       "...             ...        ...         ...       ...         ...         ...   \n",
       "9981           7723        180  2023-08-13         5  459.669319        hard   \n",
       "9982           8111        180  2023-02-24         9  252.862896        hard   \n",
       "9985           8305        180  2023-03-16        10  468.033745        hard   \n",
       "9991           9279        180  2023-09-08         9  487.800004        hard   \n",
       "9996           9548        180  2023-05-16         9  305.627015        hard   \n",
       "\n",
       "             Category    TotalSale  \n",
       "4                Toys  3315.570534  \n",
       "8                Toys  3952.563354  \n",
       "10               Toys  4993.445658  \n",
       "11               Toys  4449.855959  \n",
       "18               Toys  4234.939470  \n",
       "...               ...          ...  \n",
       "9981  Home Appliances  2298.346595  \n",
       "9982  Home Appliances  2275.766060  \n",
       "9985  Home Appliances  4680.337452  \n",
       "9991  Home Appliances  4390.200034  \n",
       "9996  Home Appliances  2750.643133  \n",
       "\n",
       "[2500 rows x 8 columns]"
      ]
     },
     "execution_count": 463,
     "metadata": {},
     "output_type": "execute_result"
    }
   ],
   "source": [
    "# • Extract all transactions where the ’TotalSale’ is above the 75th percentile\n",
    "# of the ’TotalSale’ column using NumPy functions.\n",
    "\n",
    "#qt = Merged_TransID.TotalSale.quantile(0.75)  # Using pandas to compute the 75th percentile of Total Sales\n",
    "np.percentile(Merged_TransID.TotalSale,75) # Using Numpy to compute 75th percentile\n",
    "print(\"**HW4-Q3: Extract TotalSale 75th percentile:\")\n",
    "Merged_TransID[Merged_TransID.iloc[:,7]>=qt]\n",
    "\n"
   ]
  },
  {
   "cell_type": "code",
   "execution_count": 480,
   "id": "275640cd",
   "metadata": {},
   "outputs": [
    {
     "data": {
      "text/html": [
       "<div>\n",
       "<style scoped>\n",
       "    .dataframe tbody tr th:only-of-type {\n",
       "        vertical-align: middle;\n",
       "    }\n",
       "\n",
       "    .dataframe tbody tr th {\n",
       "        vertical-align: top;\n",
       "    }\n",
       "\n",
       "    .dataframe thead th {\n",
       "        text-align: right;\n",
       "    }\n",
       "</style>\n",
       "<table border=\"1\" class=\"dataframe\">\n",
       "  <thead>\n",
       "    <tr style=\"text-align: right;\">\n",
       "      <th></th>\n",
       "      <th>ProductID</th>\n",
       "      <th>ProductName</th>\n",
       "      <th>TotalSale</th>\n",
       "    </tr>\n",
       "  </thead>\n",
       "  <tbody>\n",
       "    <tr>\n",
       "      <th>394</th>\n",
       "      <td>101</td>\n",
       "      <td>ready</td>\n",
       "      <td>212.490775</td>\n",
       "    </tr>\n",
       "    <tr>\n",
       "      <th>395</th>\n",
       "      <td>101</td>\n",
       "      <td>ready</td>\n",
       "      <td>1331.007870</td>\n",
       "    </tr>\n",
       "    <tr>\n",
       "      <th>396</th>\n",
       "      <td>101</td>\n",
       "      <td>ready</td>\n",
       "      <td>3311.017493</td>\n",
       "    </tr>\n",
       "    <tr>\n",
       "      <th>397</th>\n",
       "      <td>101</td>\n",
       "      <td>ready</td>\n",
       "      <td>1565.745895</td>\n",
       "    </tr>\n",
       "    <tr>\n",
       "      <th>398</th>\n",
       "      <td>101</td>\n",
       "      <td>ready</td>\n",
       "      <td>74.588211</td>\n",
       "    </tr>\n",
       "    <tr>\n",
       "      <th>...</th>\n",
       "      <td>...</td>\n",
       "      <td>...</td>\n",
       "      <td>...</td>\n",
       "    </tr>\n",
       "    <tr>\n",
       "      <th>487</th>\n",
       "      <td>101</td>\n",
       "      <td>ready</td>\n",
       "      <td>623.853198</td>\n",
       "    </tr>\n",
       "    <tr>\n",
       "      <th>488</th>\n",
       "      <td>101</td>\n",
       "      <td>ready</td>\n",
       "      <td>207.409962</td>\n",
       "    </tr>\n",
       "    <tr>\n",
       "      <th>489</th>\n",
       "      <td>101</td>\n",
       "      <td>ready</td>\n",
       "      <td>1348.777932</td>\n",
       "    </tr>\n",
       "    <tr>\n",
       "      <th>490</th>\n",
       "      <td>101</td>\n",
       "      <td>ready</td>\n",
       "      <td>2056.097123</td>\n",
       "    </tr>\n",
       "    <tr>\n",
       "      <th>491</th>\n",
       "      <td>101</td>\n",
       "      <td>ready</td>\n",
       "      <td>1845.115687</td>\n",
       "    </tr>\n",
       "  </tbody>\n",
       "</table>\n",
       "<p>98 rows × 3 columns</p>\n",
       "</div>"
      ],
      "text/plain": [
       "     ProductID ProductName    TotalSale\n",
       "394        101       ready   212.490775\n",
       "395        101       ready  1331.007870\n",
       "396        101       ready  3311.017493\n",
       "397        101       ready  1565.745895\n",
       "398        101       ready    74.588211\n",
       "..         ...         ...          ...\n",
       "487        101       ready   623.853198\n",
       "488        101       ready   207.409962\n",
       "489        101       ready  1348.777932\n",
       "490        101       ready  2056.097123\n",
       "491        101       ready  1845.115687\n",
       "\n",
       "[98 rows x 3 columns]"
      ]
     },
     "execution_count": 480,
     "metadata": {},
     "output_type": "execute_result"
    }
   ],
   "source": [
    "# 4. Advanced Indexing:\n",
    "#• Using loc and iloc, perform the following:\n",
    "# – Select all rows for ’ProductID’ 101 and columns ’ProductName’ and\n",
    "# ’TotalSale’.\n",
    "# – Select every 10th row from the merged dataset and only the columns\n",
    "# ’Date’ and ’Category’.\n",
    "\n",
    "#Merged_TransID.loc[(Merged_TransID[['ProductID','ProductName','TotalSale'] == 101)]\n",
    "New_df =Merged_TransID.loc[(Merged_TransID['ProductID'] == 101)]\n",
    "                  \n",
    "New_df[['ProductID','ProductName','TotalSale']]\n"
   ]
  },
  {
   "cell_type": "code",
   "execution_count": 497,
   "id": "e2d1fb20",
   "metadata": {},
   "outputs": [
    {
     "name": "stdout",
     "output_type": "stream",
     "text": [
      "**HW4: 5-Group data by Category -- TotalSales for Each Category\n",
      "Category\n",
      "Books              2.756942e+06\n",
      "Clothing           2.547137e+06\n",
      "Electronics        2.151251e+06\n",
      "Home Appliances    3.339347e+06\n",
      "Toys               3.320096e+06\n",
      "Name: TotalSale, dtype: float64\n",
      "**HW4: 5-Group data by Category -- Average Sale for Each Category\n",
      "Category\n",
      "Books              1405.169284\n",
      "Clothing           1339.893113\n",
      "Electronics        1468.430950\n",
      "Home Appliances    1414.378361\n",
      "Toys               1436.649185\n",
      "Name: TotalSale, dtype: float64\n"
     ]
    }
   ],
   "source": [
    "# 5. Grouping and Aggregation:\n",
    "# • Group the data by ’Category’ and calculate the total and average ’TotalSale’\n",
    "# for each category.\n",
    "\n",
    "print(\"**HW4: 5-Group data by Category -- TotalSales for Each Category\")\n",
    "print(Merged_TransID.groupby([Merged_TransID.Category])['TotalSale'].sum())\n",
    "\n",
    "print(\"**HW4: 5-Group data by Category -- Average Sale for Each Category\")\n",
    "print(Merged_TransID.groupby([Merged_TransID.Category])['TotalSale'].mean())"
   ]
  },
  {
   "cell_type": "code",
   "execution_count": 511,
   "id": "94cd6a10",
   "metadata": {},
   "outputs": [
    {
     "data": {
      "text/plain": [
       "Date\n",
       "2023-01-26    34260.444007\n",
       "2023-01-27    28190.207849\n",
       "2023-01-28    29497.008211\n",
       "2023-01-29    32309.698560\n",
       "2023-01-30    44414.101031\n",
       "                  ...     \n",
       "2024-01-22    40674.514776\n",
       "2024-01-23    25903.435034\n",
       "2024-01-24    35607.829577\n",
       "2024-01-25    49731.477426\n",
       "2024-01-26    33258.762867\n",
       "Name: TotalSale, Length: 366, dtype: float64"
      ]
     },
     "execution_count": 511,
     "metadata": {},
     "output_type": "execute_result"
    }
   ],
   "source": [
    "# 6. Time-Series Analysis:\n",
    "# • Resample the data on a monthly basis and calculate the total ’Quantity’\n",
    "# sold per month.\n",
    "\n",
    "Merged_TransID.groupby([Merged_TransID.Date])['TotalSale'].apply(lambda x: x.sum())"
   ]
  },
  {
   "cell_type": "code",
   "execution_count": 524,
   "id": "ad28aa3d",
   "metadata": {},
   "outputs": [
    {
     "name": "stdout",
     "output_type": "stream",
     "text": [
      "***HW4-3 : Zillow Dictionary\n",
      "                      Feature  \\\n",
      "0     'airconditioningtypeid'   \n",
      "1  'architecturalstyletypeid'   \n",
      "2              'basementsqft'   \n",
      "3               'bathroomcnt'   \n",
      "4                'bedroomcnt'   \n",
      "\n",
      "                                         Description  \n",
      "0   Type of cooling system present in the home (i...  \n",
      "1   Architectural style of the home (i.e. ranch, ...  \n",
      "2   Finished living area below or partially below...  \n",
      "3   Number of bathrooms in home including fractio...  \n",
      "4                        Number of bedrooms in home   \n",
      "***HW4-3 : Zillow Feature\n",
      "   parcelid  airconditioningtypeid  architecturalstyletypeid  basementsqft  \\\n",
      "0  12833975                    NaN                       NaN           NaN   \n",
      "1  11070096                    1.0                       NaN           NaN   \n",
      "2  12752672                    1.0                       NaN           NaN   \n",
      "\n",
      "   bathroomcnt  bedroomcnt  buildingclasstypeid  buildingqualitytypeid  \\\n",
      "0          3.0         4.0                  NaN                    6.0   \n",
      "1          4.0         4.0                  NaN                    7.0   \n",
      "2          2.0         3.0                  NaN                    6.0   \n",
      "\n",
      "   calculatedbathnbr  decktypeid  ...  numberofstories  fireplaceflag  \\\n",
      "0                3.0         NaN  ...              NaN            NaN   \n",
      "1                4.0         NaN  ...              NaN            NaN   \n",
      "2                2.0         NaN  ...              NaN            NaN   \n",
      "\n",
      "   structuretaxvaluedollarcnt  taxvaluedollarcnt  assessmentyear  \\\n",
      "0                    155403.0           304592.0          2016.0   \n",
      "1                    493070.0           821783.0          2016.0   \n",
      "2                    126695.0           247962.0          2016.0   \n",
      "\n",
      "   landtaxvaluedollarcnt  taxamount  taxdelinquencyflag  taxdelinquencyyear  \\\n",
      "0               149189.0    3708.29                 NaN                 NaN   \n",
      "1               328713.0   10087.59                 NaN                 NaN   \n",
      "2               121267.0    3377.86                 NaN                 NaN   \n",
      "\n",
      "   censustractandblock  \n",
      "0         6.037409e+13  \n",
      "1         6.037108e+13  \n",
      "2         6.037504e+13  \n",
      "\n",
      "[3 rows x 58 columns]\n"
     ]
    }
   ],
   "source": [
    "# 3. Zillow’s marketplace offers a data-driven home valuation platform utilized by a\n",
    "# di\u0002verse range of users including home buyers, sellers, renters, homeowners, real estate\n",
    "# agents, mortgage providers, property managers, and landlords. The machine learning\n",
    "#and data science team at Zillow employs various tools for predicting home valuations,\n",
    "#such as Zestimate (Zillow Estimate), Zestimate Forecast, Zillow Home Value Index,\n",
    "# Rent Zestimate, Zillow Rent Index, and the Pricing Tool.\n",
    "# Assignment Overview:\n",
    "# You are provided with a dataset named zillow feature sample.csv, containing\n",
    "# various features relevant to Zillow’s marketplace. Accompanying the dataset is a\n",
    "# data dictionary titled zillow data dictionary.xlsx, which details the description\n",
    "# of each column.\n",
    "# Tasks:\n",
    "\n",
    "#1 \n",
    "#. Develop a Missing Data Strategy:\n",
    "# • Assess the zillow feature sample.csv dataset and devise a comprehen\u0002sive strategy to handle missing data.\n",
    "# Read the csv file with names parameter \n",
    "print(\"***HW4-3 : Zillow Dictionary\")\n",
    "df_zillow_dictionary = pd.read_excel(\"Downloads\\zillow_data_dictionary.xlsx\")\n",
    "print(df_zillow_dictionary.head(5))\n",
    "\n",
    "print(\"***HW4-3 : Zillow Feature\")\n",
    "df_zillow_feature = pd.read_csv(\"Downloads\\zillow_feature_sample.csv\")\n",
    "print(df_zillow_feature.head(3))"
   ]
  },
  {
   "cell_type": "code",
   "execution_count": null,
   "id": "55b58e77",
   "metadata": {},
   "outputs": [],
   "source": [
    "# 1. Develop a Missing Data Strategy:\n",
    "# • Assess the zillow feature sample.csv dataset and devise a comprehen\u0002sive strategy to handle missing data."
   ]
  },
  {
   "cell_type": "code",
   "execution_count": null,
   "id": "b9c454b7",
   "metadata": {},
   "outputs": [],
   "source": [
    "# 2. Quantitative Analysis of Missing Data:\n",
    "# • Calculate and report the percentage of missing data in each feature of the\n",
    "# dataset.\n",
    "# • Analyze and infer the potential mechanism of missing data (e.g., Missing\n",
    "# Completely at Random, Missing at Random, Missing Not at Random)."
   ]
  },
  {
   "cell_type": "code",
   "execution_count": null,
   "id": "d6d27615",
   "metadata": {},
   "outputs": [],
   "source": [
    "#3. Imputation Strategy:\n",
    "# • Propose and justify an imputation strategy for the missing values in the\n",
    "# dataset. Your rationale should be data-driven and well-explained"
   ]
  },
  {
   "cell_type": "code",
   "execution_count": null,
   "id": "a7443adb",
   "metadata": {},
   "outputs": [],
   "source": [
    "# 4. Open-Ended Exploration:\n",
    "# • This question is open-ended, allowing you to explore other relevant aspects\n",
    "# of the dataset. Conduct additional analyses or apply data processing tech\u0002niques as appropriate."
   ]
  },
  {
   "cell_type": "code",
   "execution_count": null,
   "id": "c09c5376",
   "metadata": {},
   "outputs": [],
   "source": [
    "\n"
   ]
  },
  {
   "cell_type": "code",
   "execution_count": null,
   "id": "a5dd8cb2",
   "metadata": {},
   "outputs": [],
   "source": [
    "\n"
   ]
  },
  {
   "cell_type": "code",
   "execution_count": 26,
   "id": "92794e79",
   "metadata": {},
   "outputs": [
    {
     "name": "stdout",
     "output_type": "stream",
     "text": [
      "Duplicate Rows :\n"
     ]
    },
    {
     "data": {
      "text/html": [
       "<div>\n",
       "<style scoped>\n",
       "    .dataframe tbody tr th:only-of-type {\n",
       "        vertical-align: middle;\n",
       "    }\n",
       "\n",
       "    .dataframe tbody tr th {\n",
       "        vertical-align: top;\n",
       "    }\n",
       "\n",
       "    .dataframe thead th {\n",
       "        text-align: right;\n",
       "    }\n",
       "</style>\n",
       "<table border=\"1\" class=\"dataframe\">\n",
       "  <thead>\n",
       "    <tr style=\"text-align: right;\">\n",
       "      <th></th>\n",
       "      <th>merchant</th>\n",
       "      <th>time</th>\n",
       "      <th>amount_usd_in_cents</th>\n",
       "    </tr>\n",
       "  </thead>\n",
       "  <tbody>\n",
       "    <tr>\n",
       "      <th>87012</th>\n",
       "      <td>40eadcbad9</td>\n",
       "      <td>2034-03-16 11:22:46</td>\n",
       "      <td>8852</td>\n",
       "    </tr>\n",
       "  </tbody>\n",
       "</table>\n",
       "</div>"
      ],
      "text/plain": [
       "         merchant                 time  amount_usd_in_cents\n",
       "87012  40eadcbad9  2034-03-16 11:22:46                 8852"
      ]
     },
     "execution_count": 26,
     "metadata": {},
     "output_type": "execute_result"
    }
   ],
   "source": []
  },
  {
   "cell_type": "code",
   "execution_count": 37,
   "id": "427a2bfd",
   "metadata": {},
   "outputs": [
    {
     "data": {
      "text/html": [
       "<div>\n",
       "<style scoped>\n",
       "    .dataframe tbody tr th:only-of-type {\n",
       "        vertical-align: middle;\n",
       "    }\n",
       "\n",
       "    .dataframe tbody tr th {\n",
       "        vertical-align: top;\n",
       "    }\n",
       "\n",
       "    .dataframe thead th {\n",
       "        text-align: right;\n",
       "    }\n",
       "</style>\n",
       "<table border=\"1\" class=\"dataframe\">\n",
       "  <thead>\n",
       "    <tr style=\"text-align: right;\">\n",
       "      <th></th>\n",
       "      <th></th>\n",
       "      <th>amount_usd_in_cents</th>\n",
       "    </tr>\n",
       "    <tr>\n",
       "      <th>merchant</th>\n",
       "      <th>time</th>\n",
       "      <th></th>\n",
       "    </tr>\n",
       "  </thead>\n",
       "  <tbody>\n",
       "    <tr>\n",
       "      <th rowspan=\"2\" valign=\"top\">00057d4302</th>\n",
       "      <th>2033-05-30 02:54:34</th>\n",
       "      <td>1156</td>\n",
       "    </tr>\n",
       "    <tr>\n",
       "      <th>2033-05-30 04:20:31</th>\n",
       "      <td>1279</td>\n",
       "    </tr>\n",
       "    <tr>\n",
       "      <th rowspan=\"3\" valign=\"top\">000ed1585f</th>\n",
       "      <th>2033-05-08 15:51:43</th>\n",
       "      <td>32004</td>\n",
       "    </tr>\n",
       "    <tr>\n",
       "      <th>2033-05-19 13:15:51</th>\n",
       "      <td>35784</td>\n",
       "    </tr>\n",
       "    <tr>\n",
       "      <th>2033-05-27 01:28:43</th>\n",
       "      <td>21932</td>\n",
       "    </tr>\n",
       "    <tr>\n",
       "      <th>...</th>\n",
       "      <th>...</th>\n",
       "      <td>...</td>\n",
       "    </tr>\n",
       "    <tr>\n",
       "      <th>ffe1f6b51a</th>\n",
       "      <th>2033-12-18 03:20:59</th>\n",
       "      <td>4692</td>\n",
       "    </tr>\n",
       "    <tr>\n",
       "      <th rowspan=\"2\" valign=\"top\">ffe26b900d</th>\n",
       "      <th>2034-01-03 16:10:12</th>\n",
       "      <td>29324</td>\n",
       "    </tr>\n",
       "    <tr>\n",
       "      <th>2034-08-16 14:58:20</th>\n",
       "      <td>13896</td>\n",
       "    </tr>\n",
       "    <tr>\n",
       "      <th rowspan=\"2\" valign=\"top\">fff1754102</th>\n",
       "      <th>2034-08-07 19:01:14</th>\n",
       "      <td>11713</td>\n",
       "    </tr>\n",
       "    <tr>\n",
       "      <th>2034-09-18 22:59:40</th>\n",
       "      <td>9118</td>\n",
       "    </tr>\n",
       "  </tbody>\n",
       "</table>\n",
       "<p>99988 rows × 1 columns</p>\n",
       "</div>"
      ],
      "text/plain": [
       "                                amount_usd_in_cents\n",
       "merchant   time                                    \n",
       "00057d4302 2033-05-30 02:54:34                 1156\n",
       "           2033-05-30 04:20:31                 1279\n",
       "000ed1585f 2033-05-08 15:51:43                32004\n",
       "           2033-05-19 13:15:51                35784\n",
       "           2033-05-27 01:28:43                21932\n",
       "...                                             ...\n",
       "ffe1f6b51a 2033-12-18 03:20:59                 4692\n",
       "ffe26b900d 2034-01-03 16:10:12                29324\n",
       "           2034-08-16 14:58:20                13896\n",
       "fff1754102 2034-08-07 19:01:14                11713\n",
       "           2034-09-18 22:59:40                 9118\n",
       "\n",
       "[99988 rows x 1 columns]"
      ]
     },
     "execution_count": 37,
     "metadata": {},
     "output_type": "execute_result"
    }
   ],
   "source": [
    "df.groupby(['merchant','time']).sum()"
   ]
  },
  {
   "cell_type": "code",
   "execution_count": 38,
   "id": "de4e2ed7",
   "metadata": {},
   "outputs": [
    {
     "data": {
      "text/plain": [
       "merchant    time               \n",
       "00057d4302  2033-05-30 02:54:34     1156\n",
       "            2033-05-30 04:20:31     1279\n",
       "000ed1585f  2033-05-08 15:51:43    32004\n",
       "            2033-05-19 13:15:51    35784\n",
       "            2033-05-27 01:28:43    21932\n",
       "                                   ...  \n",
       "ffe1f6b51a  2033-12-18 03:20:59     4692\n",
       "ffe26b900d  2034-01-03 16:10:12    29324\n",
       "            2034-08-16 14:58:20    13896\n",
       "fff1754102  2034-08-07 19:01:14    11713\n",
       "            2034-09-18 22:59:40     9118\n",
       "Name: amount_usd_in_cents, Length: 99988, dtype: int64"
      ]
     },
     "execution_count": 38,
     "metadata": {},
     "output_type": "execute_result"
    }
   ],
   "source": [
    "df.groupby(['merchant','time'])['amount_usd_in_cents'].sum()"
   ]
  },
  {
   "cell_type": "code",
   "execution_count": 51,
   "id": "9ca43cf2",
   "metadata": {},
   "outputs": [
    {
     "name": "stdout",
     "output_type": "stream",
     "text": [
      "                                amount_usd_in_cents\n",
      "merchant   time                                    \n",
      "00057d4302 2033-05-30 02:54:34                 1156\n",
      "           2033-05-30 04:20:31                 1279\n",
      "000ed1585f 2033-05-08 15:51:43                32004\n",
      "           2033-05-19 13:15:51                35784\n",
      "           2033-05-27 01:28:43                21932\n",
      "           2034-07-10 15:57:48                22481\n",
      "000f8c3297 2033-12-20 17:57:20                 7374\n",
      "           2034-01-26 15:10:54                14489\n",
      "           2034-02-15 21:54:30                15047\n",
      "           2034-03-30 13:27:16                 4623\n",
      "           2034-04-12 11:17:13                 3826\n",
      "           2034-04-13 23:50:12                 3643\n",
      "           2034-04-25 14:03:30                 4155\n",
      "           2034-06-16 10:38:35                 7017\n",
      "           2034-06-21 10:37:49                 3643\n",
      "           2034-08-10 21:41:11                 3643\n",
      "           2034-08-23 10:28:53                14489\n",
      "           2034-08-24 13:45:44                 3637\n",
      "           2034-09-27 10:52:46                 3455\n",
      "           2034-10-31 23:38:34                 4274\n",
      "           2034-11-02 13:27:33                 9168\n",
      "           2034-11-03 12:56:38                 3686\n",
      "0020aefbd9 2034-05-30 21:55:06                 3589\n",
      "0026f256ac 2033-09-15 01:17:32                34880\n",
      "002a66c0e1 2034-03-30 06:29:55                40722\n",
      "           2034-04-15 00:21:17                27672\n",
      "           2034-06-16 14:33:58                40722\n",
      "           2034-10-14 13:29:42                35925\n",
      "003d5fe4f1 2034-12-23 02:23:14                12436\n",
      "0042aadfdf 2034-03-17 22:43:28                 2439\n",
      "           2034-03-18 01:56:27                11176\n",
      "           2034-03-18 09:44:00                 1940\n",
      "           2034-03-28 12:12:21                 3164\n",
      "           2034-04-04 01:01:44                 4554\n",
      "           2034-05-14 00:21:39                 3805\n",
      "           2034-05-22 12:02:15                 3394\n",
      "           2034-05-23 12:19:34                 8529\n",
      "0047f556b5 2033-12-18 05:14:14                67117\n",
      "004a994585 2034-04-10 19:03:15                44738\n",
      "           2034-09-16 20:23:49                21287\n",
      "004d02cb10 2033-07-03 07:03:21                13555\n",
      "0052daeb66 2033-07-22 12:03:50                 5654\n",
      "00575c7901 2034-01-03 16:51:48                 3418\n",
      "           2034-01-04 23:21:51                 4233\n",
      "           2034-01-09 17:40:17                 8596\n",
      "           2034-01-10 02:35:24                 3876\n",
      "           2034-01-11 04:49:50                 4207\n",
      "           2034-01-12 13:36:09                 4207\n",
      "           2034-01-13 00:19:02                 3876\n",
      "           2034-01-15 16:41:36                 4207\n"
     ]
    }
   ],
   "source": [
    "merchant_time = df.groupby(['merchant','time']).agg({'amount_usd_in_cents' : 'sum'})\n",
    "print(merchant_time[0:50])"
   ]
  },
  {
   "cell_type": "code",
   "execution_count": 41,
   "id": "db217e88",
   "metadata": {},
   "outputs": [],
   "source": [
    "total_tran_per_merchant = df.groupby([df.merchant])['amount_usd_in_cents'].sum()"
   ]
  },
  {
   "cell_type": "code",
   "execution_count": 42,
   "id": "c9e0d8ab",
   "metadata": {},
   "outputs": [
    {
     "data": {
      "text/plain": [
       "merchant\n",
       "00057d4302       2435\n",
       "000ed1585f     112201\n",
       "000f8c3297     106169\n",
       "0020aefbd9       3589\n",
       "0026f256ac      34880\n",
       "               ...   \n",
       "ffb94e1865    1714058\n",
       "ffc46fd720       2760\n",
       "ffe1f6b51a      16388\n",
       "ffe26b900d      43220\n",
       "fff1754102      20831\n",
       "Name: amount_usd_in_cents, Length: 7902, dtype: int64"
      ]
     },
     "execution_count": 42,
     "metadata": {},
     "output_type": "execute_result"
    }
   ],
   "source": [
    "total_tran_per_merchant"
   ]
  },
  {
   "cell_type": "code",
   "execution_count": 43,
   "id": "cde0a1bb",
   "metadata": {},
   "outputs": [
    {
     "name": "stdout",
     "output_type": "stream",
     "text": [
      "merchant\n",
      "00057d4302      2435\n",
      "000ed1585f    112201\n",
      "000f8c3297    106169\n",
      "0020aefbd9      3589\n",
      "0026f256ac     34880\n",
      "002a66c0e1    145041\n",
      "003d5fe4f1     12436\n",
      "0042aadfdf     39001\n",
      "0047f556b5     67117\n",
      "Name: amount_usd_in_cents, dtype: int64\n"
     ]
    }
   ],
   "source": [
    "print(total_tran_per_merchant[0:9])"
   ]
  },
  {
   "cell_type": "code",
   "execution_count": 47,
   "id": "72bc3127",
   "metadata": {},
   "outputs": [
    {
     "data": {
      "text/plain": [
       "merchant\n",
       "00057d4302     1217.500000\n",
       "000ed1585f    28050.250000\n",
       "000f8c3297     6635.562500\n",
       "0020aefbd9     3589.000000\n",
       "0026f256ac    34880.000000\n",
       "                  ...     \n",
       "ffb94e1865     7484.969432\n",
       "ffc46fd720     2760.000000\n",
       "ffe1f6b51a     5462.666667\n",
       "ffe26b900d    21610.000000\n",
       "fff1754102    10415.500000\n",
       "Name: amount_usd_in_cents, Length: 7902, dtype: float64"
      ]
     },
     "execution_count": 47,
     "metadata": {},
     "output_type": "execute_result"
    }
   ],
   "source": [
    "df.groupby([df.merchant])['amount_usd_in_cents'].mean()"
   ]
  },
  {
   "cell_type": "code",
   "execution_count": 96,
   "id": "b239966a",
   "metadata": {},
   "outputs": [
    {
     "name": "stdout",
     "output_type": "stream",
     "text": [
      "9\n"
     ]
    }
   ],
   "source": [
    "# Import the 'date' class from the 'datetime' module\n",
    "from datetime import date\n",
    "\n",
    "# Define a start date as July 2, 2014\n",
    "f_date = date(2014, 7, 2)\n",
    "\n",
    "# Define an end date as July 11, 2014\n",
    "l_date = date(2014, 7, 11)\n",
    "\n",
    "# Calculate the difference between the end date and start date\n",
    "delta = l_date - f_date\n",
    "\n",
    "# Print the number of days in the time difference\n",
    "print(delta.days)"
   ]
  },
  {
   "cell_type": "code",
   "execution_count": 97,
   "id": "20c17372",
   "metadata": {},
   "outputs": [],
   "source": [
    "f_date = date(2034,1,1)"
   ]
  },
  {
   "cell_type": "code",
   "execution_count": 111,
   "id": "d9557298",
   "metadata": {},
   "outputs": [
    {
     "data": {
      "text/html": [
       "<div>\n",
       "<style scoped>\n",
       "    .dataframe tbody tr th:only-of-type {\n",
       "        vertical-align: middle;\n",
       "    }\n",
       "\n",
       "    .dataframe tbody tr th {\n",
       "        vertical-align: top;\n",
       "    }\n",
       "\n",
       "    .dataframe thead th {\n",
       "        text-align: right;\n",
       "    }\n",
       "</style>\n",
       "<table border=\"1\" class=\"dataframe\">\n",
       "  <thead>\n",
       "    <tr style=\"text-align: right;\">\n",
       "      <th></th>\n",
       "      <th>merchant</th>\n",
       "      <th>time</th>\n",
       "      <th>amount_usd_in_cents</th>\n",
       "    </tr>\n",
       "  </thead>\n",
       "  <tbody>\n",
       "    <tr>\n",
       "      <th>0</th>\n",
       "      <td>d087d4c321</td>\n",
       "      <td>2034-12-11 22:16:41</td>\n",
       "      <td>5059</td>\n",
       "    </tr>\n",
       "    <tr>\n",
       "      <th>17</th>\n",
       "      <td>8c182909bd</td>\n",
       "      <td>2034-12-25 19:17:18</td>\n",
       "      <td>12526</td>\n",
       "    </tr>\n",
       "    <tr>\n",
       "      <th>18</th>\n",
       "      <td>62970d7c2e</td>\n",
       "      <td>2034-11-18 00:38:19</td>\n",
       "      <td>4657</td>\n",
       "    </tr>\n",
       "    <tr>\n",
       "      <th>20</th>\n",
       "      <td>ba672b3bcf</td>\n",
       "      <td>2034-12-16 20:17:02</td>\n",
       "      <td>20066</td>\n",
       "    </tr>\n",
       "    <tr>\n",
       "      <th>24</th>\n",
       "      <td>34042a00ee</td>\n",
       "      <td>2034-11-12 18:45:06</td>\n",
       "      <td>27377</td>\n",
       "    </tr>\n",
       "    <tr>\n",
       "      <th>...</th>\n",
       "      <td>...</td>\n",
       "      <td>...</td>\n",
       "      <td>...</td>\n",
       "    </tr>\n",
       "    <tr>\n",
       "      <th>99963</th>\n",
       "      <td>fb30ba7dee</td>\n",
       "      <td>2034-11-18 14:53:14</td>\n",
       "      <td>397521</td>\n",
       "    </tr>\n",
       "    <tr>\n",
       "      <th>99974</th>\n",
       "      <td>a66fdb965a</td>\n",
       "      <td>2034-11-28 22:07:24</td>\n",
       "      <td>3750</td>\n",
       "    </tr>\n",
       "    <tr>\n",
       "      <th>99976</th>\n",
       "      <td>dfabb4eb2d</td>\n",
       "      <td>2034-11-03 00:15:01</td>\n",
       "      <td>5045</td>\n",
       "    </tr>\n",
       "    <tr>\n",
       "      <th>99977</th>\n",
       "      <td>d9c961837d</td>\n",
       "      <td>2034-10-02 18:12:51</td>\n",
       "      <td>66841</td>\n",
       "    </tr>\n",
       "    <tr>\n",
       "      <th>99978</th>\n",
       "      <td>754d6ace85</td>\n",
       "      <td>2034-12-09 22:18:55</td>\n",
       "      <td>18169</td>\n",
       "    </tr>\n",
       "  </tbody>\n",
       "</table>\n",
       "<p>25041 rows × 3 columns</p>\n",
       "</div>"
      ],
      "text/plain": [
       "         merchant                 time  amount_usd_in_cents\n",
       "0      d087d4c321  2034-12-11 22:16:41                 5059\n",
       "17     8c182909bd  2034-12-25 19:17:18                12526\n",
       "18     62970d7c2e  2034-11-18 00:38:19                 4657\n",
       "20     ba672b3bcf  2034-12-16 20:17:02                20066\n",
       "24     34042a00ee  2034-11-12 18:45:06                27377\n",
       "...           ...                  ...                  ...\n",
       "99963  fb30ba7dee  2034-11-18 14:53:14               397521\n",
       "99974  a66fdb965a  2034-11-28 22:07:24                 3750\n",
       "99976  dfabb4eb2d  2034-11-03 00:15:01                 5045\n",
       "99977  d9c961837d  2034-10-02 18:12:51                66841\n",
       "99978  754d6ace85  2034-12-09 22:18:55                18169\n",
       "\n",
       "[25041 rows x 3 columns]"
      ]
     },
     "execution_count": 111,
     "metadata": {},
     "output_type": "execute_result"
    }
   ],
   "source": [
    "df.loc[(df['time'] >= '2034-1-1')]"
   ]
  },
  {
   "cell_type": "code",
   "execution_count": 106,
   "id": "7baed87e",
   "metadata": {},
   "outputs": [],
   "source": [
    "#(df.loc[(df['time'] >= '2034-1-1')]).date.dt.day.value_counts()\n"
   ]
  },
  {
   "cell_type": "code",
   "execution_count": 276,
   "id": "5b022597",
   "metadata": {},
   "outputs": [],
   "source": [
    "#avg_time_btw_trans = df.groupby('merchant').time.apply(lambda x: (x - x.min()).astype('m8[h]').mean()).reset_index()"
   ]
  },
  {
   "cell_type": "code",
   "execution_count": null,
   "id": "8b2fbfff",
   "metadata": {},
   "outputs": [],
   "source": [
    "df2 = df.groupby(\"merchant\").apply(\n",
    "    lambda df: (df.time - df.SaleDate.shift(1)).dt.days).reset_index()\n",
    "df2 = df2.rename(columns={'SaleDate': 'time-between-sales'})\n",
    "df2.index = df2.level_1"
   ]
  },
  {
   "cell_type": "code",
   "execution_count": 115,
   "id": "5427b4c3",
   "metadata": {},
   "outputs": [
    {
     "data": {
      "text/plain": [
       "'2034-12-11 22:16:41'"
      ]
     },
     "execution_count": 115,
     "metadata": {},
     "output_type": "execute_result"
    }
   ],
   "source": [
    "df.time.iloc[0]"
   ]
  },
  {
   "cell_type": "code",
   "execution_count": null,
   "id": "0485a16e",
   "metadata": {},
   "outputs": [],
   "source": [
    "from datetime import datetime\n",
    "\n",
    "a=pd.to_datetime(datetime.fromtimestamp(pd.to_timedelta(df['time'].mean().total_seconds())))"
   ]
  },
  {
   "cell_type": "code",
   "execution_count": 118,
   "id": "64858dca",
   "metadata": {},
   "outputs": [
    {
     "name": "stdout",
     "output_type": "stream",
     "text": [
      "Empty DataFrame\n",
      "Columns: [Trans Amount Avg]\n",
      "Index: []\n"
     ]
    }
   ],
   "source": [
    "print(a)"
   ]
  },
  {
   "cell_type": "code",
   "execution_count": 119,
   "id": "4245b0fd",
   "metadata": {},
   "outputs": [
    {
     "name": "stderr",
     "output_type": "stream",
     "text": [
      "C:\\Users\\1126692\\AppData\\Local\\Temp\\ipykernel_23752\\423980970.py:1: UserWarning: The argument 'infer_datetime_format' is deprecated and will be removed in a future version. A strict version of it is now the default, see https://pandas.pydata.org/pdeps/0004-consistent-to-datetime-parsing.html. You can safely remove this argument.\n",
      "  a=pd.to_datetime(df['time'], infer_datetime_format=True)\n"
     ]
    }
   ],
   "source": [
    "a=pd.to_datetime(df['time'], infer_datetime_format=True)"
   ]
  },
  {
   "cell_type": "code",
   "execution_count": 120,
   "id": "ffdf6652",
   "metadata": {},
   "outputs": [
    {
     "data": {
      "text/plain": [
       "0       2034-12-11 22:16:41\n",
       "1       2034-08-13 21:11:59\n",
       "2       2033-06-05 21:15:00\n",
       "3       2034-04-28 19:55:01\n",
       "4       2034-07-26 04:37:05\n",
       "                ...        \n",
       "99995   2034-05-26 14:35:28\n",
       "99996   2033-02-22 04:17:02\n",
       "99997   2033-12-26 18:52:50\n",
       "99998   2034-02-01 05:31:12\n",
       "99999   2034-05-24 21:53:23\n",
       "Name: time, Length: 100000, dtype: datetime64[ns]"
      ]
     },
     "execution_count": 120,
     "metadata": {},
     "output_type": "execute_result"
    }
   ],
   "source": [
    "a"
   ]
  },
  {
   "cell_type": "code",
   "execution_count": 130,
   "id": "b4f1f98c",
   "metadata": {},
   "outputs": [],
   "source": [
    "a=df.groupby([df.merchant])['time']"
   ]
  },
  {
   "cell_type": "code",
   "execution_count": 131,
   "id": "53c88b8b",
   "metadata": {},
   "outputs": [
    {
     "name": "stdout",
     "output_type": "stream",
     "text": [
      "<pandas.core.groupby.generic.SeriesGroupBy object at 0x000001C2D4D9C550>\n"
     ]
    }
   ],
   "source": [
    "print(a)"
   ]
  },
  {
   "cell_type": "code",
   "execution_count": 273,
   "id": "f936c6e5",
   "metadata": {},
   "outputs": [],
   "source": [
    "#df.groupby([df.merchant])['time'].apply(lambda x: (x.days))"
   ]
  },
  {
   "cell_type": "code",
   "execution_count": 274,
   "id": "bb5cbcdb",
   "metadata": {},
   "outputs": [],
   "source": [
    "#df.groupby([df.merchant])['time'].agg('mean')"
   ]
  },
  {
   "cell_type": "code",
   "execution_count": 275,
   "id": "e4498c0e",
   "metadata": {},
   "outputs": [],
   "source": [
    "#df.groupby([df.merchant])['time'].apply(lambda x: (2035-1-1 -x.max()))"
   ]
  },
  {
   "cell_type": "code",
   "execution_count": 151,
   "id": "bbf52ba5",
   "metadata": {},
   "outputs": [
    {
     "data": {
      "text/plain": [
       "str"
      ]
     },
     "execution_count": 151,
     "metadata": {},
     "output_type": "execute_result"
    }
   ],
   "source": [
    "type(df.iloc[3][1])"
   ]
  },
  {
   "cell_type": "code",
   "execution_count": 152,
   "id": "fd5ff409",
   "metadata": {},
   "outputs": [],
   "source": [
    "from datetime import datetime\n",
    "\n",
    "date_str = '2023-02-28 14:30:00+05:30'\n",
    "date_format = '%Y-%m-%d %H:%M:%S%z'\n",
    "\n",
    "date_obj = datetime.strptime(date_str, date_format)"
   ]
  },
  {
   "cell_type": "code",
   "execution_count": 153,
   "id": "c7deaef2",
   "metadata": {},
   "outputs": [
    {
     "name": "stdout",
     "output_type": "stream",
     "text": [
      "2023-02-28 14:30:00+05:30\n"
     ]
    }
   ],
   "source": [
    "print(date_obj)"
   ]
  },
  {
   "cell_type": "code",
   "execution_count": 154,
   "id": "2159f419",
   "metadata": {},
   "outputs": [
    {
     "data": {
      "text/plain": [
       "datetime.datetime"
      ]
     },
     "execution_count": 154,
     "metadata": {},
     "output_type": "execute_result"
    }
   ],
   "source": [
    "type(date_obj)"
   ]
  },
  {
   "cell_type": "code",
   "execution_count": 155,
   "id": "6ea85612",
   "metadata": {},
   "outputs": [],
   "source": [
    "dat1 = df.iloc[3][1]"
   ]
  },
  {
   "cell_type": "code",
   "execution_count": 156,
   "id": "4a5cfc6c",
   "metadata": {},
   "outputs": [
    {
     "name": "stdout",
     "output_type": "stream",
     "text": [
      "2034-04-28 19:55:01\n"
     ]
    }
   ],
   "source": [
    "print(dat1)"
   ]
  },
  {
   "cell_type": "code",
   "execution_count": 157,
   "id": "b5807b22",
   "metadata": {},
   "outputs": [
    {
     "ename": "TypeError",
     "evalue": "unsupported operand type(s) for -: 'str' and 'str'",
     "output_type": "error",
     "traceback": [
      "\u001b[1;31m---------------------------------------------------------------------------\u001b[0m",
      "\u001b[1;31mTypeError\u001b[0m                                 Traceback (most recent call last)",
      "Cell \u001b[1;32mIn[157], line 1\u001b[0m\n\u001b[1;32m----> 1\u001b[0m \u001b[38;5;28mprint\u001b[39m(dat1 \u001b[38;5;241m-\u001b[39m dat1)\n",
      "\u001b[1;31mTypeError\u001b[0m: unsupported operand type(s) for -: 'str' and 'str'"
     ]
    }
   ],
   "source": [
    "print(dat1 - dat1)"
   ]
  },
  {
   "cell_type": "code",
   "execution_count": 158,
   "id": "387ef65e",
   "metadata": {},
   "outputs": [],
   "source": [
    "from datetime import datetime\n",
    "\n",
    "# start time and end time\n",
    "start_time = datetime.strptime(\"2:13:57\", \"%H:%M:%S\")\n",
    "end_time = datetime.strptime(\"11:46:38\", \"%H:%M:%S\")"
   ]
  },
  {
   "cell_type": "code",
   "execution_count": 159,
   "id": "b2e7e89e",
   "metadata": {},
   "outputs": [
    {
     "data": {
      "text/plain": [
       "datetime.datetime(1900, 1, 1, 2, 13, 57)"
      ]
     },
     "execution_count": 159,
     "metadata": {},
     "output_type": "execute_result"
    }
   ],
   "source": [
    "start_time"
   ]
  },
  {
   "cell_type": "code",
   "execution_count": 160,
   "id": "bba07e82",
   "metadata": {},
   "outputs": [
    {
     "data": {
      "text/plain": [
       "datetime.timedelta(days=-1, seconds=52039)"
      ]
     },
     "execution_count": 160,
     "metadata": {},
     "output_type": "execute_result"
    }
   ],
   "source": [
    "start_time - end_time"
   ]
  },
  {
   "cell_type": "code",
   "execution_count": 167,
   "id": "ff0e9184",
   "metadata": {},
   "outputs": [
    {
     "data": {
      "text/plain": [
       "73986.87933097889"
      ]
     },
     "execution_count": 167,
     "metadata": {},
     "output_type": "execute_result"
    }
   ],
   "source": [
    "import datetime\n",
    "a = datetime.datetime.now()\n",
    "b = datetime.datetime(2015,8,25,0,0,0,0)\n",
    "c = a - b\n",
    "c.total_seconds()/3600.0\n"
   ]
  },
  {
   "cell_type": "code",
   "execution_count": null,
   "id": "6dbaa5e7",
   "metadata": {},
   "outputs": [],
   "source": [
    "df['tot_hour_diff'] = (df.from_date - df.to_date) / pd.Timedelta(hours=1)"
   ]
  },
  {
   "cell_type": "code",
   "execution_count": 170,
   "id": "ba6598aa",
   "metadata": {},
   "outputs": [],
   "source": [
    "most_recent = (2035-1-1 - df.groupby([df.merchant])['time'].max()/pd.Timedelta(hours=1)).max()"
   ]
  },
  {
   "cell_type": "code",
   "execution_count": 171,
   "id": "d8572d2f",
   "metadata": {},
   "outputs": [
    {
     "name": "stdout",
     "output_type": "stream",
     "text": [
      "merchant\n",
      "00057d4302    2033-05-30 04:20:31\n",
      "000ed1585f    2034-07-10 15:57:48\n",
      "000f8c3297    2034-11-03 12:56:38\n",
      "0020aefbd9    2034-05-30 21:55:06\n",
      "0026f256ac    2033-09-15 01:17:32\n",
      "                     ...         \n",
      "ffb94e1865    2034-12-30 01:24:24\n",
      "ffc46fd720    2034-04-27 13:18:08\n",
      "ffe1f6b51a    2033-12-18 03:20:59\n",
      "ffe26b900d    2034-08-16 14:58:20\n",
      "fff1754102    2034-09-18 22:59:40\n",
      "Name: time, Length: 7902, dtype: object\n"
     ]
    }
   ],
   "source": [
    "print(most_recent)"
   ]
  },
  {
   "cell_type": "code",
   "execution_count": 173,
   "id": "b8a80693",
   "metadata": {},
   "outputs": [
    {
     "data": {
      "text/plain": [
       "'2034-12-31 07:55:58'"
      ]
     },
     "execution_count": 173,
     "metadata": {},
     "output_type": "execute_result"
    }
   ],
   "source": [
    "df.time.max()"
   ]
  },
  {
   "cell_type": "code",
   "execution_count": 175,
   "id": "f977e720",
   "metadata": {},
   "outputs": [
    {
     "data": {
      "text/plain": [
       "pandas.core.series.Series"
      ]
     },
     "execution_count": 175,
     "metadata": {},
     "output_type": "execute_result"
    }
   ],
   "source": [
    "type(most_recent)"
   ]
  },
  {
   "cell_type": "markdown",
   "id": "71db0391",
   "metadata": {},
   "source": [
    "most_recent[0]"
   ]
  },
  {
   "cell_type": "code",
   "execution_count": 177,
   "id": "5ed51d34",
   "metadata": {},
   "outputs": [
    {
     "data": {
      "text/plain": [
       "'2034-12-31 07:55:58'"
      ]
     },
     "execution_count": 177,
     "metadata": {},
     "output_type": "execute_result"
    }
   ],
   "source": [
    "df.time.max()"
   ]
  },
  {
   "cell_type": "code",
   "execution_count": 178,
   "id": "ea210b49",
   "metadata": {},
   "outputs": [],
   "source": [
    "date_now = pd.to_datetime('1/1/2035 00:00')"
   ]
  },
  {
   "cell_type": "code",
   "execution_count": 182,
   "id": "c9af55b5",
   "metadata": {},
   "outputs": [
    {
     "data": {
      "text/plain": [
       "Timestamp('2035-01-01 00:00:00')"
      ]
     },
     "execution_count": 182,
     "metadata": {},
     "output_type": "execute_result"
    }
   ],
   "source": [
    "date_now"
   ]
  },
  {
   "cell_type": "code",
   "execution_count": 188,
   "id": "f7a520d5",
   "metadata": {},
   "outputs": [
    {
     "data": {
      "text/plain": [
       "Timedelta('0 days 16:04:02')"
      ]
     },
     "execution_count": 188,
     "metadata": {},
     "output_type": "execute_result"
    }
   ],
   "source": [
    "date_now - pd.to_datetime(df.time.max())"
   ]
  },
  {
   "cell_type": "code",
   "execution_count": 190,
   "id": "6f09e77c",
   "metadata": {},
   "outputs": [
    {
     "name": "stdout",
     "output_type": "stream",
     "text": [
      "**Q4: Recency of the last transaction:  0 days 16:04:02\n"
     ]
    }
   ],
   "source": [
    "date_now = pd.to_datetime('1/1/2035 00:00')\n",
    "trans_recency = date_now - pd.to_datetime(df.time.max())\n",
    "print(\"**Q4: Recency of the last transaction: \", trans_recency)"
   ]
  },
  {
   "cell_type": "code",
   "execution_count": 277,
   "id": "72e4282a",
   "metadata": {},
   "outputs": [
    {
     "name": "stdout",
     "output_type": "stream",
     "text": [
      "**Q1: Average Transaction amount for each merchant :\n"
     ]
    },
    {
     "data": {
      "text/plain": [
       "merchant\n",
       "00057d4302     1217.500000\n",
       "000ed1585f    28050.250000\n",
       "000f8c3297     6635.562500\n",
       "0020aefbd9     3589.000000\n",
       "0026f256ac    34880.000000\n",
       "                  ...     \n",
       "ffb94e1865     7484.969432\n",
       "ffc46fd720     2760.000000\n",
       "ffe1f6b51a     5462.666667\n",
       "ffe26b900d    21610.000000\n",
       "fff1754102    10415.500000\n",
       "Name: amount_usd_in_cents, Length: 7902, dtype: float64"
      ]
     },
     "execution_count": 277,
     "metadata": {},
     "output_type": "execute_result"
    }
   ],
   "source": [
    "print(\"**Q1: Average Transaction amount for each merchant :\")\n",
    "df.groupby([df.merchant])['amount_usd_in_cents'].mean()"
   ]
  },
  {
   "cell_type": "code",
   "execution_count": 304,
   "id": "017bf811",
   "metadata": {},
   "outputs": [],
   "source": [
    "#pp =df.groupby([df.merchant])['time'].sort_values(by=[timestamp'])\n",
    "#print(pp)\n",
    "#df.groupby([df.merchant])['time'].apply(apply(\n",
    "#    lambda x: x.sort())"
   ]
  },
  {
   "cell_type": "code",
   "execution_count": 315,
   "id": "5d32f59e",
   "metadata": {},
   "outputs": [
    {
     "name": "stdout",
     "output_type": "stream",
     "text": [
      "         merchant                 time\n",
      "0      d087d4c321  2034-12-11 22:16:41\n",
      "1      fe1cb2e840  2034-08-13 21:11:59\n",
      "2      878047f4b9  2033-06-05 21:15:00\n",
      "3      3932608d23  2034-04-28 19:55:01\n",
      "4      84a09b4188  2034-07-26 04:37:05\n",
      "...           ...                  ...\n",
      "99995  0a309e574d  2034-05-26 14:35:28\n",
      "99996  e9d9eacb17  2033-02-22 04:17:02\n",
      "99997  d6fe440e06  2033-12-26 18:52:50\n",
      "99998  4367df3b1e  2034-02-01 05:31:12\n",
      "99999  59adb5bff8  2034-05-24 21:53:23\n",
      "\n",
      "[100000 rows x 2 columns]\n",
      "**Q1: sorted data frame with only merchant and time columns:\n",
      "         merchant                 time\n",
      "17644  913696f5ff  2034-12-31 07:55:58\n",
      "73444  7851aedb5b  2034-12-31 07:27:21\n",
      "83787  164ba405db  2034-12-31 07:14:04\n",
      "8031   de9e4801de  2034-12-31 06:55:16\n",
      "5128   f7ba9d03d4  2034-12-31 06:54:38\n",
      "...           ...                  ...\n",
      "26065  878047f4b9  2033-01-01 23:49:57\n",
      "90334  81512d8413  2033-01-01 22:45:05\n",
      "41799  a8ff2d667e  2033-01-01 18:39:19\n",
      "91736  32cd721943  2033-01-01 16:57:21\n",
      "70995  81512d8413  2033-01-01 16:16:19\n",
      "\n",
      "[100000 rows x 2 columns]\n",
      "**Q1: print time deltas between all transaction :\n",
      "         merchant                 time           delta\n",
      "17644  913696f5ff  2034-12-31 07:55:58 0 days 00:28:37\n",
      "73444  7851aedb5b  2034-12-31 07:27:21 0 days 00:13:17\n",
      "83787  164ba405db  2034-12-31 07:14:04 0 days 00:18:48\n",
      "8031   de9e4801de  2034-12-31 06:55:16 0 days 00:00:38\n",
      "5128   f7ba9d03d4  2034-12-31 06:54:38 0 days 00:00:05\n",
      "...           ...                  ...             ...\n",
      "26065  878047f4b9  2033-01-01 23:49:57 0 days 01:04:52\n",
      "90334  81512d8413  2033-01-01 22:45:05 0 days 04:05:46\n",
      "41799  a8ff2d667e  2033-01-01 18:39:19 0 days 01:41:58\n",
      "91736  32cd721943  2033-01-01 16:57:21 0 days 00:41:02\n",
      "70995  81512d8413  2033-01-01 16:16:19             NaT\n",
      "\n",
      "[100000 rows x 3 columns]\n",
      "**Q1: avg_time_btwn_trans in hours:\n",
      "0.17487835694444445\n"
     ]
    }
   ],
   "source": [
    "# • avg time btwn trans: Average time between transactions (in hours).\n",
    "data[0:0]\n",
    "data = df[['merchant','time']].copy()\n",
    "print(data)\n",
    "data1 = df.sort_values(by=['time'], ascending=False)\n",
    "data = data1[['merchant','time']].copy()\n",
    "print(\"**Q1: sorted data frame with only merchant and time columns:\")\n",
    "print(data)\n",
    "data['delta'] = pd.to_datetime(data['time']).diff(-1)\n",
    "print(\"**Q1: print time deltas between all transaction :\")\n",
    "print(data)\n",
    "#avg_time_btwn_trans = data.delta.mean().total_seconds() / 3600\n",
    "print('**Q1: avg_time_btwn_trans in hours:')\n",
    "print(avg_time_btwn_trans )"
   ]
  },
  {
   "cell_type": "code",
   "execution_count": 323,
   "id": "6ca4ebbe",
   "metadata": {},
   "outputs": [
    {
     "name": "stdout",
     "output_type": "stream",
     "text": [
      "**Q1:Max Transaction amount for each merchant :\n",
      "merchant\n",
      "00057d4302     1279\n",
      "000ed1585f    35784\n",
      "000f8c3297    15047\n",
      "0020aefbd9     3589\n",
      "0026f256ac    34880\n",
      "              ...  \n",
      "ffb94e1865    39946\n",
      "ffc46fd720     2760\n",
      "ffe1f6b51a     7131\n",
      "ffe26b900d    29324\n",
      "fff1754102    11713\n",
      "Name: amount_usd_in_cents, Length: 7902, dtype: int64\n"
     ]
    }
   ],
   "source": [
    "print(\"**Q1:Max Transaction amount for each merchant :\")\n",
    "df.groupby([df.merchant])['amount_usd_in_cents'].max()\n",
    "print(df.groupby([df.merchant])['amount_usd_in_cents'].max())"
   ]
  },
  {
   "cell_type": "code",
   "execution_count": 322,
   "id": "7b041a67",
   "metadata": {},
   "outputs": [
    {
     "name": "stdout",
     "output_type": "stream",
     "text": [
      "**Q1:Lowest Transaction amount for each merchant :\n"
     ]
    },
    {
     "data": {
      "text/plain": [
       "merchant\n",
       "00057d4302     1156\n",
       "000ed1585f    21932\n",
       "000f8c3297     3455\n",
       "0020aefbd9     3589\n",
       "0026f256ac    34880\n",
       "              ...  \n",
       "ffb94e1865     1081\n",
       "ffc46fd720     2760\n",
       "ffe1f6b51a     4565\n",
       "ffe26b900d    13896\n",
       "fff1754102     9118\n",
       "Name: amount_usd_in_cents, Length: 7902, dtype: int64"
      ]
     },
     "execution_count": 322,
     "metadata": {},
     "output_type": "execute_result"
    }
   ],
   "source": [
    "print(\"**Q1:Lowest Transaction amount for each merchant :\")\n",
    "df.groupby([df.merchant])['amount_usd_in_cents'].min()"
   ]
  },
  {
   "cell_type": "code",
   "execution_count": 334,
   "id": "8a850cb2",
   "metadata": {},
   "outputs": [
    {
     "name": "stdout",
     "output_type": "stream",
     "text": [
      "**Q1:Average growth rate amount for each merchant :\n",
      "merchant\n",
      "00057d4302      123\n",
      "000ed1585f    13852\n",
      "000f8c3297    11592\n",
      "0020aefbd9        0\n",
      "0026f256ac        0\n",
      "              ...  \n",
      "ffb94e1865    38865\n",
      "ffc46fd720        0\n",
      "ffe1f6b51a     2566\n",
      "ffe26b900d    15428\n",
      "fff1754102     2595\n",
      "Name: amount_usd_in_cents, Length: 7902, dtype: int64\n"
     ]
    },
    {
     "data": {
      "text/plain": [
       "merchant\n",
       "00057d4302      123\n",
       "000ed1585f    13852\n",
       "000f8c3297    11592\n",
       "0020aefbd9        0\n",
       "0026f256ac        0\n",
       "Name: amount_usd_in_cents, dtype: int64"
      ]
     },
     "execution_count": 334,
     "metadata": {},
     "output_type": "execute_result"
    }
   ],
   "source": [
    "print(\"**Q1:Average growth rate amount for each merchant :\")\n",
    "#pp = df.groupby([df.merchant])['amount_usd_in_cents'].copy()\n",
    "pp=df.groupby([df.merchant])['amount_usd_in_cents'].apply(lambda x: (x.max()-x.min()))\n",
    "print(pp)\n",
    "pp.head()"
   ]
  },
  {
   "cell_type": "code",
   "execution_count": 381,
   "id": "3296bd92",
   "metadata": {},
   "outputs": [
    {
     "name": "stdout",
     "output_type": "stream",
     "text": [
      "**Q1:Average growth rate amount for each merchant :\n",
      "merchant\n",
      "00057d4302      61.500000\n",
      "000ed1585f    3463.000000\n",
      "000f8c3297     724.500000\n",
      "0020aefbd9       0.000000\n",
      "0026f256ac       0.000000\n",
      "                 ...     \n",
      "ffb94e1865     169.716157\n",
      "ffc46fd720       0.000000\n",
      "ffe1f6b51a     855.333333\n",
      "ffe26b900d    7714.000000\n",
      "fff1754102    1297.500000\n",
      "Name: amount_usd_in_cents, Length: 7902, dtype: float64\n"
     ]
    }
   ],
   "source": [
    "print(\"**Q1:Average growth rate amount for each merchant :\")\n",
    "merchant_num = df.groupby([df.merchant])['amount_usd_in_cents'].apply(lambda x: (x.max()-x.min())/x.size)\n",
    "print(merchant_num)"
   ]
  },
  {
   "cell_type": "code",
   "execution_count": null,
   "id": "42123b0e",
   "metadata": {},
   "outputs": [],
   "source": []
  },
  {
   "cell_type": "code",
   "execution_count": 377,
   "id": "5a076adb",
   "metadata": {},
   "outputs": [
    {
     "name": "stdout",
     "output_type": "stream",
     "text": [
      "**Q1:Average growth rate amount for each merchant :\n"
     ]
    },
    {
     "data": {
      "text/plain": [
       "merchant\n",
       "00057d4302      61.500000\n",
       "000ed1585f    3463.000000\n",
       "000f8c3297     724.500000\n",
       "0020aefbd9       0.000000\n",
       "0026f256ac       0.000000\n",
       "                 ...     \n",
       "ffb94e1865     169.716157\n",
       "ffc46fd720       0.000000\n",
       "ffe1f6b51a     855.333333\n",
       "ffe26b900d    7714.000000\n",
       "fff1754102    1297.500000\n",
       "Name: amount_usd_in_cents, Length: 7902, dtype: float64"
      ]
     },
     "execution_count": 377,
     "metadata": {},
     "output_type": "execute_result"
    }
   ],
   "source": [
    "print(\"**Q1:Average growth rate amount for each merchant :\")\n",
    "df.groupby([df.merchant])['amount_usd_in_cents'].apply(lambda x: (x.max()-x.min())/x.size)"
   ]
  },
  {
   "cell_type": "code",
   "execution_count": 367,
   "id": "f2b891a1",
   "metadata": {},
   "outputs": [
    {
     "name": "stdout",
     "output_type": "stream",
     "text": [
      "**Q1:Average growth rate amount for each merchant :\n"
     ]
    }
   ],
   "source": [
    "#import numpy as np\n",
    "from scipy.stats import linregress\n",
    "print(\"**Q1:Average growth rate amount for each merchant :\")\n",
    "#df.groupby([df.merchant])['amount_usd_in_cents'].apply(lambda x: linregress(range(x), x.values)[0])"
   ]
  },
  {
   "cell_type": "code",
   "execution_count": null,
   "id": "553ca503",
   "metadata": {},
   "outputs": [],
   "source": [
    "#import numpy as np\n",
    "from scipy.stats import linregress\n",
    "print(\"**Q1:Average growth rate amount for each merchant :\")\n",
    "df.groupby([df.merchant])['amount_usd_in_cents'].apply(lambda x: linregress(range(x), x.values)[0])"
   ]
  },
  {
   "cell_type": "code",
   "execution_count": null,
   "id": "d0c95a54",
   "metadata": {},
   "outputs": [],
   "source": [
    "slopes = df.groupby([df.merchant])['amount_usd_in_cents'].apply(lambda x: np.polyfit(x, x, 1)[0])\n",
    "df['slope'] = df['col1'].rolling(5).apply(lambda s: linregress(range(5), s.values)[0])"
   ]
  },
  {
   "cell_type": "code",
   "execution_count": 366,
   "id": "fd97164b",
   "metadata": {},
   "outputs": [
    {
     "name": "stdout",
     "output_type": "stream",
     "text": [
      "**Q1:Average growth rate amount for each merchant :\n"
     ]
    },
    {
     "data": {
      "text/plain": [
       "merchant\n",
       "00057d4302                                         [1279, 1156]\n",
       "000ed1585f                         [21932, 32004, 35784, 22481]\n",
       "000f8c3297    [3826, 3455, 14489, 15047, 4155, 7374, 3637, 7...\n",
       "0020aefbd9                                               [3589]\n",
       "0026f256ac                                              [34880]\n",
       "                                    ...                        \n",
       "ffb94e1865    [4381, 6430, 5703, 4168, 10454, 4399, 5633, 58...\n",
       "ffc46fd720                                               [2760]\n",
       "ffe1f6b51a                                   [4565, 7131, 4692]\n",
       "ffe26b900d                                       [29324, 13896]\n",
       "fff1754102                                        [11713, 9118]\n",
       "Name: amount_usd_in_cents, Length: 7902, dtype: object"
      ]
     },
     "execution_count": 366,
     "metadata": {},
     "output_type": "execute_result"
    }
   ],
   "source": [
    "#import numpy as np\n",
    "from scipy.stats import linregress\n",
    "print(\"**Q1:Average growth rate amount for each merchant :\")\n",
    "df.groupby([df.merchant])['amount_usd_in_cents'].apply(lambda x: x.values)"
   ]
  },
  {
   "cell_type": "code",
   "execution_count": 417,
   "id": "8342e2de",
   "metadata": {},
   "outputs": [
    {
     "name": "stdout",
     "output_type": "stream",
     "text": [
      "**Q1:Average growth rate amount for each merchant :\n"
     ]
    },
    {
     "data": {
      "text/plain": [
       "merchant\n",
       "00057d4302     -123.000000\n",
       "000ed1585f      542.700000\n",
       "000f8c3297     -265.733824\n",
       "0020aefbd9        1.000000\n",
       "0026f256ac        1.000000\n",
       "                  ...     \n",
       "ffb94e1865       -5.851684\n",
       "ffc46fd720        1.000000\n",
       "ffe1f6b51a       63.500000\n",
       "ffe26b900d   -15428.000000\n",
       "fff1754102    -2595.000000\n",
       "Name: amount_usd_in_cents, Length: 7902, dtype: float64"
      ]
     },
     "execution_count": 417,
     "metadata": {},
     "output_type": "execute_result"
    }
   ],
   "source": [
    "#import numpy as np\n",
    "from scipy.stats import linregress\n",
    "print(\"**Q1:Average growth rate amount for each merchant :\")\n",
    "df.groupby([df.merchant])['amount_usd_in_cents'].apply(lambda x: linregress(range(len(x)),x)[0] if len(x) >1 else 1)"
   ]
  },
  {
   "cell_type": "code",
   "execution_count": null,
   "id": "959de278",
   "metadata": {},
   "outputs": [],
   "source": [
    "df2 = df.groupby(\"merchant\")['time'.apply(\n",
    "    lambda df: (df.time - df.time.shift(1)).dt.days).reset_index()\n",
    "df2 = df2.rename(columns={'SaleDate': 'time-between-sales'})\n",
    "df2.index = df2.level_1"
   ]
  },
  {
   "cell_type": "code",
   "execution_count": 364,
   "id": "0c236e1f",
   "metadata": {},
   "outputs": [
    {
     "data": {
      "text/plain": [
       "range(0, 3)"
      ]
     },
     "execution_count": 364,
     "metadata": {},
     "output_type": "execute_result"
    }
   ],
   "source": [
    "range(3)"
   ]
  },
  {
   "cell_type": "code",
   "execution_count": 384,
   "id": "259d0950",
   "metadata": {},
   "outputs": [
    {
     "data": {
      "text/plain": [
       "542.7"
      ]
     },
     "execution_count": 384,
     "metadata": {},
     "output_type": "execute_result"
    }
   ],
   "source": [
    "linregress(range(4),[21932, 32004, 35784, 22481])[0]"
   ]
  },
  {
   "cell_type": "code",
   "execution_count": 401,
   "id": "267383cb",
   "metadata": {},
   "outputs": [
    {
     "data": {
      "text/plain": [
       "-123.0"
      ]
     },
     "execution_count": 401,
     "metadata": {},
     "output_type": "execute_result"
    }
   ],
   "source": [
    "linregress(range(2),[1279, 1156])[0]"
   ]
  },
  {
   "cell_type": "code",
   "execution_count": 402,
   "id": "eaea8f27",
   "metadata": {},
   "outputs": [],
   "source": [
    "#from scipy.stats import linregress\n",
    "#print(\"**Q1:Average growth rate amount for each merchant :\")\n",
    "#df.groupby([df.merchant])['amount_usd_in_cents'].apply(lambda x: linregress(range(x), sorted(x.values))[0])"
   ]
  },
  {
   "cell_type": "code",
   "execution_count": 396,
   "id": "8cc21905",
   "metadata": {},
   "outputs": [
    {
     "name": "stdout",
     "output_type": "stream",
     "text": [
      "**Q1:Average growth rate amount for each merchant :\n"
     ]
    },
    {
     "data": {
      "text/plain": [
       "merchant\n",
       "00057d4302                                         [1156, 1279]\n",
       "000ed1585f                         [21932, 22481, 32004, 35784]\n",
       "000f8c3297    [3455, 3637, 3643, 3643, 3643, 3686, 3826, 415...\n",
       "0020aefbd9                                               [3589]\n",
       "0026f256ac                                              [34880]\n",
       "                                    ...                        \n",
       "ffb94e1865    [1081, 3767, 3787, 3794, 3831, 3840, 3846, 403...\n",
       "ffc46fd720                                               [2760]\n",
       "ffe1f6b51a                                   [4565, 4692, 7131]\n",
       "ffe26b900d                                       [13896, 29324]\n",
       "fff1754102                                        [9118, 11713]\n",
       "Name: amount_usd_in_cents, Length: 7902, dtype: object"
      ]
     },
     "execution_count": 396,
     "metadata": {},
     "output_type": "execute_result"
    }
   ],
   "source": [
    "from scipy.stats import linregress\n",
    "print(\"**Q1:Average growth rate amount for each merchant :\")\n",
    "df.groupby([df.merchant])['amount_usd_in_cents'].apply(lambda x:  sorted(x.values))"
   ]
  },
  {
   "cell_type": "code",
   "execution_count": 408,
   "id": "0a76fdbe",
   "metadata": {},
   "outputs": [
    {
     "name": "stdout",
     "output_type": "stream",
     "text": [
      "**Q1:Average growth rate amount for each merchant :\n"
     ]
    },
    {
     "data": {
      "text/plain": [
       "merchant\n",
       "00057d4302                                         [1156, 1279]\n",
       "000ed1585f                         [21932, 22481, 32004, 35784]\n",
       "000f8c3297    [3455, 3637, 3643, 3643, 3643, 3686, 3826, 415...\n",
       "0020aefbd9                                               [3589]\n",
       "0026f256ac                                              [34880]\n",
       "                                    ...                        \n",
       "ffb94e1865    [1081, 3767, 3787, 3794, 3831, 3840, 3846, 403...\n",
       "ffc46fd720                                               [2760]\n",
       "ffe1f6b51a                                   [4565, 4692, 7131]\n",
       "ffe26b900d                                       [13896, 29324]\n",
       "fff1754102                                        [9118, 11713]\n",
       "Name: amount_usd_in_cents, Length: 7902, dtype: object"
      ]
     },
     "execution_count": 408,
     "metadata": {},
     "output_type": "execute_result"
    }
   ],
   "source": [
    "from scipy.stats import linregress\n",
    "print(\"**Q1:Average growth rate amount for each merchant :\")\n",
    "df.groupby([df.merchant])['amount_usd_in_cents'].apply(lambda x:  sorted(x.values))"
   ]
  },
  {
   "cell_type": "code",
   "execution_count": 395,
   "id": "b0074939",
   "metadata": {},
   "outputs": [
    {
     "name": "stdout",
     "output_type": "stream",
     "text": [
      "**Q1:Average growth rate amount for each merchant :\n"
     ]
    },
    {
     "data": {
      "text/plain": [
       "merchant         \n",
       "00057d4302  31634     1279\n",
       "            61145     1156\n",
       "000ed1585f  33565    21932\n",
       "            61838    32004\n",
       "            91379    35784\n",
       "                     ...  \n",
       "ffe1f6b51a  94259     4692\n",
       "ffe26b900d  50768    29324\n",
       "            98986    13896\n",
       "fff1754102  13692    11713\n",
       "            51132     9118\n",
       "Name: amount_usd_in_cents, Length: 100000, dtype: int64"
      ]
     },
     "execution_count": 395,
     "metadata": {},
     "output_type": "execute_result"
    }
   ],
   "source": [
    "from scipy.stats import linregress\n",
    "print(\"**Q1:Average growth rate amount for each merchant :\")\n",
    "df.groupby([df.merchant])['amount_usd_in_cents'].apply(lambda x:  x)"
   ]
  },
  {
   "cell_type": "code",
   "execution_count": null,
   "id": "54198f76",
   "metadata": {},
   "outputs": [],
   "source": []
  }
 ],
 "metadata": {
  "kernelspec": {
   "display_name": "Python 3 (ipykernel)",
   "language": "python",
   "name": "python3"
  },
  "language_info": {
   "codemirror_mode": {
    "name": "ipython",
    "version": 3
   },
   "file_extension": ".py",
   "mimetype": "text/x-python",
   "name": "python",
   "nbconvert_exporter": "python",
   "pygments_lexer": "ipython3",
   "version": "3.11.5"
  }
 },
 "nbformat": 4,
 "nbformat_minor": 5
}
